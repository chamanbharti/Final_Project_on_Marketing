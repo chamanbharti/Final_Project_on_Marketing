{
 "cells": [
  {
   "cell_type": "code",
   "execution_count": 214,
   "metadata": {
    "collapsed": false
   },
   "outputs": [],
   "source": [
    "# Import Libraries\n",
    "import pandas as pd\n",
    "import numpy as np\n",
    "import xlsxwriter\n",
    "import matplotlib.pyplot as plt\n",
    "import csv\n",
    "import datetime\n",
    "\n",
    "# Importing statistics libraries\n",
    "import statsmodels.api as sm\n",
    "import scipy\n",
    "from scipy import stats\n",
    "\n",
    "#show plot in notebook\n",
    "%matplotlib inline \n",
    "\n",
    "#limits amount of lines pandas prints out\n",
    "from pandas import set_option \n",
    "set_option('display.max_rows', 10)"
   ]
  },
  {
   "cell_type": "markdown",
   "metadata": {},
   "source": [
    "# Importing and Cleaning Data"
   ]
  },
  {
   "cell_type": "code",
   "execution_count": 216,
   "metadata": {
    "collapsed": false
   },
   "outputs": [
    {
     "data": {
      "text/html": [
       "<div>\n",
       "<table border=\"1\" class=\"dataframe\">\n",
       "  <thead>\n",
       "    <tr style=\"text-align: right;\">\n",
       "      <th></th>\n",
       "      <th>Exchange_Rate</th>\n",
       "      <th>Customer</th>\n",
       "      <th>Field</th>\n",
       "      <th>Date_of_Order</th>\n",
       "      <th>Total_Sales</th>\n",
       "      <th>Year_of_First_Order</th>\n",
       "      <th>New_or_Returning</th>\n",
       "    </tr>\n",
       "  </thead>\n",
       "  <tbody>\n",
       "    <tr>\n",
       "      <th>0</th>\n",
       "      <td>NaN</td>\n",
       "      <td>ABB Australia</td>\n",
       "      <td>engine technology</td>\n",
       "      <td>2010-08-04</td>\n",
       "      <td>1897.60</td>\n",
       "      <td>NaN</td>\n",
       "      <td>Returning</td>\n",
       "    </tr>\n",
       "    <tr>\n",
       "      <th>1</th>\n",
       "      <td>NaN</td>\n",
       "      <td>A&amp;A Metal Products</td>\n",
       "      <td>engine technology</td>\n",
       "      <td>2010-08-16</td>\n",
       "      <td>28963.00</td>\n",
       "      <td>NaN</td>\n",
       "      <td>Returning</td>\n",
       "    </tr>\n",
       "    <tr>\n",
       "      <th>2</th>\n",
       "      <td>NaN</td>\n",
       "      <td>Analytical Engineer.</td>\n",
       "      <td>engine technology</td>\n",
       "      <td>2010-08-20</td>\n",
       "      <td>76339.00</td>\n",
       "      <td>NaN</td>\n",
       "      <td>Returning</td>\n",
       "    </tr>\n",
       "    <tr>\n",
       "      <th>3</th>\n",
       "      <td>NaN</td>\n",
       "      <td>Bombardier Inc.</td>\n",
       "      <td>aerospace</td>\n",
       "      <td>2010-08-27</td>\n",
       "      <td>24318.92</td>\n",
       "      <td>NaN</td>\n",
       "      <td>New</td>\n",
       "    </tr>\n",
       "    <tr>\n",
       "      <th>4</th>\n",
       "      <td>NaN</td>\n",
       "      <td>Beef Products Inc.</td>\n",
       "      <td>food</td>\n",
       "      <td>2010-09-15</td>\n",
       "      <td>35084.00</td>\n",
       "      <td>NaN</td>\n",
       "      <td>New</td>\n",
       "    </tr>\n",
       "  </tbody>\n",
       "</table>\n",
       "</div>"
      ],
      "text/plain": [
       "   Exchange_Rate              Customer              Field Date_of_Order  \\\n",
       "0            NaN         ABB Australia  engine technology    2010-08-04   \n",
       "1            NaN    A&A Metal Products  engine technology    2010-08-16   \n",
       "2            NaN  Analytical Engineer.  engine technology    2010-08-20   \n",
       "3            NaN       Bombardier Inc.          aerospace    2010-08-27   \n",
       "4            NaN    Beef Products Inc.               food    2010-09-15   \n",
       "\n",
       "   Total_Sales Year_of_First_Order New_or_Returning  \n",
       "0      1897.60                 NaN       Returning   \n",
       "1     28963.00                 NaN       Returning   \n",
       "2     76339.00                 NaN       Returning   \n",
       "3     24318.92                 NaN              New  \n",
       "4     35084.00                 NaN              New  "
      ]
     },
     "execution_count": 216,
     "metadata": {},
     "output_type": "execute_result"
    }
   ],
   "source": [
    "#Loading the main dataset from excel into python, specified taking data from the 'Sales' sheet\n",
    "Sales_df = pd.read_excel('../data/SalesDataA.xlsm', sheetname = 'Sales')\n",
    "# Renaming the columns \n",
    "Sales_df.columns = [['Exchange_Rate', 'Customer', 'Field', 'Date_of_Order', 'Total_Sales', 'Year_of_First_Order', 'New_or_Returning']]\n",
    "Sales_df.head()"
   ]
  },
  {
   "cell_type": "code",
   "execution_count": 152,
   "metadata": {
    "collapsed": false
   },
   "outputs": [
    {
     "data": {
      "text/html": [
       "<div>\n",
       "<table border=\"1\" class=\"dataframe\">\n",
       "  <thead>\n",
       "    <tr style=\"text-align: right;\">\n",
       "      <th></th>\n",
       "      <th>Exchange_Rate</th>\n",
       "      <th>Customer</th>\n",
       "      <th>Field</th>\n",
       "      <th>Total_Sales</th>\n",
       "      <th>Year_of_First_Order</th>\n",
       "      <th>New_or_Returning</th>\n",
       "      <th>Sales_in_CAD</th>\n",
       "    </tr>\n",
       "    <tr>\n",
       "      <th>Date_of_Order</th>\n",
       "      <th></th>\n",
       "      <th></th>\n",
       "      <th></th>\n",
       "      <th></th>\n",
       "      <th></th>\n",
       "      <th></th>\n",
       "      <th></th>\n",
       "    </tr>\n",
       "  </thead>\n",
       "  <tbody>\n",
       "    <tr>\n",
       "      <th>2010-08-04</th>\n",
       "      <td>1</td>\n",
       "      <td>ABB Australia</td>\n",
       "      <td>engine technology</td>\n",
       "      <td>1897.60</td>\n",
       "      <td>1</td>\n",
       "      <td>Returning</td>\n",
       "      <td>1897.60</td>\n",
       "    </tr>\n",
       "    <tr>\n",
       "      <th>2010-08-16</th>\n",
       "      <td>1</td>\n",
       "      <td>A&amp;A Metal Products</td>\n",
       "      <td>engine technology</td>\n",
       "      <td>28963.00</td>\n",
       "      <td>1</td>\n",
       "      <td>Returning</td>\n",
       "      <td>28963.00</td>\n",
       "    </tr>\n",
       "    <tr>\n",
       "      <th>2010-08-20</th>\n",
       "      <td>1</td>\n",
       "      <td>Analytical Engineer.</td>\n",
       "      <td>engine technology</td>\n",
       "      <td>76339.00</td>\n",
       "      <td>1</td>\n",
       "      <td>Returning</td>\n",
       "      <td>76339.00</td>\n",
       "    </tr>\n",
       "    <tr>\n",
       "      <th>2010-08-27</th>\n",
       "      <td>1</td>\n",
       "      <td>Bombardier Inc.</td>\n",
       "      <td>aerospace</td>\n",
       "      <td>24318.92</td>\n",
       "      <td>1</td>\n",
       "      <td>New</td>\n",
       "      <td>24318.92</td>\n",
       "    </tr>\n",
       "    <tr>\n",
       "      <th>2010-09-15</th>\n",
       "      <td>1</td>\n",
       "      <td>Beef Products Inc.</td>\n",
       "      <td>food</td>\n",
       "      <td>35084.00</td>\n",
       "      <td>1</td>\n",
       "      <td>New</td>\n",
       "      <td>35084.00</td>\n",
       "    </tr>\n",
       "  </tbody>\n",
       "</table>\n",
       "</div>"
      ],
      "text/plain": [
       "               Exchange_Rate              Customer              Field  \\\n",
       "Date_of_Order                                                           \n",
       "2010-08-04                 1         ABB Australia  engine technology   \n",
       "2010-08-16                 1    A&A Metal Products  engine technology   \n",
       "2010-08-20                 1  Analytical Engineer.  engine technology   \n",
       "2010-08-27                 1       Bombardier Inc.          aerospace   \n",
       "2010-09-15                 1    Beef Products Inc.               food   \n",
       "\n",
       "               Total_Sales Year_of_First_Order New_or_Returning  Sales_in_CAD  \n",
       "Date_of_Order                                                                  \n",
       "2010-08-04         1897.60                   1       Returning        1897.60  \n",
       "2010-08-16        28963.00                   1       Returning       28963.00  \n",
       "2010-08-20        76339.00                   1       Returning       76339.00  \n",
       "2010-08-27        24318.92                   1              New      24318.92  \n",
       "2010-09-15        35084.00                   1              New      35084.00  "
      ]
     },
     "execution_count": 152,
     "metadata": {},
     "output_type": "execute_result"
    }
   ],
   "source": [
    "# Replacing the empty values in the Exchange Rate column with 1 and setting the index to Date_of_Order\n",
    "Exchange_df= Sales_df[['Exchange_Rate', 'Customer', 'Field', 'Date_of_Order', 'Total_Sales', 'Year_of_First_Order', 'New_or_Returning']].replace([None], [1]).set_index('Date_of_Order')\n",
    "# Creating a new column in the data set, which puts all sales amounts in Canadian dollars. \n",
    "Exchange_df['Sales_in_CAD'] = Exchange_df['Exchange_Rate'] * Exchange_df['Total_Sales']\n",
    "Exchange_df.head()"
   ]
  },
  {
   "cell_type": "markdown",
   "metadata": {},
   "source": [
    "The reason why the empty exchange rate values are replaced with 1 is because for these dates the exchange rate between Canadian and US dollars was basically 1, so the person entering the data did not bother writing in a value. "
   ]
  },
  {
   "cell_type": "code",
   "execution_count": 153,
   "metadata": {
    "collapsed": false
   },
   "outputs": [
    {
     "data": {
      "text/html": [
       "<div>\n",
       "<table border=\"1\" class=\"dataframe\">\n",
       "  <thead>\n",
       "    <tr style=\"text-align: right;\">\n",
       "      <th></th>\n",
       "      <th>Date_of_Order</th>\n",
       "      <th>Exchange_Rate</th>\n",
       "      <th>Customer</th>\n",
       "      <th>Field</th>\n",
       "      <th>Total_Sales</th>\n",
       "      <th>Year_of_First_Order</th>\n",
       "      <th>New_or_Returning</th>\n",
       "      <th>Sales_in_CAD</th>\n",
       "    </tr>\n",
       "  </thead>\n",
       "  <tbody>\n",
       "    <tr>\n",
       "      <th>0</th>\n",
       "      <td>2012-08-01</td>\n",
       "      <td>1</td>\n",
       "      <td>Powerspan Corp.</td>\n",
       "      <td>alternative energy</td>\n",
       "      <td>11165.00</td>\n",
       "      <td>1</td>\n",
       "      <td>Returning</td>\n",
       "      <td>11165.00</td>\n",
       "    </tr>\n",
       "    <tr>\n",
       "      <th>1</th>\n",
       "      <td>2012-08-01</td>\n",
       "      <td>1</td>\n",
       "      <td>Multi Pression</td>\n",
       "      <td>solutions provider</td>\n",
       "      <td>1924.68</td>\n",
       "      <td>1</td>\n",
       "      <td>Returning</td>\n",
       "      <td>1924.68</td>\n",
       "    </tr>\n",
       "    <tr>\n",
       "      <th>2</th>\n",
       "      <td>2012-08-02</td>\n",
       "      <td>1</td>\n",
       "      <td>A&amp;A Metal Products</td>\n",
       "      <td>engine technology</td>\n",
       "      <td>8765.00</td>\n",
       "      <td>1</td>\n",
       "      <td>Returning</td>\n",
       "      <td>8765.00</td>\n",
       "    </tr>\n",
       "    <tr>\n",
       "      <th>3</th>\n",
       "      <td>2012-08-03</td>\n",
       "      <td>1</td>\n",
       "      <td>Fluid Controls LTD</td>\n",
       "      <td>distributor</td>\n",
       "      <td>27750.00</td>\n",
       "      <td>1</td>\n",
       "      <td>New</td>\n",
       "      <td>27750.00</td>\n",
       "    </tr>\n",
       "    <tr>\n",
       "      <th>4</th>\n",
       "      <td>2012-08-07</td>\n",
       "      <td>1</td>\n",
       "      <td>ASM America</td>\n",
       "      <td>material science</td>\n",
       "      <td>170882.00</td>\n",
       "      <td>2012-05-01 00:00:00</td>\n",
       "      <td>Returning</td>\n",
       "      <td>170882.00</td>\n",
       "    </tr>\n",
       "  </tbody>\n",
       "</table>\n",
       "</div>"
      ],
      "text/plain": [
       "  Date_of_Order  Exchange_Rate                   Customer               Field  \\\n",
       "0    2012-08-01              1  Powerspan Corp.            alternative energy   \n",
       "1    2012-08-01              1  Multi Pression             solutions provider   \n",
       "2    2012-08-02              1         A&A Metal Products   engine technology   \n",
       "3    2012-08-03              1  Fluid Controls LTD                distributor   \n",
       "4    2012-08-07              1                ASM America    material science   \n",
       "\n",
       "   Total_Sales  Year_of_First_Order New_or_Returning  Sales_in_CAD  \n",
       "0     11165.00                    1       Returning       11165.00  \n",
       "1      1924.68                    1       Returning        1924.68  \n",
       "2      8765.00                    1       Returning        8765.00  \n",
       "3     27750.00                    1              New      27750.00  \n",
       "4    170882.00  2012-05-01 00:00:00       Returning      170882.00  "
      ]
     },
     "execution_count": 153,
     "metadata": {},
     "output_type": "execute_result"
    }
   ],
   "source": [
    "# Creating a new dataframe that includes all values with the Sales in CAD \n",
    "# All rows with dates under 2012-07-31 will be deleted\n",
    "Change_New = Exchange_df[Exchange_df.index > '2012-07-31'].reset_index()\n",
    "Change_New.head()"
   ]
  },
  {
   "cell_type": "markdown",
   "metadata": {},
   "source": [
    "The reason why I deleted all rows before 2012-08-01, is because this data is not accurate (some of it is not sorted by month).  "
   ]
  },
  {
   "cell_type": "markdown",
   "metadata": {},
   "source": [
    "# PLOT 1: Resampling data to make a plot that compares money spent on ads per month to sales coming from new customers & number of new customers."
   ]
  },
  {
   "cell_type": "code",
   "execution_count": 154,
   "metadata": {
    "collapsed": false
   },
   "outputs": [
    {
     "data": {
      "text/html": [
       "<div>\n",
       "<table border=\"1\" class=\"dataframe\">\n",
       "  <thead>\n",
       "    <tr style=\"text-align: right;\">\n",
       "      <th></th>\n",
       "      <th>Date_of_Order</th>\n",
       "      <th>Exchange_Rate</th>\n",
       "      <th>Customer</th>\n",
       "      <th>Field</th>\n",
       "      <th>Total_Sales</th>\n",
       "      <th>Year_of_First_Order</th>\n",
       "      <th>New_or_Returning</th>\n",
       "      <th>Sales_in_CAD</th>\n",
       "    </tr>\n",
       "  </thead>\n",
       "  <tbody>\n",
       "    <tr>\n",
       "      <th>3</th>\n",
       "      <td>2012-08-03</td>\n",
       "      <td>1</td>\n",
       "      <td>Fluid Controls LTD</td>\n",
       "      <td>distributor</td>\n",
       "      <td>27750.00</td>\n",
       "      <td>1</td>\n",
       "      <td>New</td>\n",
       "      <td>27750.00</td>\n",
       "    </tr>\n",
       "    <tr>\n",
       "      <th>5</th>\n",
       "      <td>2012-08-08</td>\n",
       "      <td>1</td>\n",
       "      <td>Pomerleau</td>\n",
       "      <td>construction</td>\n",
       "      <td>916.12</td>\n",
       "      <td>1</td>\n",
       "      <td>New</td>\n",
       "      <td>916.12</td>\n",
       "    </tr>\n",
       "    <tr>\n",
       "      <th>7</th>\n",
       "      <td>2012-08-13</td>\n",
       "      <td>1</td>\n",
       "      <td>LightSail Energy</td>\n",
       "      <td>alternative energy</td>\n",
       "      <td>4389.00</td>\n",
       "      <td>1</td>\n",
       "      <td>New</td>\n",
       "      <td>4389.00</td>\n",
       "    </tr>\n",
       "    <tr>\n",
       "      <th>10</th>\n",
       "      <td>2012-08-24</td>\n",
       "      <td>1</td>\n",
       "      <td>Siati Espress</td>\n",
       "      <td>other</td>\n",
       "      <td>12854.40</td>\n",
       "      <td>2012-08-01 00:00:00</td>\n",
       "      <td>New</td>\n",
       "      <td>12854.40</td>\n",
       "    </tr>\n",
       "    <tr>\n",
       "      <th>17</th>\n",
       "      <td>2012-09-07</td>\n",
       "      <td>1</td>\n",
       "      <td>Greater Moncton</td>\n",
       "      <td>research</td>\n",
       "      <td>2144.10</td>\n",
       "      <td>1</td>\n",
       "      <td>New</td>\n",
       "      <td>2144.10</td>\n",
       "    </tr>\n",
       "  </tbody>\n",
       "</table>\n",
       "</div>"
      ],
      "text/plain": [
       "   Date_of_Order  Exchange_Rate                   Customer  \\\n",
       "3     2012-08-03              1  Fluid Controls LTD          \n",
       "5     2012-08-08              1                  Pomerleau   \n",
       "7     2012-08-13              1           LightSail Energy   \n",
       "10    2012-08-24              1              Siati Espress   \n",
       "17    2012-09-07              1            Greater Moncton   \n",
       "\n",
       "                 Field  Total_Sales  Year_of_First_Order New_or_Returning  \\\n",
       "3          distributor     27750.00                    1              New   \n",
       "5         construction       916.12                    1              New   \n",
       "7   alternative energy      4389.00                    1              New   \n",
       "10               other     12854.40  2012-08-01 00:00:00              New   \n",
       "17            research      2144.10                    1              New   \n",
       "\n",
       "    Sales_in_CAD  \n",
       "3       27750.00  \n",
       "5         916.12  \n",
       "7        4389.00  \n",
       "10      12854.40  \n",
       "17       2144.10  "
      ]
     },
     "execution_count": 154,
     "metadata": {},
     "output_type": "execute_result"
    }
   ],
   "source": [
    "# Deleting all rows of sales from returning customers\n",
    "New_customers = Change_New.groupby(['New_or_Returning']).get_group('New')\n",
    "New_customers.head()"
   ]
  },
  {
   "cell_type": "code",
   "execution_count": 155,
   "metadata": {
    "collapsed": false
   },
   "outputs": [
    {
     "data": {
      "text/html": [
       "<div>\n",
       "<table border=\"1\" class=\"dataframe\">\n",
       "  <thead>\n",
       "    <tr style=\"text-align: right;\">\n",
       "      <th></th>\n",
       "      <th>Total_Sales</th>\n",
       "      <th>New_or_Returning</th>\n",
       "    </tr>\n",
       "    <tr>\n",
       "      <th>Date_of_Order</th>\n",
       "      <th></th>\n",
       "      <th></th>\n",
       "    </tr>\n",
       "  </thead>\n",
       "  <tbody>\n",
       "    <tr>\n",
       "      <th>2012-08-03</th>\n",
       "      <td>27750.00</td>\n",
       "      <td>New</td>\n",
       "    </tr>\n",
       "    <tr>\n",
       "      <th>2012-08-08</th>\n",
       "      <td>916.12</td>\n",
       "      <td>New</td>\n",
       "    </tr>\n",
       "    <tr>\n",
       "      <th>2012-08-13</th>\n",
       "      <td>4389.00</td>\n",
       "      <td>New</td>\n",
       "    </tr>\n",
       "    <tr>\n",
       "      <th>2012-08-24</th>\n",
       "      <td>12854.40</td>\n",
       "      <td>New</td>\n",
       "    </tr>\n",
       "    <tr>\n",
       "      <th>2012-09-07</th>\n",
       "      <td>2144.10</td>\n",
       "      <td>New</td>\n",
       "    </tr>\n",
       "  </tbody>\n",
       "</table>\n",
       "</div>"
      ],
      "text/plain": [
       "               Total_Sales New_or_Returning\n",
       "Date_of_Order                              \n",
       "2012-08-03        27750.00              New\n",
       "2012-08-08          916.12              New\n",
       "2012-08-13         4389.00              New\n",
       "2012-08-24        12854.40              New\n",
       "2012-09-07         2144.10              New"
      ]
     },
     "execution_count": 155,
     "metadata": {},
     "output_type": "execute_result"
    }
   ],
   "source": [
    "# Grabbing 3 columns from the dataset and setting the index to Date of order.\n",
    "Resampled_ind = New_customers[['Date_of_Order', 'Total_Sales', 'New_or_Returning']].set_index('Date_of_Order')\n",
    "Resampled_ind.head()"
   ]
  },
  {
   "cell_type": "code",
   "execution_count": 156,
   "metadata": {
    "collapsed": false
   },
   "outputs": [
    {
     "data": {
      "text/html": [
       "<div>\n",
       "<table border=\"1\" class=\"dataframe\">\n",
       "  <thead>\n",
       "    <tr style=\"text-align: right;\">\n",
       "      <th></th>\n",
       "      <th>New_or_Returning</th>\n",
       "      <th>Total_Sales</th>\n",
       "    </tr>\n",
       "    <tr>\n",
       "      <th>Date_of_Order</th>\n",
       "      <th></th>\n",
       "      <th></th>\n",
       "    </tr>\n",
       "  </thead>\n",
       "  <tbody>\n",
       "    <tr>\n",
       "      <th>2012-08-31</th>\n",
       "      <td>4</td>\n",
       "      <td>45909.52</td>\n",
       "    </tr>\n",
       "    <tr>\n",
       "      <th>2012-09-30</th>\n",
       "      <td>1</td>\n",
       "      <td>2144.10</td>\n",
       "    </tr>\n",
       "    <tr>\n",
       "      <th>2012-10-31</th>\n",
       "      <td>4</td>\n",
       "      <td>18763.53</td>\n",
       "    </tr>\n",
       "    <tr>\n",
       "      <th>2012-11-30</th>\n",
       "      <td>5</td>\n",
       "      <td>24919.22</td>\n",
       "    </tr>\n",
       "    <tr>\n",
       "      <th>2012-12-31</th>\n",
       "      <td>1</td>\n",
       "      <td>3278.00</td>\n",
       "    </tr>\n",
       "  </tbody>\n",
       "</table>\n",
       "</div>"
      ],
      "text/plain": [
       "               New_or_Returning  Total_Sales\n",
       "Date_of_Order                               \n",
       "2012-08-31                    4     45909.52\n",
       "2012-09-30                    1      2144.10\n",
       "2012-10-31                    4     18763.53\n",
       "2012-11-30                    5     24919.22\n",
       "2012-12-31                    1      3278.00"
      ]
     },
     "execution_count": 156,
     "metadata": {},
     "output_type": "execute_result"
    }
   ],
   "source": [
    "# Replacing the 'New' string with the number 1 so that they can be added later. \n",
    "# And data is downsampled to month, taking the sum of the Sales and the new customers in each month. \n",
    "Index_Month= Resampled_ind[['New_or_Returning', 'Total_Sales']].replace(['New'], [1]).resample('M', how=('sum')) \n",
    "Index_Month.head()"
   ]
  },
  {
   "cell_type": "code",
   "execution_count": 157,
   "metadata": {
    "collapsed": false
   },
   "outputs": [
    {
     "data": {
      "text/html": [
       "<div>\n",
       "<table border=\"1\" class=\"dataframe\">\n",
       "  <thead>\n",
       "    <tr style=\"text-align: right;\">\n",
       "      <th></th>\n",
       "      <th>New_or_Returning</th>\n",
       "      <th>Total_Sales</th>\n",
       "    </tr>\n",
       "    <tr>\n",
       "      <th>Date_of_Order</th>\n",
       "      <th></th>\n",
       "      <th></th>\n",
       "    </tr>\n",
       "  </thead>\n",
       "  <tbody>\n",
       "    <tr>\n",
       "      <th>2013-08-31</th>\n",
       "      <td>3</td>\n",
       "      <td>7410.00</td>\n",
       "    </tr>\n",
       "    <tr>\n",
       "      <th>2013-09-30</th>\n",
       "      <td>4</td>\n",
       "      <td>13538.40</td>\n",
       "    </tr>\n",
       "    <tr>\n",
       "      <th>2013-10-31</th>\n",
       "      <td>5</td>\n",
       "      <td>9627.02</td>\n",
       "    </tr>\n",
       "    <tr>\n",
       "      <th>2013-11-30</th>\n",
       "      <td>10</td>\n",
       "      <td>40999.01</td>\n",
       "    </tr>\n",
       "    <tr>\n",
       "      <th>2013-12-31</th>\n",
       "      <td>5</td>\n",
       "      <td>35721.00</td>\n",
       "    </tr>\n",
       "  </tbody>\n",
       "</table>\n",
       "</div>"
      ],
      "text/plain": [
       "               New_or_Returning  Total_Sales\n",
       "Date_of_Order                               \n",
       "2013-08-31                    3      7410.00\n",
       "2013-09-30                    4     13538.40\n",
       "2013-10-31                    5      9627.02\n",
       "2013-11-30                   10     40999.01\n",
       "2013-12-31                    5     35721.00"
      ]
     },
     "execution_count": 157,
     "metadata": {},
     "output_type": "execute_result"
    }
   ],
   "source": [
    "# Deleting all rows that have a date before 2013-08-31. Keeping only two business years 2013 - 2015. The reason why I dont \n",
    "# want data before this date, is because the Date input in the dataset was incomplete for the previous years.\n",
    "Downsampled_month = Index_Month[Index_Month.index > '2013-08-30']\n",
    "Downsampled_month.head()"
   ]
  },
  {
   "cell_type": "markdown",
   "metadata": {},
   "source": [
    "# Importing a new dataset (Cost of Ads per month)"
   ]
  },
  {
   "cell_type": "code",
   "execution_count": 158,
   "metadata": {
    "collapsed": false
   },
   "outputs": [
    {
     "data": {
      "text/html": [
       "<div>\n",
       "<table border=\"1\" class=\"dataframe\">\n",
       "  <thead>\n",
       "    <tr style=\"text-align: right;\">\n",
       "      <th></th>\n",
       "      <th>Ad Cost</th>\n",
       "    </tr>\n",
       "    <tr>\n",
       "      <th>Date</th>\n",
       "      <th></th>\n",
       "    </tr>\n",
       "  </thead>\n",
       "  <tbody>\n",
       "    <tr>\n",
       "      <th>2013-08-01</th>\n",
       "      <td>947.94</td>\n",
       "    </tr>\n",
       "    <tr>\n",
       "      <th>2013-09-01</th>\n",
       "      <td>936.06</td>\n",
       "    </tr>\n",
       "    <tr>\n",
       "      <th>2013-10-01</th>\n",
       "      <td>935.72</td>\n",
       "    </tr>\n",
       "    <tr>\n",
       "      <th>2013-11-01</th>\n",
       "      <td>930.47</td>\n",
       "    </tr>\n",
       "    <tr>\n",
       "      <th>2013-12-01</th>\n",
       "      <td>948.00</td>\n",
       "    </tr>\n",
       "  </tbody>\n",
       "</table>\n",
       "</div>"
      ],
      "text/plain": [
       "            Ad Cost \n",
       "Date                \n",
       "2013-08-01    947.94\n",
       "2013-09-01    936.06\n",
       "2013-10-01    935.72\n",
       "2013-11-01    930.47\n",
       "2013-12-01    948.00"
      ]
     },
     "execution_count": 158,
     "metadata": {},
     "output_type": "execute_result"
    }
   ],
   "source": [
    "#Loading another dataset from excel into python from a different sheet, and making the Date column the index.\n",
    "Ads_df = pd.read_excel('../data/SalesDataA.xlsm', sheetname = 'Ads', index_col='Date')\n",
    "Ads_df.head()"
   ]
  },
  {
   "cell_type": "code",
   "execution_count": 159,
   "metadata": {
    "collapsed": false
   },
   "outputs": [
    {
     "data": {
      "text/html": [
       "<div>\n",
       "<table border=\"1\" class=\"dataframe\">\n",
       "  <thead>\n",
       "    <tr style=\"text-align: right;\">\n",
       "      <th></th>\n",
       "      <th>Ad_Cost</th>\n",
       "    </tr>\n",
       "    <tr>\n",
       "      <th>Date</th>\n",
       "      <th></th>\n",
       "    </tr>\n",
       "  </thead>\n",
       "  <tbody>\n",
       "    <tr>\n",
       "      <th>2013-08-31</th>\n",
       "      <td>947.94</td>\n",
       "    </tr>\n",
       "    <tr>\n",
       "      <th>2013-09-30</th>\n",
       "      <td>936.06</td>\n",
       "    </tr>\n",
       "    <tr>\n",
       "      <th>2013-10-31</th>\n",
       "      <td>935.72</td>\n",
       "    </tr>\n",
       "    <tr>\n",
       "      <th>2013-11-30</th>\n",
       "      <td>930.47</td>\n",
       "    </tr>\n",
       "    <tr>\n",
       "      <th>2013-12-31</th>\n",
       "      <td>948.00</td>\n",
       "    </tr>\n",
       "  </tbody>\n",
       "</table>\n",
       "</div>"
      ],
      "text/plain": [
       "            Ad_Cost\n",
       "Date               \n",
       "2013-08-31   947.94\n",
       "2013-09-30   936.06\n",
       "2013-10-31   935.72\n",
       "2013-11-30   930.47\n",
       "2013-12-31   948.00"
      ]
     },
     "execution_count": 159,
     "metadata": {},
     "output_type": "execute_result"
    }
   ],
   "source": [
    "# Renaming the column\n",
    "# Resampling the date column, so that the month is synonymous with the other table \n",
    "Ads_df.columns = ['Ad_Cost']\n",
    "Ads_df = Ads_df.resample('M', how=('sum'))   \n",
    "Ads_df.head()"
   ]
  },
  {
   "cell_type": "code",
   "execution_count": 160,
   "metadata": {
    "collapsed": false
   },
   "outputs": [
    {
     "data": {
      "text/html": [
       "<div>\n",
       "<table border=\"1\" class=\"dataframe\">\n",
       "  <thead>\n",
       "    <tr style=\"text-align: right;\">\n",
       "      <th></th>\n",
       "      <th>Date_of_Order</th>\n",
       "      <th>New_or_Returning</th>\n",
       "      <th>Total_Sales</th>\n",
       "      <th>Ad_Cost</th>\n",
       "    </tr>\n",
       "  </thead>\n",
       "  <tbody>\n",
       "    <tr>\n",
       "      <th>0</th>\n",
       "      <td>2013-08-31</td>\n",
       "      <td>3</td>\n",
       "      <td>7410.00</td>\n",
       "      <td>947.94</td>\n",
       "    </tr>\n",
       "    <tr>\n",
       "      <th>1</th>\n",
       "      <td>2013-09-30</td>\n",
       "      <td>4</td>\n",
       "      <td>13538.40</td>\n",
       "      <td>936.06</td>\n",
       "    </tr>\n",
       "    <tr>\n",
       "      <th>2</th>\n",
       "      <td>2013-10-31</td>\n",
       "      <td>5</td>\n",
       "      <td>9627.02</td>\n",
       "      <td>935.72</td>\n",
       "    </tr>\n",
       "    <tr>\n",
       "      <th>3</th>\n",
       "      <td>2013-11-30</td>\n",
       "      <td>10</td>\n",
       "      <td>40999.01</td>\n",
       "      <td>930.47</td>\n",
       "    </tr>\n",
       "    <tr>\n",
       "      <th>4</th>\n",
       "      <td>2013-12-31</td>\n",
       "      <td>5</td>\n",
       "      <td>35721.00</td>\n",
       "      <td>948.00</td>\n",
       "    </tr>\n",
       "  </tbody>\n",
       "</table>\n",
       "</div>"
      ],
      "text/plain": [
       "  Date_of_Order  New_or_Returning  Total_Sales  Ad_Cost\n",
       "0    2013-08-31                 3      7410.00   947.94\n",
       "1    2013-09-30                 4     13538.40   936.06\n",
       "2    2013-10-31                 5      9627.02   935.72\n",
       "3    2013-11-30                10     40999.01   930.47\n",
       "4    2013-12-31                 5     35721.00   948.00"
      ]
     },
     "execution_count": 160,
     "metadata": {},
     "output_type": "execute_result"
    }
   ],
   "source": [
    "# Combining the two dataframes by the date of order, and resetting the index.\n",
    "Combined_df = pd.concat([Downsampled_month, Ads_df], axis=1, join_axes=[Downsampled_month.index]).reset_index()\n",
    "Combined_df.head()"
   ]
  },
  {
   "cell_type": "code",
   "execution_count": 161,
   "metadata": {
    "collapsed": false
   },
   "outputs": [
    {
     "data": {
      "image/png": "[encoded data removed]",
      "text/plain": [
       "<matplotlib.figure.Figure at 0x8aed1d0>"
      ]
     },
     "metadata": {},
     "output_type": "display_data"
    }
   ],
   "source": [
    "#change figure size\n",
    "plt.figure(figsize=(12,10)) # in inches, width then height. \n",
    "\n",
    "#creating subplots and defining them\n",
    "# 3 rows, 1 columns, 1st subplot\n",
    "plt.subplot(3,1,1)      \n",
    "plt.plot(Combined_df.Date_of_Order, Combined_df.Total_Sales, marker='o', color ='m', linestyle='--')\n",
    "#Add title\n",
    "plt.title('Sales to New Customers per Month')\n",
    "#Add gridlines\n",
    "plt.grid(True)\n",
    "#Add axis labels\n",
    "plt.ylabel('Sales to New Customers ($)')\n",
    "\n",
    "# 3 rows, 1 columns, 2nd subplot\n",
    "plt.subplot(3,1,2)      \n",
    "plt.plot(Combined_df.Date_of_Order, Combined_df.Ad_Cost, marker='o', color ='m', linestyle='--')\n",
    "#Add title\n",
    "plt.title('Cost of Ads per Month')\n",
    "#Add gridlines\n",
    "plt.grid(True)\n",
    "#Add axis labels\n",
    "plt.ylabel('Cost of Ads ($)')\n",
    "\n",
    "# 3 rows, 1 columns, 3rd subplot\n",
    "plt.subplot(3,1,3)      \n",
    "plt.plot(Combined_df.Date_of_Order, Combined_df.New_or_Returning, marker='o', color ='m', linestyle='--')\n",
    "#Add title\n",
    "plt.title('Number of New Customers per Month')\n",
    "#Add gridlines\n",
    "plt.grid(True)\n",
    "#Add axis labels\n",
    "plt.ylabel('Number of New Customers')\n",
    "\n",
    "# give plots some breathing room\n",
    "plt.tight_layout()\n",
    "\n",
    "#show plot\n",
    "plt.show()\n",
    "\n"
   ]
  },
  {
   "cell_type": "code",
   "execution_count": 378,
   "metadata": {
    "collapsed": false
   },
   "outputs": [
    {
     "data": {
      "text/plain": [
       "<matplotlib.collections.PathCollection at 0x1089f198>"
      ]
     },
     "execution_count": 378,
     "metadata": {},
     "output_type": "execute_result"
    },
    {
     "name": "stderr",
     "output_type": "stream",
     "text": [
      "C:\\Users\\mim\\Anaconda3\\lib\\site-packages\\matplotlib\\collections.py:590: FutureWarning: elementwise comparison failed; returning scalar instead, but in the future will perform elementwise comparison\n",
      "  if self._edgecolors == str('face'):\n"
     ]
    },
    {
     "data": {
      "image/png": "[encoded data removed]",
      "text/plain": [
       "<matplotlib.figure.Figure at 0x107f4a58>"
      ]
     },
     "metadata": {},
     "output_type": "display_data"
    }
   ],
   "source": [
    "# Creating plots that compare cost of ads to Sales and Numeber of new customers. \n",
    "plt.figure(figsize=(12,4))\n",
    "\n",
    "#Subplot 1\n",
    "plt.subplot(1,2,1)\n",
    "plt.scatter(Combined_df.Ad_Cost, Combined_df.Total_Sales)\n",
    "\n",
    "#Subplot 2 \n",
    "plt.subplot(1,2,2)\n",
    "plt.scatter(Combined_df.Ad_Cost, Combined_df.New_or_Returning)"
   ]
  },
  {
   "cell_type": "markdown",
   "metadata": {},
   "source": [
    "#PLOT 2: Plotting the distribution of sales over the years 2013- 2015 by month (Instead of plotting Sales, could plot the number of customers too). "
   ]
  },
  {
   "cell_type": "code",
   "execution_count": 162,
   "metadata": {
    "collapsed": false
   },
   "outputs": [],
   "source": [
    "# Visualizing the dataframe that we will downsample to make plot 2 \n",
    "#Dates_df.head()"
   ]
  },
  {
   "cell_type": "code",
   "execution_count": 243,
   "metadata": {
    "collapsed": false
   },
   "outputs": [],
   "source": [
    "# Grabbing 3 columns from a previous dataset and setting the index to Date of order\n",
    "# Resampling the index column (Dates) by month, taking the sum of the Sales in each month.\n",
    "Month_df = Change_New[['Date_of_Order', 'New_or_Returning', 'Sales_in_CAD']].set_index('Date_of_Order').resample('M', how=('sum'))\n",
    "                                                                                                             "
   ]
  },
  {
   "cell_type": "code",
   "execution_count": 244,
   "metadata": {
    "collapsed": false
   },
   "outputs": [
    {
     "data": {
      "text/html": [
       "<div>\n",
       "<table border=\"1\" class=\"dataframe\">\n",
       "  <thead>\n",
       "    <tr style=\"text-align: right;\">\n",
       "      <th></th>\n",
       "      <th>Sales_in_CAD</th>\n",
       "    </tr>\n",
       "    <tr>\n",
       "      <th>Date_of_Order</th>\n",
       "      <th></th>\n",
       "    </tr>\n",
       "  </thead>\n",
       "  <tbody>\n",
       "    <tr>\n",
       "      <th>2012-08-31</th>\n",
       "      <td>266208.49</td>\n",
       "    </tr>\n",
       "    <tr>\n",
       "      <th>2012-09-30</th>\n",
       "      <td>242972.33</td>\n",
       "    </tr>\n",
       "    <tr>\n",
       "      <th>2012-10-31</th>\n",
       "      <td>78000.68</td>\n",
       "    </tr>\n",
       "    <tr>\n",
       "      <th>2012-11-30</th>\n",
       "      <td>165319.22</td>\n",
       "    </tr>\n",
       "    <tr>\n",
       "      <th>2012-12-31</th>\n",
       "      <td>8561.60</td>\n",
       "    </tr>\n",
       "  </tbody>\n",
       "</table>\n",
       "</div>"
      ],
      "text/plain": [
       "               Sales_in_CAD\n",
       "Date_of_Order              \n",
       "2012-08-31        266208.49\n",
       "2012-09-30        242972.33\n",
       "2012-10-31         78000.68\n",
       "2012-11-30        165319.22\n",
       "2012-12-31          8561.60"
      ]
     },
     "execution_count": 244,
     "metadata": {},
     "output_type": "execute_result"
    }
   ],
   "source": [
    "# Deleting all rows before 2012-08-31. Keeping only 3 business years 2012 - 2015. \n",
    "df_less = Month_df[Index_Month.index > '2012-08-30']\n",
    "df_less.head()"
   ]
  },
  {
   "cell_type": "markdown",
   "metadata": {},
   "source": [
    "Making 3 different tables to have one table per business year from 2013-2015. Make a function for this so you dont have to repeat the same thing 3 times!"
   ]
  },
  {
   "cell_type": "code",
   "execution_count": 165,
   "metadata": {
    "collapsed": false
   },
   "outputs": [
    {
     "data": {
      "text/html": [
       "<div>\n",
       "<table border=\"1\" class=\"dataframe\">\n",
       "  <thead>\n",
       "    <tr style=\"text-align: right;\">\n",
       "      <th></th>\n",
       "      <th>Date_of_Order</th>\n",
       "      <th>Sales_in_CAD</th>\n",
       "      <th>Month</th>\n",
       "    </tr>\n",
       "  </thead>\n",
       "  <tbody>\n",
       "    <tr>\n",
       "      <th>0</th>\n",
       "      <td>2014-08-31</td>\n",
       "      <td>31362.196600</td>\n",
       "      <td>8</td>\n",
       "    </tr>\n",
       "    <tr>\n",
       "      <th>1</th>\n",
       "      <td>2014-09-30</td>\n",
       "      <td>139844.239100</td>\n",
       "      <td>9</td>\n",
       "    </tr>\n",
       "    <tr>\n",
       "      <th>2</th>\n",
       "      <td>2014-10-31</td>\n",
       "      <td>166207.229360</td>\n",
       "      <td>10</td>\n",
       "    </tr>\n",
       "    <tr>\n",
       "      <th>3</th>\n",
       "      <td>2014-11-30</td>\n",
       "      <td>66069.594558</td>\n",
       "      <td>11</td>\n",
       "    </tr>\n",
       "    <tr>\n",
       "      <th>4</th>\n",
       "      <td>2014-12-31</td>\n",
       "      <td>85777.469182</td>\n",
       "      <td>12</td>\n",
       "    </tr>\n",
       "  </tbody>\n",
       "</table>\n",
       "</div>"
      ],
      "text/plain": [
       "  Date_of_Order   Sales_in_CAD  Month\n",
       "0    2014-08-31   31362.196600      8\n",
       "1    2014-09-30  139844.239100      9\n",
       "2    2014-10-31  166207.229360     10\n",
       "3    2014-11-30   66069.594558     11\n",
       "4    2014-12-31   85777.469182     12"
      ]
     },
     "execution_count": 165,
     "metadata": {},
     "output_type": "execute_result"
    }
   ],
   "source": [
    "# Making a table for the business year 2014-2015 only\n",
    "Year3_df = df_less.drop(df_less.index[:24]).reset_index()\n",
    "\n",
    "#Creating a new column of month, by taking the month out of the Date_of_Order column  \n",
    "Year3_df['Month'] = Year3_df['Date_of_Order'].dt.month\n",
    "Year3_df.head()"
   ]
  },
  {
   "cell_type": "code",
   "execution_count": 166,
   "metadata": {
    "collapsed": false
   },
   "outputs": [],
   "source": [
    "def month_name (df):\n",
    "    '''Writes out the month number as a string'''\n",
    "    with open (df, 'r') as mydf:\n",
    "        # This reads the lines in the dataframe\n",
    "        file = mydf.readlines()\n",
    "        \n",
    "        if mydf['Month'] == 8 :\n",
    "            return 'Aug'\n",
    "        if mydf['Month'] == 9 :\n",
    "            return 'Sep'\n",
    "        if mydf['Month'] == 10 :\n",
    "            return 'Oct'\n",
    "        if mydf['Month'] == 11 :\n",
    "            return 'Nov'\n",
    "        if mydf['Month'] == 12 :\n",
    "            return 'Dec' \n",
    "        if mydf['Month'] == 1 :\n",
    "            return 'Jan' \n",
    "        if mydf['Month'] == 2 :\n",
    "            return 'Feb' \n",
    "        if mydf['Month'] == 3 :\n",
    "            return 'Mar' \n",
    "        if mydf['Month'] == 4 :\n",
    "            return 'Apr' \n",
    "        if mydf['Month'] == 5 :\n",
    "            return 'May' \n",
    "        if mydf['Month'] == 6 :\n",
    "            return 'June' \n",
    "        if mydf['Month'] == 7 :\n",
    "            return 'July'"
   ]
  },
  {
   "cell_type": "code",
   "execution_count": 168,
   "metadata": {
    "collapsed": false
   },
   "outputs": [],
   "source": [
    "#month_name(Year3_df)"
   ]
  },
  {
   "cell_type": "code",
   "execution_count": 169,
   "metadata": {
    "collapsed": false
   },
   "outputs": [
    {
     "ename": "TypeError",
     "evalue": "(\"Can't convert 'Series' object to str implicitly\", 'occurred at index 0')",
     "output_type": "error",
     "traceback": [
      "\u001b[1;31m---------------------------------------------------------------------------\u001b[0m",
      "\u001b[1;31mTypeError\u001b[0m                                 Traceback (most recent call last)",
      "\u001b[1;32m<ipython-input-169-5ac698752783>\u001b[0m in \u001b[0;36m<module>\u001b[1;34m()\u001b[0m\n\u001b[0;32m      1\u001b[0m \u001b[1;31m# Uses the function above to create a new column from the Year3_df dataframe.\u001b[0m\u001b[1;33m\u001b[0m\u001b[1;33m\u001b[0m\u001b[0m\n\u001b[1;32m----> 2\u001b[1;33m \u001b[0mYear3\u001b[0m \u001b[1;33m=\u001b[0m \u001b[0mYear3_df\u001b[0m\u001b[1;33m.\u001b[0m\u001b[0mapply\u001b[0m\u001b[1;33m(\u001b[0m\u001b[1;32mlambda\u001b[0m \u001b[0mrow\u001b[0m\u001b[1;33m:\u001b[0m \u001b[0mmonth_name\u001b[0m \u001b[1;33m(\u001b[0m\u001b[0mrow\u001b[0m\u001b[1;33m)\u001b[0m\u001b[1;33m,\u001b[0m\u001b[0maxis\u001b[0m\u001b[1;33m=\u001b[0m\u001b[1;36m1\u001b[0m\u001b[1;33m)\u001b[0m\u001b[1;33m\u001b[0m\u001b[0m\n\u001b[0m",
      "\u001b[1;32mC:\\Users\\mim\\Anaconda3\\lib\\site-packages\\pandas\\core\\frame.py\u001b[0m in \u001b[0;36mapply\u001b[1;34m(self, func, axis, broadcast, raw, reduce, args, **kwds)\u001b[0m\n\u001b[0;32m   3912\u001b[0m                     \u001b[1;32mif\u001b[0m \u001b[0mreduce\u001b[0m \u001b[1;32mis\u001b[0m \u001b[1;32mNone\u001b[0m\u001b[1;33m:\u001b[0m\u001b[1;33m\u001b[0m\u001b[0m\n\u001b[0;32m   3913\u001b[0m                         \u001b[0mreduce\u001b[0m \u001b[1;33m=\u001b[0m \u001b[1;32mTrue\u001b[0m\u001b[1;33m\u001b[0m\u001b[0m\n\u001b[1;32m-> 3914\u001b[1;33m                     \u001b[1;32mreturn\u001b[0m \u001b[0mself\u001b[0m\u001b[1;33m.\u001b[0m\u001b[0m_apply_standard\u001b[0m\u001b[1;33m(\u001b[0m\u001b[0mf\u001b[0m\u001b[1;33m,\u001b[0m \u001b[0maxis\u001b[0m\u001b[1;33m,\u001b[0m \u001b[0mreduce\u001b[0m\u001b[1;33m=\u001b[0m\u001b[0mreduce\u001b[0m\u001b[1;33m)\u001b[0m\u001b[1;33m\u001b[0m\u001b[0m\n\u001b[0m\u001b[0;32m   3915\u001b[0m             \u001b[1;32melse\u001b[0m\u001b[1;33m:\u001b[0m\u001b[1;33m\u001b[0m\u001b[0m\n\u001b[0;32m   3916\u001b[0m                 \u001b[1;32mreturn\u001b[0m \u001b[0mself\u001b[0m\u001b[1;33m.\u001b[0m\u001b[0m_apply_broadcast\u001b[0m\u001b[1;33m(\u001b[0m\u001b[0mf\u001b[0m\u001b[1;33m,\u001b[0m \u001b[0maxis\u001b[0m\u001b[1;33m)\u001b[0m\u001b[1;33m\u001b[0m\u001b[0m\n",
      "\u001b[1;32mC:\\Users\\mim\\Anaconda3\\lib\\site-packages\\pandas\\core\\frame.py\u001b[0m in \u001b[0;36m_apply_standard\u001b[1;34m(self, func, axis, ignore_failures, reduce)\u001b[0m\n\u001b[0;32m   4004\u001b[0m             \u001b[1;32mtry\u001b[0m\u001b[1;33m:\u001b[0m\u001b[1;33m\u001b[0m\u001b[0m\n\u001b[0;32m   4005\u001b[0m                 \u001b[1;32mfor\u001b[0m \u001b[0mi\u001b[0m\u001b[1;33m,\u001b[0m \u001b[0mv\u001b[0m \u001b[1;32min\u001b[0m \u001b[0menumerate\u001b[0m\u001b[1;33m(\u001b[0m\u001b[0mseries_gen\u001b[0m\u001b[1;33m)\u001b[0m\u001b[1;33m:\u001b[0m\u001b[1;33m\u001b[0m\u001b[0m\n\u001b[1;32m-> 4006\u001b[1;33m                     \u001b[0mresults\u001b[0m\u001b[1;33m[\u001b[0m\u001b[0mi\u001b[0m\u001b[1;33m]\u001b[0m \u001b[1;33m=\u001b[0m \u001b[0mfunc\u001b[0m\u001b[1;33m(\u001b[0m\u001b[0mv\u001b[0m\u001b[1;33m)\u001b[0m\u001b[1;33m\u001b[0m\u001b[0m\n\u001b[0m\u001b[0;32m   4007\u001b[0m                     \u001b[0mkeys\u001b[0m\u001b[1;33m.\u001b[0m\u001b[0mappend\u001b[0m\u001b[1;33m(\u001b[0m\u001b[0mv\u001b[0m\u001b[1;33m.\u001b[0m\u001b[0mname\u001b[0m\u001b[1;33m)\u001b[0m\u001b[1;33m\u001b[0m\u001b[0m\n\u001b[0;32m   4008\u001b[0m             \u001b[1;32mexcept\u001b[0m \u001b[0mException\u001b[0m \u001b[1;32mas\u001b[0m \u001b[0me\u001b[0m\u001b[1;33m:\u001b[0m\u001b[1;33m\u001b[0m\u001b[0m\n",
      "\u001b[1;32m<ipython-input-169-5ac698752783>\u001b[0m in \u001b[0;36m<lambda>\u001b[1;34m(row)\u001b[0m\n\u001b[0;32m      1\u001b[0m \u001b[1;31m# Uses the function above to create a new column from the Year3_df dataframe.\u001b[0m\u001b[1;33m\u001b[0m\u001b[1;33m\u001b[0m\u001b[0m\n\u001b[1;32m----> 2\u001b[1;33m \u001b[0mYear3\u001b[0m \u001b[1;33m=\u001b[0m \u001b[0mYear3_df\u001b[0m\u001b[1;33m.\u001b[0m\u001b[0mapply\u001b[0m\u001b[1;33m(\u001b[0m\u001b[1;32mlambda\u001b[0m \u001b[0mrow\u001b[0m\u001b[1;33m:\u001b[0m \u001b[0mmonth_name\u001b[0m \u001b[1;33m(\u001b[0m\u001b[0mrow\u001b[0m\u001b[1;33m)\u001b[0m\u001b[1;33m,\u001b[0m\u001b[0maxis\u001b[0m\u001b[1;33m=\u001b[0m\u001b[1;36m1\u001b[0m\u001b[1;33m)\u001b[0m\u001b[1;33m\u001b[0m\u001b[0m\n\u001b[0m",
      "\u001b[1;32m<ipython-input-166-80a01cb3a07d>\u001b[0m in \u001b[0;36mmonth_name\u001b[1;34m(df)\u001b[0m\n\u001b[0;32m      1\u001b[0m \u001b[1;32mdef\u001b[0m \u001b[0mmonth_name\u001b[0m \u001b[1;33m(\u001b[0m\u001b[0mdf\u001b[0m\u001b[1;33m)\u001b[0m\u001b[1;33m:\u001b[0m\u001b[1;33m\u001b[0m\u001b[0m\n\u001b[0;32m      2\u001b[0m     \u001b[1;34m'''Writes out the month number as a string'''\u001b[0m\u001b[1;33m\u001b[0m\u001b[0m\n\u001b[1;32m----> 3\u001b[1;33m     \u001b[1;32mwith\u001b[0m \u001b[0mopen\u001b[0m \u001b[1;33m(\u001b[0m\u001b[0mdf\u001b[0m\u001b[1;33m,\u001b[0m \u001b[1;34m'r'\u001b[0m\u001b[1;33m)\u001b[0m \u001b[1;32mas\u001b[0m \u001b[0mmydf\u001b[0m\u001b[1;33m:\u001b[0m\u001b[1;33m\u001b[0m\u001b[0m\n\u001b[0m\u001b[0;32m      4\u001b[0m         \u001b[1;31m# This reads the lines in the dataframe\u001b[0m\u001b[1;33m\u001b[0m\u001b[1;33m\u001b[0m\u001b[0m\n\u001b[0;32m      5\u001b[0m         \u001b[0mfile\u001b[0m \u001b[1;33m=\u001b[0m \u001b[0mmydf\u001b[0m\u001b[1;33m.\u001b[0m\u001b[0mreadlines\u001b[0m\u001b[1;33m(\u001b[0m\u001b[1;33m)\u001b[0m\u001b[1;33m\u001b[0m\u001b[0m\n",
      "\u001b[1;31mTypeError\u001b[0m: (\"Can't convert 'Series' object to str implicitly\", 'occurred at index 0')"
     ]
    }
   ],
   "source": [
    "# Uses the function above to create a new column from the Year3_df dataframe. \n",
    "Year3 = Year3_df.apply(lambda row: month_name (row),axis=1)"
   ]
  },
  {
   "cell_type": "code",
   "execution_count": 170,
   "metadata": {
    "collapsed": false
   },
   "outputs": [
    {
     "ename": "NameError",
     "evalue": "name 'Year3' is not defined",
     "output_type": "error",
     "traceback": [
      "\u001b[1;31m---------------------------------------------------------------------------\u001b[0m",
      "\u001b[1;31mNameError\u001b[0m                                 Traceback (most recent call last)",
      "\u001b[1;32m<ipython-input-170-d0afce017c11>\u001b[0m in \u001b[0;36m<module>\u001b[1;34m()\u001b[0m\n\u001b[0;32m      1\u001b[0m \u001b[1;31m#Combining the new column with month name with the Year3 column\u001b[0m\u001b[1;33m\u001b[0m\u001b[1;33m\u001b[0m\u001b[0m\n\u001b[1;32m----> 2\u001b[1;33m \u001b[0mCombined_Month\u001b[0m \u001b[1;33m=\u001b[0m \u001b[0mpd\u001b[0m\u001b[1;33m.\u001b[0m\u001b[0mconcat\u001b[0m\u001b[1;33m(\u001b[0m\u001b[1;33m[\u001b[0m\u001b[0mYear3_df\u001b[0m\u001b[1;33m,\u001b[0m \u001b[0mYear3\u001b[0m\u001b[1;33m]\u001b[0m\u001b[1;33m,\u001b[0m \u001b[0maxis\u001b[0m\u001b[1;33m=\u001b[0m\u001b[1;36m1\u001b[0m\u001b[1;33m,\u001b[0m \u001b[0mjoin_axes\u001b[0m\u001b[1;33m=\u001b[0m\u001b[1;33m[\u001b[0m\u001b[0mYear3\u001b[0m\u001b[1;33m.\u001b[0m\u001b[0mindex\u001b[0m\u001b[1;33m]\u001b[0m\u001b[1;33m)\u001b[0m\u001b[1;33m.\u001b[0m\u001b[0mreset_index\u001b[0m\u001b[1;33m(\u001b[0m\u001b[1;33m)\u001b[0m\u001b[1;33m\u001b[0m\u001b[0m\n\u001b[0m\u001b[0;32m      3\u001b[0m \u001b[0mCombined_Month\u001b[0m\u001b[1;33m.\u001b[0m\u001b[0mcolumns\u001b[0m \u001b[1;33m=\u001b[0m \u001b[1;33m[\u001b[0m\u001b[1;33m[\u001b[0m\u001b[1;34m'index'\u001b[0m\u001b[1;33m,\u001b[0m \u001b[1;34m'Date_of_Order'\u001b[0m\u001b[1;33m,\u001b[0m \u001b[1;34m'Sales_in_CAD'\u001b[0m\u001b[1;33m,\u001b[0m \u001b[1;34m'Month'\u001b[0m\u001b[1;33m,\u001b[0m \u001b[1;34m'Month_str'\u001b[0m\u001b[1;33m]\u001b[0m\u001b[1;33m]\u001b[0m\u001b[1;33m\u001b[0m\u001b[0m\n\u001b[0;32m      4\u001b[0m \u001b[0mCombined_Month\u001b[0m\u001b[1;33m.\u001b[0m\u001b[0mhead\u001b[0m\u001b[1;33m(\u001b[0m\u001b[1;33m)\u001b[0m\u001b[1;33m\u001b[0m\u001b[0m\n",
      "\u001b[1;31mNameError\u001b[0m: name 'Year3' is not defined"
     ]
    }
   ],
   "source": [
    "#Combining the new column with month name with the Year3 column \n",
    "Combined_Month = pd.concat([Year3_df, Year3], axis=1, join_axes=[Year3.index]).reset_index()\n",
    "Combined_Month.columns = [['index', 'Date_of_Order', 'Sales_in_CAD', 'Month', 'Month_str']]\n",
    "Combined_Month.head()"
   ]
  },
  {
   "cell_type": "code",
   "execution_count": 171,
   "metadata": {
    "collapsed": false
   },
   "outputs": [
    {
     "data": {
      "text/html": [
       "<div>\n",
       "<table border=\"1\" class=\"dataframe\">\n",
       "  <thead>\n",
       "    <tr style=\"text-align: right;\">\n",
       "      <th></th>\n",
       "      <th>Date_of_Order</th>\n",
       "      <th>Sales_in_CAD</th>\n",
       "      <th>Month</th>\n",
       "    </tr>\n",
       "  </thead>\n",
       "  <tbody>\n",
       "    <tr>\n",
       "      <th>0</th>\n",
       "      <td>2012-08-31</td>\n",
       "      <td>266208.49</td>\n",
       "      <td>8</td>\n",
       "    </tr>\n",
       "    <tr>\n",
       "      <th>1</th>\n",
       "      <td>2012-09-30</td>\n",
       "      <td>242972.33</td>\n",
       "      <td>9</td>\n",
       "    </tr>\n",
       "    <tr>\n",
       "      <th>2</th>\n",
       "      <td>2012-10-31</td>\n",
       "      <td>78000.68</td>\n",
       "      <td>10</td>\n",
       "    </tr>\n",
       "    <tr>\n",
       "      <th>3</th>\n",
       "      <td>2012-11-30</td>\n",
       "      <td>165319.22</td>\n",
       "      <td>11</td>\n",
       "    </tr>\n",
       "    <tr>\n",
       "      <th>4</th>\n",
       "      <td>2012-12-31</td>\n",
       "      <td>8561.60</td>\n",
       "      <td>12</td>\n",
       "    </tr>\n",
       "  </tbody>\n",
       "</table>\n",
       "</div>"
      ],
      "text/plain": [
       "  Date_of_Order  Sales_in_CAD  Month\n",
       "0    2012-08-31     266208.49      8\n",
       "1    2012-09-30     242972.33      9\n",
       "2    2012-10-31      78000.68     10\n",
       "3    2012-11-30     165319.22     11\n",
       "4    2012-12-31       8561.60     12"
      ]
     },
     "execution_count": 171,
     "metadata": {},
     "output_type": "execute_result"
    }
   ],
   "source": [
    "# Making a table for the business year 2012-2013 only\n",
    "Year1_df = df_less.drop(df_less.index[12:]).reset_index()\n",
    "\n",
    "#Creating a new column of month, by taking the month out of the Date_of_Order column  \n",
    "Year1_df['Month'] = Year1_df['Date_of_Order'].dt.month\n",
    "Year1_df.head()"
   ]
  },
  {
   "cell_type": "code",
   "execution_count": 172,
   "metadata": {
    "collapsed": false
   },
   "outputs": [
    {
     "ename": "TypeError",
     "evalue": "(\"Can't convert 'Series' object to str implicitly\", 'occurred at index 0')",
     "output_type": "error",
     "traceback": [
      "\u001b[1;31m---------------------------------------------------------------------------\u001b[0m",
      "\u001b[1;31mTypeError\u001b[0m                                 Traceback (most recent call last)",
      "\u001b[1;32m<ipython-input-172-d428fe17923e>\u001b[0m in \u001b[0;36m<module>\u001b[1;34m()\u001b[0m\n\u001b[1;32m----> 1\u001b[1;33m \u001b[0mYear1\u001b[0m \u001b[1;33m=\u001b[0m \u001b[0mYear1_df\u001b[0m\u001b[1;33m.\u001b[0m\u001b[0mapply\u001b[0m\u001b[1;33m(\u001b[0m\u001b[1;32mlambda\u001b[0m \u001b[0mrow\u001b[0m\u001b[1;33m:\u001b[0m \u001b[0mmonth_name\u001b[0m \u001b[1;33m(\u001b[0m\u001b[0mrow\u001b[0m\u001b[1;33m)\u001b[0m\u001b[1;33m,\u001b[0m\u001b[0maxis\u001b[0m\u001b[1;33m=\u001b[0m\u001b[1;36m1\u001b[0m\u001b[1;33m)\u001b[0m\u001b[1;33m\u001b[0m\u001b[0m\n\u001b[0m\u001b[0;32m      2\u001b[0m \u001b[1;31m#Combining the new column with month name with the Year3 column\u001b[0m\u001b[1;33m\u001b[0m\u001b[1;33m\u001b[0m\u001b[0m\n\u001b[0;32m      3\u001b[0m \u001b[0mCombined_Month\u001b[0m \u001b[1;33m=\u001b[0m \u001b[0mpd\u001b[0m\u001b[1;33m.\u001b[0m\u001b[0mconcat\u001b[0m\u001b[1;33m(\u001b[0m\u001b[1;33m[\u001b[0m\u001b[0mYear1_df\u001b[0m\u001b[1;33m,\u001b[0m \u001b[0mYear1\u001b[0m\u001b[1;33m]\u001b[0m\u001b[1;33m,\u001b[0m \u001b[0maxis\u001b[0m\u001b[1;33m=\u001b[0m\u001b[1;36m1\u001b[0m\u001b[1;33m,\u001b[0m \u001b[0mjoin_axes\u001b[0m\u001b[1;33m=\u001b[0m\u001b[1;33m[\u001b[0m\u001b[0mYear1\u001b[0m\u001b[1;33m.\u001b[0m\u001b[0mindex\u001b[0m\u001b[1;33m]\u001b[0m\u001b[1;33m)\u001b[0m\u001b[1;33m.\u001b[0m\u001b[0mreset_index\u001b[0m\u001b[1;33m(\u001b[0m\u001b[1;33m)\u001b[0m\u001b[1;33m\u001b[0m\u001b[0m\n\u001b[0;32m      4\u001b[0m \u001b[0mCombined_Month\u001b[0m\u001b[1;33m.\u001b[0m\u001b[0mhead\u001b[0m\u001b[1;33m(\u001b[0m\u001b[1;33m)\u001b[0m\u001b[1;33m\u001b[0m\u001b[0m\n",
      "\u001b[1;32mC:\\Users\\mim\\Anaconda3\\lib\\site-packages\\pandas\\core\\frame.py\u001b[0m in \u001b[0;36mapply\u001b[1;34m(self, func, axis, broadcast, raw, reduce, args, **kwds)\u001b[0m\n\u001b[0;32m   3912\u001b[0m                     \u001b[1;32mif\u001b[0m \u001b[0mreduce\u001b[0m \u001b[1;32mis\u001b[0m \u001b[1;32mNone\u001b[0m\u001b[1;33m:\u001b[0m\u001b[1;33m\u001b[0m\u001b[0m\n\u001b[0;32m   3913\u001b[0m                         \u001b[0mreduce\u001b[0m \u001b[1;33m=\u001b[0m \u001b[1;32mTrue\u001b[0m\u001b[1;33m\u001b[0m\u001b[0m\n\u001b[1;32m-> 3914\u001b[1;33m                     \u001b[1;32mreturn\u001b[0m \u001b[0mself\u001b[0m\u001b[1;33m.\u001b[0m\u001b[0m_apply_standard\u001b[0m\u001b[1;33m(\u001b[0m\u001b[0mf\u001b[0m\u001b[1;33m,\u001b[0m \u001b[0maxis\u001b[0m\u001b[1;33m,\u001b[0m \u001b[0mreduce\u001b[0m\u001b[1;33m=\u001b[0m\u001b[0mreduce\u001b[0m\u001b[1;33m)\u001b[0m\u001b[1;33m\u001b[0m\u001b[0m\n\u001b[0m\u001b[0;32m   3915\u001b[0m             \u001b[1;32melse\u001b[0m\u001b[1;33m:\u001b[0m\u001b[1;33m\u001b[0m\u001b[0m\n\u001b[0;32m   3916\u001b[0m                 \u001b[1;32mreturn\u001b[0m \u001b[0mself\u001b[0m\u001b[1;33m.\u001b[0m\u001b[0m_apply_broadcast\u001b[0m\u001b[1;33m(\u001b[0m\u001b[0mf\u001b[0m\u001b[1;33m,\u001b[0m \u001b[0maxis\u001b[0m\u001b[1;33m)\u001b[0m\u001b[1;33m\u001b[0m\u001b[0m\n",
      "\u001b[1;32mC:\\Users\\mim\\Anaconda3\\lib\\site-packages\\pandas\\core\\frame.py\u001b[0m in \u001b[0;36m_apply_standard\u001b[1;34m(self, func, axis, ignore_failures, reduce)\u001b[0m\n\u001b[0;32m   4004\u001b[0m             \u001b[1;32mtry\u001b[0m\u001b[1;33m:\u001b[0m\u001b[1;33m\u001b[0m\u001b[0m\n\u001b[0;32m   4005\u001b[0m                 \u001b[1;32mfor\u001b[0m \u001b[0mi\u001b[0m\u001b[1;33m,\u001b[0m \u001b[0mv\u001b[0m \u001b[1;32min\u001b[0m \u001b[0menumerate\u001b[0m\u001b[1;33m(\u001b[0m\u001b[0mseries_gen\u001b[0m\u001b[1;33m)\u001b[0m\u001b[1;33m:\u001b[0m\u001b[1;33m\u001b[0m\u001b[0m\n\u001b[1;32m-> 4006\u001b[1;33m                     \u001b[0mresults\u001b[0m\u001b[1;33m[\u001b[0m\u001b[0mi\u001b[0m\u001b[1;33m]\u001b[0m \u001b[1;33m=\u001b[0m \u001b[0mfunc\u001b[0m\u001b[1;33m(\u001b[0m\u001b[0mv\u001b[0m\u001b[1;33m)\u001b[0m\u001b[1;33m\u001b[0m\u001b[0m\n\u001b[0m\u001b[0;32m   4007\u001b[0m                     \u001b[0mkeys\u001b[0m\u001b[1;33m.\u001b[0m\u001b[0mappend\u001b[0m\u001b[1;33m(\u001b[0m\u001b[0mv\u001b[0m\u001b[1;33m.\u001b[0m\u001b[0mname\u001b[0m\u001b[1;33m)\u001b[0m\u001b[1;33m\u001b[0m\u001b[0m\n\u001b[0;32m   4008\u001b[0m             \u001b[1;32mexcept\u001b[0m \u001b[0mException\u001b[0m \u001b[1;32mas\u001b[0m \u001b[0me\u001b[0m\u001b[1;33m:\u001b[0m\u001b[1;33m\u001b[0m\u001b[0m\n",
      "\u001b[1;32m<ipython-input-172-d428fe17923e>\u001b[0m in \u001b[0;36m<lambda>\u001b[1;34m(row)\u001b[0m\n\u001b[1;32m----> 1\u001b[1;33m \u001b[0mYear1\u001b[0m \u001b[1;33m=\u001b[0m \u001b[0mYear1_df\u001b[0m\u001b[1;33m.\u001b[0m\u001b[0mapply\u001b[0m\u001b[1;33m(\u001b[0m\u001b[1;32mlambda\u001b[0m \u001b[0mrow\u001b[0m\u001b[1;33m:\u001b[0m \u001b[0mmonth_name\u001b[0m \u001b[1;33m(\u001b[0m\u001b[0mrow\u001b[0m\u001b[1;33m)\u001b[0m\u001b[1;33m,\u001b[0m\u001b[0maxis\u001b[0m\u001b[1;33m=\u001b[0m\u001b[1;36m1\u001b[0m\u001b[1;33m)\u001b[0m\u001b[1;33m\u001b[0m\u001b[0m\n\u001b[0m\u001b[0;32m      2\u001b[0m \u001b[1;31m#Combining the new column with month name with the Year3 column\u001b[0m\u001b[1;33m\u001b[0m\u001b[1;33m\u001b[0m\u001b[0m\n\u001b[0;32m      3\u001b[0m \u001b[0mCombined_Month\u001b[0m \u001b[1;33m=\u001b[0m \u001b[0mpd\u001b[0m\u001b[1;33m.\u001b[0m\u001b[0mconcat\u001b[0m\u001b[1;33m(\u001b[0m\u001b[1;33m[\u001b[0m\u001b[0mYear1_df\u001b[0m\u001b[1;33m,\u001b[0m \u001b[0mYear1\u001b[0m\u001b[1;33m]\u001b[0m\u001b[1;33m,\u001b[0m \u001b[0maxis\u001b[0m\u001b[1;33m=\u001b[0m\u001b[1;36m1\u001b[0m\u001b[1;33m,\u001b[0m \u001b[0mjoin_axes\u001b[0m\u001b[1;33m=\u001b[0m\u001b[1;33m[\u001b[0m\u001b[0mYear1\u001b[0m\u001b[1;33m.\u001b[0m\u001b[0mindex\u001b[0m\u001b[1;33m]\u001b[0m\u001b[1;33m)\u001b[0m\u001b[1;33m.\u001b[0m\u001b[0mreset_index\u001b[0m\u001b[1;33m(\u001b[0m\u001b[1;33m)\u001b[0m\u001b[1;33m\u001b[0m\u001b[0m\n\u001b[0;32m      4\u001b[0m \u001b[0mCombined_Month\u001b[0m\u001b[1;33m.\u001b[0m\u001b[0mhead\u001b[0m\u001b[1;33m(\u001b[0m\u001b[1;33m)\u001b[0m\u001b[1;33m\u001b[0m\u001b[0m\n",
      "\u001b[1;32m<ipython-input-166-80a01cb3a07d>\u001b[0m in \u001b[0;36mmonth_name\u001b[1;34m(df)\u001b[0m\n\u001b[0;32m      1\u001b[0m \u001b[1;32mdef\u001b[0m \u001b[0mmonth_name\u001b[0m \u001b[1;33m(\u001b[0m\u001b[0mdf\u001b[0m\u001b[1;33m)\u001b[0m\u001b[1;33m:\u001b[0m\u001b[1;33m\u001b[0m\u001b[0m\n\u001b[0;32m      2\u001b[0m     \u001b[1;34m'''Writes out the month number as a string'''\u001b[0m\u001b[1;33m\u001b[0m\u001b[0m\n\u001b[1;32m----> 3\u001b[1;33m     \u001b[1;32mwith\u001b[0m \u001b[0mopen\u001b[0m \u001b[1;33m(\u001b[0m\u001b[0mdf\u001b[0m\u001b[1;33m,\u001b[0m \u001b[1;34m'r'\u001b[0m\u001b[1;33m)\u001b[0m \u001b[1;32mas\u001b[0m \u001b[0mmydf\u001b[0m\u001b[1;33m:\u001b[0m\u001b[1;33m\u001b[0m\u001b[0m\n\u001b[0m\u001b[0;32m      4\u001b[0m         \u001b[1;31m# This reads the lines in the dataframe\u001b[0m\u001b[1;33m\u001b[0m\u001b[1;33m\u001b[0m\u001b[0m\n\u001b[0;32m      5\u001b[0m         \u001b[0mfile\u001b[0m \u001b[1;33m=\u001b[0m \u001b[0mmydf\u001b[0m\u001b[1;33m.\u001b[0m\u001b[0mreadlines\u001b[0m\u001b[1;33m(\u001b[0m\u001b[1;33m)\u001b[0m\u001b[1;33m\u001b[0m\u001b[0m\n",
      "\u001b[1;31mTypeError\u001b[0m: (\"Can't convert 'Series' object to str implicitly\", 'occurred at index 0')"
     ]
    }
   ],
   "source": [
    "Year1 = Year1_df.apply(lambda row: month_name (row),axis=1)\n",
    "#Combining the new column with month name with the Year3 column \n",
    "Combined_Month = pd.concat([Year1_df, Year1], axis=1, join_axes=[Year1.index]).reset_index()\n",
    "Combined_Month.head()"
   ]
  },
  {
   "cell_type": "code",
   "execution_count": 173,
   "metadata": {
    "collapsed": false
   },
   "outputs": [
    {
     "data": {
      "text/html": [
       "<div>\n",
       "<table border=\"1\" class=\"dataframe\">\n",
       "  <thead>\n",
       "    <tr style=\"text-align: right;\">\n",
       "      <th></th>\n",
       "      <th>Date_of_Order</th>\n",
       "      <th>Sales_in_CAD</th>\n",
       "      <th>Month</th>\n",
       "    </tr>\n",
       "  </thead>\n",
       "  <tbody>\n",
       "    <tr>\n",
       "      <th>0</th>\n",
       "      <td>2013-08-31</td>\n",
       "      <td>81819.96200</td>\n",
       "      <td>8</td>\n",
       "    </tr>\n",
       "    <tr>\n",
       "      <th>1</th>\n",
       "      <td>2013-09-30</td>\n",
       "      <td>58372.19460</td>\n",
       "      <td>9</td>\n",
       "    </tr>\n",
       "    <tr>\n",
       "      <th>2</th>\n",
       "      <td>2013-10-31</td>\n",
       "      <td>113018.98208</td>\n",
       "      <td>10</td>\n",
       "    </tr>\n",
       "    <tr>\n",
       "      <th>3</th>\n",
       "      <td>2013-11-30</td>\n",
       "      <td>104607.67808</td>\n",
       "      <td>11</td>\n",
       "    </tr>\n",
       "    <tr>\n",
       "      <th>4</th>\n",
       "      <td>2013-12-31</td>\n",
       "      <td>82281.35900</td>\n",
       "      <td>12</td>\n",
       "    </tr>\n",
       "  </tbody>\n",
       "</table>\n",
       "</div>"
      ],
      "text/plain": [
       "  Date_of_Order  Sales_in_CAD  Month\n",
       "0    2013-08-31   81819.96200      8\n",
       "1    2013-09-30   58372.19460      9\n",
       "2    2013-10-31  113018.98208     10\n",
       "3    2013-11-30  104607.67808     11\n",
       "4    2013-12-31   82281.35900     12"
      ]
     },
     "execution_count": 173,
     "metadata": {},
     "output_type": "execute_result"
    }
   ],
   "source": [
    "# Making a table for the business year 2013-2014 only\n",
    "Year2_df = df_less.iloc[12:24].reset_index()\n",
    "\n",
    "#Creating a new column of month, by taking the month out of the Date_of_Order column  \n",
    "Year2_df['Month'] = Year2_df['Date_of_Order'].dt.month\n",
    "Year2_df.head()"
   ]
  },
  {
   "cell_type": "code",
   "execution_count": 365,
   "metadata": {
    "collapsed": false
   },
   "outputs": [
    {
     "ename": "TypeError",
     "evalue": "(\"Can't convert 'Series' object to str implicitly\", 'occurred at index 0')",
     "output_type": "error",
     "traceback": [
      "\u001b[1;31m---------------------------------------------------------------------------\u001b[0m",
      "\u001b[1;31mTypeError\u001b[0m                                 Traceback (most recent call last)",
      "\u001b[1;32m<ipython-input-365-56ea0b6ce421>\u001b[0m in \u001b[0;36m<module>\u001b[1;34m()\u001b[0m\n\u001b[1;32m----> 1\u001b[1;33m \u001b[0mYear2\u001b[0m \u001b[1;33m=\u001b[0m \u001b[0mYear2_df\u001b[0m\u001b[1;33m.\u001b[0m\u001b[0mapply\u001b[0m\u001b[1;33m(\u001b[0m\u001b[1;32mlambda\u001b[0m \u001b[0mrow\u001b[0m\u001b[1;33m:\u001b[0m \u001b[0mmonth_name\u001b[0m \u001b[1;33m(\u001b[0m\u001b[0mrow\u001b[0m\u001b[1;33m)\u001b[0m\u001b[1;33m,\u001b[0m\u001b[0maxis\u001b[0m\u001b[1;33m=\u001b[0m\u001b[1;36m1\u001b[0m\u001b[1;33m)\u001b[0m\u001b[1;33m\u001b[0m\u001b[0m\n\u001b[0m\u001b[0;32m      2\u001b[0m \u001b[1;31m#Combining the new column with month name with the Year3 column\u001b[0m\u001b[1;33m\u001b[0m\u001b[1;33m\u001b[0m\u001b[0m\n\u001b[0;32m      3\u001b[0m \u001b[0mCombined_Month\u001b[0m \u001b[1;33m=\u001b[0m \u001b[0mpd\u001b[0m\u001b[1;33m.\u001b[0m\u001b[0mconcat\u001b[0m\u001b[1;33m(\u001b[0m\u001b[1;33m[\u001b[0m\u001b[0mYear2_df\u001b[0m\u001b[1;33m,\u001b[0m \u001b[0mYear2\u001b[0m\u001b[1;33m]\u001b[0m\u001b[1;33m,\u001b[0m \u001b[0maxis\u001b[0m\u001b[1;33m=\u001b[0m\u001b[1;36m1\u001b[0m\u001b[1;33m,\u001b[0m \u001b[0mjoin_axes\u001b[0m\u001b[1;33m=\u001b[0m\u001b[1;33m[\u001b[0m\u001b[0mYear2\u001b[0m\u001b[1;33m.\u001b[0m\u001b[0mindex\u001b[0m\u001b[1;33m]\u001b[0m\u001b[1;33m)\u001b[0m\u001b[1;33m.\u001b[0m\u001b[0mreset_index\u001b[0m\u001b[1;33m(\u001b[0m\u001b[1;33m)\u001b[0m\u001b[1;33m\u001b[0m\u001b[0m\n\u001b[0;32m      4\u001b[0m \u001b[0mCombined_Month\u001b[0m\u001b[1;33m.\u001b[0m\u001b[0mhead\u001b[0m\u001b[1;33m(\u001b[0m\u001b[1;33m)\u001b[0m\u001b[1;33m\u001b[0m\u001b[0m\n",
      "\u001b[1;32mC:\\Users\\mim\\Anaconda3\\lib\\site-packages\\pandas\\core\\frame.py\u001b[0m in \u001b[0;36mapply\u001b[1;34m(self, func, axis, broadcast, raw, reduce, args, **kwds)\u001b[0m\n\u001b[0;32m   3912\u001b[0m                     \u001b[1;32mif\u001b[0m \u001b[0mreduce\u001b[0m \u001b[1;32mis\u001b[0m \u001b[1;32mNone\u001b[0m\u001b[1;33m:\u001b[0m\u001b[1;33m\u001b[0m\u001b[0m\n\u001b[0;32m   3913\u001b[0m                         \u001b[0mreduce\u001b[0m \u001b[1;33m=\u001b[0m \u001b[1;32mTrue\u001b[0m\u001b[1;33m\u001b[0m\u001b[0m\n\u001b[1;32m-> 3914\u001b[1;33m                     \u001b[1;32mreturn\u001b[0m \u001b[0mself\u001b[0m\u001b[1;33m.\u001b[0m\u001b[0m_apply_standard\u001b[0m\u001b[1;33m(\u001b[0m\u001b[0mf\u001b[0m\u001b[1;33m,\u001b[0m \u001b[0maxis\u001b[0m\u001b[1;33m,\u001b[0m \u001b[0mreduce\u001b[0m\u001b[1;33m=\u001b[0m\u001b[0mreduce\u001b[0m\u001b[1;33m)\u001b[0m\u001b[1;33m\u001b[0m\u001b[0m\n\u001b[0m\u001b[0;32m   3915\u001b[0m             \u001b[1;32melse\u001b[0m\u001b[1;33m:\u001b[0m\u001b[1;33m\u001b[0m\u001b[0m\n\u001b[0;32m   3916\u001b[0m                 \u001b[1;32mreturn\u001b[0m \u001b[0mself\u001b[0m\u001b[1;33m.\u001b[0m\u001b[0m_apply_broadcast\u001b[0m\u001b[1;33m(\u001b[0m\u001b[0mf\u001b[0m\u001b[1;33m,\u001b[0m \u001b[0maxis\u001b[0m\u001b[1;33m)\u001b[0m\u001b[1;33m\u001b[0m\u001b[0m\n",
      "\u001b[1;32mC:\\Users\\mim\\Anaconda3\\lib\\site-packages\\pandas\\core\\frame.py\u001b[0m in \u001b[0;36m_apply_standard\u001b[1;34m(self, func, axis, ignore_failures, reduce)\u001b[0m\n\u001b[0;32m   4004\u001b[0m             \u001b[1;32mtry\u001b[0m\u001b[1;33m:\u001b[0m\u001b[1;33m\u001b[0m\u001b[0m\n\u001b[0;32m   4005\u001b[0m                 \u001b[1;32mfor\u001b[0m \u001b[0mi\u001b[0m\u001b[1;33m,\u001b[0m \u001b[0mv\u001b[0m \u001b[1;32min\u001b[0m \u001b[0menumerate\u001b[0m\u001b[1;33m(\u001b[0m\u001b[0mseries_gen\u001b[0m\u001b[1;33m)\u001b[0m\u001b[1;33m:\u001b[0m\u001b[1;33m\u001b[0m\u001b[0m\n\u001b[1;32m-> 4006\u001b[1;33m                     \u001b[0mresults\u001b[0m\u001b[1;33m[\u001b[0m\u001b[0mi\u001b[0m\u001b[1;33m]\u001b[0m \u001b[1;33m=\u001b[0m \u001b[0mfunc\u001b[0m\u001b[1;33m(\u001b[0m\u001b[0mv\u001b[0m\u001b[1;33m)\u001b[0m\u001b[1;33m\u001b[0m\u001b[0m\n\u001b[0m\u001b[0;32m   4007\u001b[0m                     \u001b[0mkeys\u001b[0m\u001b[1;33m.\u001b[0m\u001b[0mappend\u001b[0m\u001b[1;33m(\u001b[0m\u001b[0mv\u001b[0m\u001b[1;33m.\u001b[0m\u001b[0mname\u001b[0m\u001b[1;33m)\u001b[0m\u001b[1;33m\u001b[0m\u001b[0m\n\u001b[0;32m   4008\u001b[0m             \u001b[1;32mexcept\u001b[0m \u001b[0mException\u001b[0m \u001b[1;32mas\u001b[0m \u001b[0me\u001b[0m\u001b[1;33m:\u001b[0m\u001b[1;33m\u001b[0m\u001b[0m\n",
      "\u001b[1;32m<ipython-input-365-56ea0b6ce421>\u001b[0m in \u001b[0;36m<lambda>\u001b[1;34m(row)\u001b[0m\n\u001b[1;32m----> 1\u001b[1;33m \u001b[0mYear2\u001b[0m \u001b[1;33m=\u001b[0m \u001b[0mYear2_df\u001b[0m\u001b[1;33m.\u001b[0m\u001b[0mapply\u001b[0m\u001b[1;33m(\u001b[0m\u001b[1;32mlambda\u001b[0m \u001b[0mrow\u001b[0m\u001b[1;33m:\u001b[0m \u001b[0mmonth_name\u001b[0m \u001b[1;33m(\u001b[0m\u001b[0mrow\u001b[0m\u001b[1;33m)\u001b[0m\u001b[1;33m,\u001b[0m\u001b[0maxis\u001b[0m\u001b[1;33m=\u001b[0m\u001b[1;36m1\u001b[0m\u001b[1;33m)\u001b[0m\u001b[1;33m\u001b[0m\u001b[0m\n\u001b[0m\u001b[0;32m      2\u001b[0m \u001b[1;31m#Combining the new column with month name with the Year3 column\u001b[0m\u001b[1;33m\u001b[0m\u001b[1;33m\u001b[0m\u001b[0m\n\u001b[0;32m      3\u001b[0m \u001b[0mCombined_Month\u001b[0m \u001b[1;33m=\u001b[0m \u001b[0mpd\u001b[0m\u001b[1;33m.\u001b[0m\u001b[0mconcat\u001b[0m\u001b[1;33m(\u001b[0m\u001b[1;33m[\u001b[0m\u001b[0mYear2_df\u001b[0m\u001b[1;33m,\u001b[0m \u001b[0mYear2\u001b[0m\u001b[1;33m]\u001b[0m\u001b[1;33m,\u001b[0m \u001b[0maxis\u001b[0m\u001b[1;33m=\u001b[0m\u001b[1;36m1\u001b[0m\u001b[1;33m,\u001b[0m \u001b[0mjoin_axes\u001b[0m\u001b[1;33m=\u001b[0m\u001b[1;33m[\u001b[0m\u001b[0mYear2\u001b[0m\u001b[1;33m.\u001b[0m\u001b[0mindex\u001b[0m\u001b[1;33m]\u001b[0m\u001b[1;33m)\u001b[0m\u001b[1;33m.\u001b[0m\u001b[0mreset_index\u001b[0m\u001b[1;33m(\u001b[0m\u001b[1;33m)\u001b[0m\u001b[1;33m\u001b[0m\u001b[0m\n\u001b[0;32m      4\u001b[0m \u001b[0mCombined_Month\u001b[0m\u001b[1;33m.\u001b[0m\u001b[0mhead\u001b[0m\u001b[1;33m(\u001b[0m\u001b[1;33m)\u001b[0m\u001b[1;33m\u001b[0m\u001b[0m\n",
      "\u001b[1;32m<ipython-input-166-80a01cb3a07d>\u001b[0m in \u001b[0;36mmonth_name\u001b[1;34m(df)\u001b[0m\n\u001b[0;32m      1\u001b[0m \u001b[1;32mdef\u001b[0m \u001b[0mmonth_name\u001b[0m \u001b[1;33m(\u001b[0m\u001b[0mdf\u001b[0m\u001b[1;33m)\u001b[0m\u001b[1;33m:\u001b[0m\u001b[1;33m\u001b[0m\u001b[0m\n\u001b[0;32m      2\u001b[0m     \u001b[1;34m'''Writes out the month number as a string'''\u001b[0m\u001b[1;33m\u001b[0m\u001b[0m\n\u001b[1;32m----> 3\u001b[1;33m     \u001b[1;32mwith\u001b[0m \u001b[0mopen\u001b[0m \u001b[1;33m(\u001b[0m\u001b[0mdf\u001b[0m\u001b[1;33m,\u001b[0m \u001b[1;34m'r'\u001b[0m\u001b[1;33m)\u001b[0m \u001b[1;32mas\u001b[0m \u001b[0mmydf\u001b[0m\u001b[1;33m:\u001b[0m\u001b[1;33m\u001b[0m\u001b[0m\n\u001b[0m\u001b[0;32m      4\u001b[0m         \u001b[1;31m# This reads the lines in the dataframe\u001b[0m\u001b[1;33m\u001b[0m\u001b[1;33m\u001b[0m\u001b[0m\n\u001b[0;32m      5\u001b[0m         \u001b[0mfile\u001b[0m \u001b[1;33m=\u001b[0m \u001b[0mmydf\u001b[0m\u001b[1;33m.\u001b[0m\u001b[0mreadlines\u001b[0m\u001b[1;33m(\u001b[0m\u001b[1;33m)\u001b[0m\u001b[1;33m\u001b[0m\u001b[0m\n",
      "\u001b[1;31mTypeError\u001b[0m: (\"Can't convert 'Series' object to str implicitly\", 'occurred at index 0')"
     ]
    }
   ],
   "source": [
    "Year2 = Year2_df.apply (lambda row: month_name (row),axis=1)\n",
    "#Combining the new column with month name with the Year3 column \n",
    "Combined_Month = pd.concat([Year2_df, Year2], axis=1, join_axes=[Year2.index]).reset_index()\n",
    "Combined_Month.head()"
   ]
  },
  {
   "cell_type": "code",
   "execution_count": 175,
   "metadata": {
    "collapsed": false
   },
   "outputs": [
    {
     "data": {
      "image/png": "[encoded data removed]",
      "text/plain": [
       "<matplotlib.figure.Figure at 0xabb04e0>"
      ]
     },
     "metadata": {},
     "output_type": "display_data"
    }
   ],
   "source": [
    "#change figure size\n",
    "plt.figure(figsize=(12,10)) # in inches, width then height. \n",
    "\n",
    "#creating subplots and defining them\n",
    "# 3 rows, 1 columns, 1st subplot\n",
    "plt.subplot(3,1,1)      \n",
    "plt.plot(Year1_df.Date_of_Order, Year1_df.Sales_in_CAD, marker='o', color ='m', linestyle='--')\n",
    "#Add title\n",
    "plt.title('Sales per Month in the 2012-13 Business Year')\n",
    "#Add gridlines\n",
    "plt.grid(True)\n",
    "#Add axis labels\n",
    "plt.ylabel('Sales in CAD')\n",
    "\n",
    "# 3 rows, 1 columns, 2nd subplot\n",
    "plt.subplot(3,1,2)      \n",
    "plt.plot(Year2_df.Date_of_Order, Year2_df.Sales_in_CAD, marker='o', color ='m', linestyle='--')\n",
    "#Add title\n",
    "plt.title('Sales per Month in the 2013-14 Business Year')\n",
    "#Add gridlines\n",
    "plt.grid(True)\n",
    "#Add axis labels\n",
    "plt.ylabel('Sales in CAD')\n",
    "\n",
    "# 3 rows, 1 columns, 3rd subplot\n",
    "plt.subplot(3,1,3)      \n",
    "plt.plot(Year3_df.Date_of_Order, Year3_df.Sales_in_CAD, marker='o', color ='m', linestyle='--')\n",
    "#Add title\n",
    "plt.title('Sales per Month in the 2014-15 Business Year')\n",
    "#Add gridlines\n",
    "plt.grid(True)\n",
    "#Add axis labels\n",
    "plt.ylabel('Sales in CAD')\n",
    "\n",
    "# give plots some breathing room\n",
    "plt.tight_layout()\n",
    "\n",
    "#show plot\n",
    "plt.show()"
   ]
  },
  {
   "cell_type": "code",
   "execution_count": null,
   "metadata": {
    "collapsed": true
   },
   "outputs": [],
   "source": []
  },
  {
   "cell_type": "code",
   "execution_count": 176,
   "metadata": {
    "collapsed": false
   },
   "outputs": [
    {
     "data": {
      "text/plain": [
       "[<matplotlib.lines.Line2D at 0x8bedd68>,\n",
       " <matplotlib.lines.Line2D at 0x8bf00b8>,\n",
       " <matplotlib.lines.Line2D at 0x8bf07f0>]"
      ]
     },
     "execution_count": 176,
     "metadata": {},
     "output_type": "execute_result"
    },
    {
     "data": {
      "image/png": "[encoded data removed]",
      "text/plain": [
       "<matplotlib.figure.Figure at 0x8d8b438>"
      ]
     },
     "metadata": {},
     "output_type": "display_data"
    }
   ],
   "source": [
    "#Plotting all 3 subplots in the same plot as a scatter plot\n",
    "plt.figure(figsize=(10,4))\n",
    "plt.plot(Year2_df.Month, Year2_df.Sales_in_CAD, 'ro', Year2_df.Month, Year1_df.Sales_in_CAD, 'go', Year1_df.Month, Year3_df.Sales_in_CAD, 'mo')"
   ]
  },
  {
   "cell_type": "markdown",
   "metadata": {},
   "source": [
    "#PLOT3: Creating a boxplot that shows the distribution of sales across all fields, also showing how large individual Sales were. This will be done for all years combined first. "
   ]
  },
  {
   "cell_type": "code",
   "execution_count": 221,
   "metadata": {
    "collapsed": false
   },
   "outputs": [
    {
     "data": {
      "text/html": [
       "<div>\n",
       "<table border=\"1\" class=\"dataframe\">\n",
       "  <thead>\n",
       "    <tr style=\"text-align: right;\">\n",
       "      <th></th>\n",
       "      <th></th>\n",
       "      <th>Exchange_Rate</th>\n",
       "      <th>Total_Sales</th>\n",
       "    </tr>\n",
       "    <tr>\n",
       "      <th>Field</th>\n",
       "      <th>Sales_in_CAD</th>\n",
       "      <th></th>\n",
       "      <th></th>\n",
       "    </tr>\n",
       "  </thead>\n",
       "  <tbody>\n",
       "    <tr>\n",
       "      <th rowspan=\"5\" valign=\"top\">aerospace</th>\n",
       "      <th>124.5840</th>\n",
       "      <td>1.0740</td>\n",
       "      <td>116</td>\n",
       "    </tr>\n",
       "    <tr>\n",
       "      <th>235.5885</th>\n",
       "      <td>1.2465</td>\n",
       "      <td>189</td>\n",
       "    </tr>\n",
       "    <tr>\n",
       "      <th>505.0000</th>\n",
       "      <td>1.0000</td>\n",
       "      <td>505</td>\n",
       "    </tr>\n",
       "    <tr>\n",
       "      <th>559.7100</th>\n",
       "      <td>1.2438</td>\n",
       "      <td>450</td>\n",
       "    </tr>\n",
       "    <tr>\n",
       "      <th>1410.1620</th>\n",
       "      <td>1.0740</td>\n",
       "      <td>1313</td>\n",
       "    </tr>\n",
       "  </tbody>\n",
       "</table>\n",
       "</div>"
      ],
      "text/plain": [
       "                        Exchange_Rate  Total_Sales\n",
       "Field     Sales_in_CAD                            \n",
       "aerospace 124.5840             1.0740          116\n",
       "          235.5885             1.2465          189\n",
       "          505.0000             1.0000          505\n",
       "          559.7100             1.2438          450\n",
       "          1410.1620            1.0740         1313"
      ]
     },
     "execution_count": 221,
     "metadata": {},
     "output_type": "execute_result"
    }
   ],
   "source": [
    "# Groupby Field and Sales_in_CAD to keep each sales order seperate so we can later plot a boxplot which shows\n",
    "# the distribution of sales. \n",
    "resampled_groups = Exchange_df.groupby(['Field', 'Sales_in_CAD']).sum()\n",
    "resampled_groups.head()"
   ]
  },
  {
   "cell_type": "code",
   "execution_count": 178,
   "metadata": {
    "collapsed": true
   },
   "outputs": [],
   "source": [
    "# Resetting the index columns in order to plot \n",
    "resampled1_groups = resampled_groups.reset_index()"
   ]
  },
  {
   "cell_type": "code",
   "execution_count": 179,
   "metadata": {
    "collapsed": false
   },
   "outputs": [
    {
     "data": {
      "text/plain": [
       "<matplotlib.text.Text at 0x8bffbe0>"
      ]
     },
     "execution_count": 179,
     "metadata": {},
     "output_type": "execute_result"
    },
    {
     "data": {
      "image/png": "[encoded data removed]",
      "text/plain": [
       "<matplotlib.figure.Figure at 0x8bcf1d0>"
      ]
     },
     "metadata": {},
     "output_type": "display_data"
    }
   ],
   "source": [
    "#Creating a boxplot of Sales according to the field a customer works in. This plot is for all years (2010 - 2015) combined\n",
    "resampled1_groups.boxplot(by = 'Field', column='Sales_in_CAD', figsize=(25,10))\n",
    "\n",
    "#Changing the y limit\n",
    "plt.ylim(0, 40000)\n",
    "\n",
    "plt.title('Sales to Customers according to Field (Years: 2010 - 2015)')\n",
    "plt.xlabel('Field of Customer')\n",
    "plt.ylabel('Sales in CAD')\n"
   ]
  },
  {
   "cell_type": "markdown",
   "metadata": {
    "collapsed": true
   },
   "source": [
    "Now I am trying to seperate each string in the Field column to create seperate plots, that will show the difference in sales in each years to see if there are any visible trends in any fields over the years. I would like to use a function for this to make it most efficient. \n"
   ]
  },
  {
   "cell_type": "code",
   "execution_count": 251,
   "metadata": {
    "collapsed": false
   },
   "outputs": [
    {
     "data": {
      "text/html": [
       "<div>\n",
       "<table border=\"1\" class=\"dataframe\">\n",
       "  <thead>\n",
       "    <tr style=\"text-align: right;\">\n",
       "      <th></th>\n",
       "      <th>Date_of_Order</th>\n",
       "      <th>Field</th>\n",
       "      <th>New_or_Returning</th>\n",
       "      <th>Sales_in_CAD</th>\n",
       "    </tr>\n",
       "  </thead>\n",
       "  <tbody>\n",
       "    <tr>\n",
       "      <th>0</th>\n",
       "      <td>2010-08-04</td>\n",
       "      <td>engine technology</td>\n",
       "      <td>Returning</td>\n",
       "      <td>1897.60</td>\n",
       "    </tr>\n",
       "    <tr>\n",
       "      <th>1</th>\n",
       "      <td>2010-08-16</td>\n",
       "      <td>engine technology</td>\n",
       "      <td>Returning</td>\n",
       "      <td>28963.00</td>\n",
       "    </tr>\n",
       "    <tr>\n",
       "      <th>2</th>\n",
       "      <td>2010-08-20</td>\n",
       "      <td>engine technology</td>\n",
       "      <td>Returning</td>\n",
       "      <td>76339.00</td>\n",
       "    </tr>\n",
       "    <tr>\n",
       "      <th>3</th>\n",
       "      <td>2010-08-27</td>\n",
       "      <td>aerospace</td>\n",
       "      <td>New</td>\n",
       "      <td>24318.92</td>\n",
       "    </tr>\n",
       "    <tr>\n",
       "      <th>4</th>\n",
       "      <td>2010-09-15</td>\n",
       "      <td>food</td>\n",
       "      <td>New</td>\n",
       "      <td>35084.00</td>\n",
       "    </tr>\n",
       "  </tbody>\n",
       "</table>\n",
       "</div>"
      ],
      "text/plain": [
       "  Date_of_Order              Field New_or_Returning  Sales_in_CAD\n",
       "0    2010-08-04  engine technology       Returning        1897.60\n",
       "1    2010-08-16  engine technology       Returning       28963.00\n",
       "2    2010-08-20  engine technology       Returning       76339.00\n",
       "3    2010-08-27          aerospace              New      24318.92\n",
       "4    2010-09-15               food              New      35084.00"
      ]
     },
     "execution_count": 251,
     "metadata": {},
     "output_type": "execute_result"
    }
   ],
   "source": [
    "# Creating a new table that contains only the columns that we need to create seperate plots for each field\n",
    "Reset_ind = Exchange_df.reset_index()\n",
    "Fields_df = Reset_ind[['Date_of_Order', 'Field', 'New_or_Returning', 'Sales_in_CAD']]\n",
    "Fields_df.head()"
   ]
  },
  {
   "cell_type": "code",
   "execution_count": 252,
   "metadata": {
    "collapsed": false
   },
   "outputs": [],
   "source": [
    "# Trying to downsample data to business year, but it downsamples to year. \n",
    "Aerospace_an = aerospace_df.resample('BA', how=('sum'))  "
   ]
  },
  {
   "cell_type": "code",
   "execution_count": 226,
   "metadata": {
    "collapsed": true
   },
   "outputs": [],
   "source": [
    "# Creating a variable that contains all the names of the fields in the Field column\n",
    "Fields = ['aerospace', 'oil & gas', 'alternative energy', 'engine technology', 'construction', 'research', 'water systems', 'distributor', 'solutions provider', 'other', 'instrumentation manufacturer', 'valve manufacturer', 'material science', 'chemical', 'food', 'health']"
   ]
  },
  {
   "cell_type": "code",
   "execution_count": 268,
   "metadata": {
    "collapsed": false
   },
   "outputs": [],
   "source": [
    "# Creating a dictionary that will contain each field seperately, so you can call each field with the dictionary\n",
    "dic = {}\n",
    "\n",
    "# Creating a FOR loop that will groupby a specified field in the field column of a dataframe.\n",
    "for field in Fields:\n",
    "    dic[field] = Fields_df.groupby(['Field']).get_group(field)"
   ]
  },
  {
   "cell_type": "code",
   "execution_count": 264,
   "metadata": {
    "collapsed": false
   },
   "outputs": [],
   "source": [
    "# Creating a variable for each field\n",
    "research_df = dic['research']\n",
    "oilgas_df = dic['oil & gas']\n",
    "alternative_df = dic['alternative energy']\n"
   ]
  },
  {
   "cell_type": "code",
   "execution_count": 357,
   "metadata": {
    "collapsed": false
   },
   "outputs": [],
   "source": [
    "# Defining a function that will plot from a dataframe. The function takes in the two columns from a dataframe,\n",
    "# that will be plotted on the x and y axis. \n",
    "def plot(x, y):\n",
    "    plt.figure(figsize=(10,3))\n",
    "    plt.plot(x, y, marker='o', linewidth=0)\n",
    "    plt.ylim(-1000,)"
   ]
  },
  {
   "cell_type": "markdown",
   "metadata": {},
   "source": [
    "Now I am trying to find which fields are interesting to look at. Which fields show interesting trends/fluctuations in sales. I plotted all fields using the plot function, however i only kept the fields which showed an interesting trend. "
   ]
  },
  {
   "cell_type": "code",
   "execution_count": 358,
   "metadata": {
    "collapsed": false
   },
   "outputs": [
    {
     "data": {
      "image/png": "[encoded data removed]",
      "text/plain": [
       "<matplotlib.figure.Figure at 0xd2539e8>"
      ]
     },
     "metadata": {},
     "output_type": "display_data"
    }
   ],
   "source": [
    "plot(dic['oil & gas']['Date_of_Order'], dic['oil & gas']['Sales_in_CAD'])"
   ]
  },
  {
   "cell_type": "code",
   "execution_count": 359,
   "metadata": {
    "collapsed": false
   },
   "outputs": [
    {
     "data": {
      "image/png": "[encoded data removed]",
      "text/plain": [
       "<matplotlib.figure.Figure at 0xd39f908>"
      ]
     },
     "metadata": {},
     "output_type": "display_data"
    }
   ],
   "source": [
    "plot(dic['aerospace']['Date_of_Order'], dic['aerospace']['Sales_in_CAD'])"
   ]
  },
  {
   "cell_type": "code",
   "execution_count": 360,
   "metadata": {
    "collapsed": false
   },
   "outputs": [
    {
     "data": {
      "image/png": "[encoded data removed]",
      "text/plain": [
       "<matplotlib.figure.Figure at 0xd25e2e8>"
      ]
     },
     "metadata": {},
     "output_type": "display_data"
    }
   ],
   "source": [
    "plot(dic['water systems']['Date_of_Order'], dic['water systems']['Sales_in_CAD'])"
   ]
  },
  {
   "cell_type": "code",
   "execution_count": 361,
   "metadata": {
    "collapsed": false
   },
   "outputs": [
    {
     "data": {
      "image/png": "[encoded data removed]",
      "text/plain": [
       "<matplotlib.figure.Figure at 0x104c0278>"
      ]
     },
     "metadata": {},
     "output_type": "display_data"
    }
   ],
   "source": [
    "plot(dic['chemical']['Date_of_Order'], dic['chemical']['Sales_in_CAD'])"
   ]
  },
  {
   "cell_type": "code",
   "execution_count": 362,
   "metadata": {
    "collapsed": false
   },
   "outputs": [
    {
     "data": {
      "image/png": "[encoded data removed]",
      "text/plain": [
       "<matplotlib.figure.Figure at 0x10b6e3c8>"
      ]
     },
     "metadata": {},
     "output_type": "display_data"
    }
   ],
   "source": [
    "plot(dic['material science']['Date_of_Order'], dic['material science']['Sales_in_CAD'])"
   ]
  },
  {
   "cell_type": "code",
   "execution_count": 182,
   "metadata": {
    "collapsed": false
   },
   "outputs": [],
   "source": [
    "# Trying to make a function that takes out rows per business year from a dataframe\n",
    "def businessyear(SalesData):\n",
    "    '''Extracts all dates in a specific business year from a dataset,\n",
    "    to create a new dataframe with just this year'''\n",
    "    # Opening the data in the function\n",
    "    # The r means read file\n",
    "    with open (SalesData, 'r') as mySalesData:\n",
    "        #Reading all of the lines in the dataframe\n",
    "        file = mySalesData.readlines()\n",
    "        \n",
    "        # This creates a variable of the Date column\n",
    "        dates = file.Date\n",
    "        \n",
    "        if dates == 2010:\n",
    "            return ('You suck')"
   ]
  },
  {
   "cell_type": "code",
   "execution_count": null,
   "metadata": {
    "collapsed": true
   },
   "outputs": [],
   "source": [
    "def business(dataframe):"
   ]
  },
  {
   "cell_type": "code",
   "execution_count": 183,
   "metadata": {
    "collapsed": false
   },
   "outputs": [
    {
     "ename": "TypeError",
     "evalue": "invalid file:                Exchange_Rate                      Customer  \\\nDate_of_Order                                                \n2010-08-04                 1                 ABB Australia   \n2010-08-16                 1            A&A Metal Products   \n2010-08-20                 1          Analytical Engineer.   \n2010-08-27                 1               Bombardier Inc.   \n2010-09-15                 1            Beef Products Inc.   \n...                      ...                           ...   \n2011-09-06                 1     Trinity Tech                \n2011-08-07                 1  U.S. Army Corps of engineers   \n2011-08-08                 1                   West Taylor   \n2011-08-09                 1                      Woodward   \n2011-08-10                 1     Biomedical Device           \n\n                                      Field  Total_Sales Year_of_First_Order  \\\nDate_of_Order                                                                  \n2010-08-04                engine technology      1897.60                   1   \n2010-08-16                engine technology     28963.00                   1   \n2010-08-20                engine technology     76339.00                   1   \n2010-08-27                        aerospace     24318.92                   1   \n2010-09-15                             food     35084.00                   1   \n...                                     ...          ...                 ...   \n2011-09-06               solutions provider      5642.39                   1   \n2011-08-07                         research      1856.00                   1   \n2011-08-08                            other      1040.00                   1   \n2011-08-09                        aerospace     28655.88                   1   \n2011-08-10     instrumentation manufacturer      3644.49                   1   \n\n              New_or_Returning  Sales_in_CAD  \nDate_of_Order                                 \n2010-08-04          Returning        1897.60  \n2010-08-16          Returning       28963.00  \n2010-08-20          Returning       76339.00  \n2010-08-27                 New      24318.92  \n2010-09-15                 New      35084.00  \n...                        ...           ...  \n2011-09-06                 New       5642.39  \n2011-08-07          Returning        1856.00  \n2011-08-08          Returning        1040.00  \n2011-08-09          Returning       28655.88  \n2011-08-10                 New       3644.49  \n\n[752 rows x 7 columns]",
     "output_type": "error",
     "traceback": [
      "\u001b[1;31m---------------------------------------------------------------------------\u001b[0m",
      "\u001b[1;31mTypeError\u001b[0m                                 Traceback (most recent call last)",
      "\u001b[1;32m<ipython-input-183-6bbb6d6be1f6>\u001b[0m in \u001b[0;36m<module>\u001b[1;34m()\u001b[0m\n\u001b[1;32m----> 1\u001b[1;33m \u001b[0mbusinessyear\u001b[0m\u001b[1;33m(\u001b[0m\u001b[0mExchange_df\u001b[0m\u001b[1;33m)\u001b[0m\u001b[1;33m\u001b[0m\u001b[0m\n\u001b[0m",
      "\u001b[1;32m<ipython-input-182-376fb44a2d64>\u001b[0m in \u001b[0;36mbusinessyear\u001b[1;34m(SalesData)\u001b[0m\n\u001b[0;32m      5\u001b[0m     \u001b[1;31m# Opening the data in the function\u001b[0m\u001b[1;33m\u001b[0m\u001b[1;33m\u001b[0m\u001b[0m\n\u001b[0;32m      6\u001b[0m     \u001b[1;31m# The r means read file\u001b[0m\u001b[1;33m\u001b[0m\u001b[1;33m\u001b[0m\u001b[0m\n\u001b[1;32m----> 7\u001b[1;33m     \u001b[1;32mwith\u001b[0m \u001b[0mopen\u001b[0m \u001b[1;33m(\u001b[0m\u001b[0mSalesData\u001b[0m\u001b[1;33m,\u001b[0m \u001b[1;34m'r'\u001b[0m\u001b[1;33m)\u001b[0m \u001b[1;32mas\u001b[0m \u001b[0mmySalesData\u001b[0m\u001b[1;33m:\u001b[0m\u001b[1;33m\u001b[0m\u001b[0m\n\u001b[0m\u001b[0;32m      8\u001b[0m         \u001b[1;31m#Reading all of the lines in the dataframe\u001b[0m\u001b[1;33m\u001b[0m\u001b[1;33m\u001b[0m\u001b[0m\n\u001b[0;32m      9\u001b[0m         \u001b[0mfile\u001b[0m \u001b[1;33m=\u001b[0m \u001b[0mmySalesData\u001b[0m\u001b[1;33m.\u001b[0m\u001b[0mreadlines\u001b[0m\u001b[1;33m(\u001b[0m\u001b[1;33m)\u001b[0m\u001b[1;33m\u001b[0m\u001b[0m\n",
      "\u001b[1;31mTypeError\u001b[0m: invalid file:                Exchange_Rate                      Customer  \\\nDate_of_Order                                                \n2010-08-04                 1                 ABB Australia   \n2010-08-16                 1            A&A Metal Products   \n2010-08-20                 1          Analytical Engineer.   \n2010-08-27                 1               Bombardier Inc.   \n2010-09-15                 1            Beef Products Inc.   \n...                      ...                           ...   \n2011-09-06                 1     Trinity Tech                \n2011-08-07                 1  U.S. Army Corps of engineers   \n2011-08-08                 1                   West Taylor   \n2011-08-09                 1                      Woodward   \n2011-08-10                 1     Biomedical Device           \n\n                                      Field  Total_Sales Year_of_First_Order  \\\nDate_of_Order                                                                  \n2010-08-04                engine technology      1897.60                   1   \n2010-08-16                engine technology     28963.00                   1   \n2010-08-20                engine technology     76339.00                   1   \n2010-08-27                        aerospace     24318.92                   1   \n2010-09-15                             food     35084.00                   1   \n...                                     ...          ...                 ...   \n2011-09-06               solutions provider      5642.39                   1   \n2011-08-07                         research      1856.00                   1   \n2011-08-08                            other      1040.00                   1   \n2011-08-09                        aerospace     28655.88                   1   \n2011-08-10     instrumentation manufacturer      3644.49                   1   \n\n              New_or_Returning  Sales_in_CAD  \nDate_of_Order                                 \n2010-08-04          Returning        1897.60  \n2010-08-16          Returning       28963.00  \n2010-08-20          Returning       76339.00  \n2010-08-27                 New      24318.92  \n2010-09-15                 New      35084.00  \n...                        ...           ...  \n2011-09-06                 New       5642.39  \n2011-08-07          Returning        1856.00  \n2011-08-08          Returning        1040.00  \n2011-08-09          Returning       28655.88  \n2011-08-10                 New       3644.49  \n\n[752 rows x 7 columns]"
     ]
    }
   ],
   "source": [
    "businessyear(Exchange_df)"
   ]
  },
  {
   "cell_type": "code",
   "execution_count": 184,
   "metadata": {
    "collapsed": false
   },
   "outputs": [
    {
     "data": {
      "text/html": [
       "<div>\n",
       "<table border=\"1\" class=\"dataframe\">\n",
       "  <thead>\n",
       "    <tr style=\"text-align: right;\">\n",
       "      <th></th>\n",
       "      <th>Exchange_Rate</th>\n",
       "      <th>Total_Sales</th>\n",
       "      <th>Sales_in_CAD</th>\n",
       "    </tr>\n",
       "    <tr>\n",
       "      <th>Date_of_Order</th>\n",
       "      <th></th>\n",
       "      <th></th>\n",
       "      <th></th>\n",
       "    </tr>\n",
       "  </thead>\n",
       "  <tbody>\n",
       "    <tr>\n",
       "      <th>2010-12-31</th>\n",
       "      <td>44.0000</td>\n",
       "      <td>387313.93</td>\n",
       "      <td>387313.930000</td>\n",
       "    </tr>\n",
       "    <tr>\n",
       "      <th>2011-12-30</th>\n",
       "      <td>118.0000</td>\n",
       "      <td>930863.16</td>\n",
       "      <td>930863.160000</td>\n",
       "    </tr>\n",
       "    <tr>\n",
       "      <th>2012-12-31</th>\n",
       "      <td>102.0000</td>\n",
       "      <td>1099685.08</td>\n",
       "      <td>1099685.080000</td>\n",
       "    </tr>\n",
       "    <tr>\n",
       "      <th>2013-12-31</th>\n",
       "      <td>135.4570</td>\n",
       "      <td>624541.03</td>\n",
       "      <td>648022.915760</td>\n",
       "    </tr>\n",
       "    <tr>\n",
       "      <th>2014-12-31</th>\n",
       "      <td>233.2395</td>\n",
       "      <td>921757.94</td>\n",
       "      <td>995491.338040</td>\n",
       "    </tr>\n",
       "    <tr>\n",
       "      <th>2015-12-31</th>\n",
       "      <td>166.0887</td>\n",
       "      <td>704583.36</td>\n",
       "      <td>842044.135884</td>\n",
       "    </tr>\n",
       "  </tbody>\n",
       "</table>\n",
       "</div>"
      ],
      "text/plain": [
       "               Exchange_Rate  Total_Sales    Sales_in_CAD\n",
       "Date_of_Order                                            \n",
       "2010-12-31           44.0000    387313.93   387313.930000\n",
       "2011-12-30          118.0000    930863.16   930863.160000\n",
       "2012-12-31          102.0000   1099685.08  1099685.080000\n",
       "2013-12-31          135.4570    624541.03   648022.915760\n",
       "2014-12-31          233.2395    921757.94   995491.338040\n",
       "2015-12-31          166.0887    704583.36   842044.135884"
      ]
     },
     "execution_count": 184,
     "metadata": {},
     "output_type": "execute_result"
    }
   ],
   "source": [
    "# Trying to resample by Business Annual, but its giving me annual and not business year..\n",
    "Annual = Exchange_df.resample('BA', how=('sum'))   \n",
    "Annual"
   ]
  },
  {
   "cell_type": "markdown",
   "metadata": {},
   "source": [
    "#PLOT4: Creating a plot that shows sales to returning customers vs. Sales to new customers, to help determine whether it is more important to invest money in ads to target new customers, or to maintain old customers. "
   ]
  },
  {
   "cell_type": "code",
   "execution_count": 185,
   "metadata": {
    "collapsed": false
   },
   "outputs": [
    {
     "data": {
      "text/html": [
       "<div>\n",
       "<table border=\"1\" class=\"dataframe\">\n",
       "  <thead>\n",
       "    <tr style=\"text-align: right;\">\n",
       "      <th></th>\n",
       "      <th>Sales_in_CAD</th>\n",
       "      <th>New_or_Returning</th>\n",
       "    </tr>\n",
       "  </thead>\n",
       "  <tbody>\n",
       "    <tr>\n",
       "      <th>0</th>\n",
       "      <td>11165.00</td>\n",
       "      <td>Returning</td>\n",
       "    </tr>\n",
       "    <tr>\n",
       "      <th>1</th>\n",
       "      <td>1924.68</td>\n",
       "      <td>Returning</td>\n",
       "    </tr>\n",
       "    <tr>\n",
       "      <th>2</th>\n",
       "      <td>8765.00</td>\n",
       "      <td>Returning</td>\n",
       "    </tr>\n",
       "    <tr>\n",
       "      <th>3</th>\n",
       "      <td>27750.00</td>\n",
       "      <td>New</td>\n",
       "    </tr>\n",
       "    <tr>\n",
       "      <th>4</th>\n",
       "      <td>170882.00</td>\n",
       "      <td>Returning</td>\n",
       "    </tr>\n",
       "  </tbody>\n",
       "</table>\n",
       "</div>"
      ],
      "text/plain": [
       "   Sales_in_CAD New_or_Returning\n",
       "0      11165.00       Returning \n",
       "1       1924.68       Returning \n",
       "2       8765.00       Returning \n",
       "3      27750.00              New\n",
       "4     170882.00       Returning "
      ]
     },
     "execution_count": 185,
     "metadata": {},
     "output_type": "execute_result"
    }
   ],
   "source": [
    "# Grabbing 2 columns from a previously cleaned data set (Change_New) \n",
    "Customers_df = Change_New[['Sales_in_CAD', 'New_or_Returning']]\n",
    "Customers_df.head()"
   ]
  },
  {
   "cell_type": "code",
   "execution_count": 186,
   "metadata": {
    "collapsed": false
   },
   "outputs": [
    {
     "data": {
      "text/plain": [
       "<matplotlib.text.Text at 0xaf30438>"
      ]
     },
     "execution_count": 186,
     "metadata": {},
     "output_type": "execute_result"
    },
    {
     "data": {
      "image/png": "[encoded data removed]",
      "text/plain": [
       "<matplotlib.figure.Figure at 0xaf14240>"
      ]
     },
     "metadata": {},
     "output_type": "display_data"
    }
   ],
   "source": [
    "# Creating a boxplot of New versus Returning customer Sales.\n",
    "Customers_df.boxplot(by = 'New_or_Returning', column='Sales_in_CAD', figsize=(10,7))\n",
    "plt.ylim(0, 45000)\n",
    "plt.title('Sales to New vs. Returning customers from 2010 - 2015')\n",
    "plt.xlabel('Type of Customer')\n",
    "plt.ylabel('Sales in CAD')\n"
   ]
  },
  {
   "cell_type": "code",
   "execution_count": 187,
   "metadata": {
    "collapsed": false
   },
   "outputs": [
    {
     "data": {
      "text/html": [
       "<div>\n",
       "<table border=\"1\" class=\"dataframe\">\n",
       "  <thead>\n",
       "    <tr style=\"text-align: right;\">\n",
       "      <th></th>\n",
       "      <th>New_or_Returning</th>\n",
       "      <th>Sales_in_CAD</th>\n",
       "    </tr>\n",
       "    <tr>\n",
       "      <th>Date_of_Order</th>\n",
       "      <th></th>\n",
       "      <th></th>\n",
       "    </tr>\n",
       "  </thead>\n",
       "  <tbody>\n",
       "    <tr>\n",
       "      <th>2010-08-04</th>\n",
       "      <td>Returning</td>\n",
       "      <td>1897.60</td>\n",
       "    </tr>\n",
       "    <tr>\n",
       "      <th>2010-08-16</th>\n",
       "      <td>Returning</td>\n",
       "      <td>28963.00</td>\n",
       "    </tr>\n",
       "    <tr>\n",
       "      <th>2010-08-20</th>\n",
       "      <td>Returning</td>\n",
       "      <td>76339.00</td>\n",
       "    </tr>\n",
       "    <tr>\n",
       "      <th>2010-08-27</th>\n",
       "      <td>New</td>\n",
       "      <td>24318.92</td>\n",
       "    </tr>\n",
       "    <tr>\n",
       "      <th>2010-09-15</th>\n",
       "      <td>New</td>\n",
       "      <td>35084.00</td>\n",
       "    </tr>\n",
       "  </tbody>\n",
       "</table>\n",
       "</div>"
      ],
      "text/plain": [
       "              New_or_Returning  Sales_in_CAD\n",
       "Date_of_Order                               \n",
       "2010-08-04          Returning        1897.60\n",
       "2010-08-16          Returning       28963.00\n",
       "2010-08-20          Returning       76339.00\n",
       "2010-08-27                 New      24318.92\n",
       "2010-09-15                 New      35084.00"
      ]
     },
     "execution_count": 187,
     "metadata": {},
     "output_type": "execute_result"
    }
   ],
   "source": [
    "# Getting the columns New or Returning and Sales in CAD with the Date of Order to get \n",
    "# the amount of sales over time \n",
    "Type_date = Exchange_df[['New_or_Returning', 'Sales_in_CAD']]\n",
    "Type_date.head()"
   ]
  },
  {
   "cell_type": "code",
   "execution_count": 188,
   "metadata": {
    "collapsed": false
   },
   "outputs": [
    {
     "data": {
      "text/html": [
       "<div>\n",
       "<table border=\"1\" class=\"dataframe\">\n",
       "  <thead>\n",
       "    <tr style=\"text-align: right;\">\n",
       "      <th></th>\n",
       "      <th>Date_of_Order</th>\n",
       "      <th>New_or_Returning</th>\n",
       "      <th>Sales_in_CAD</th>\n",
       "    </tr>\n",
       "  </thead>\n",
       "  <tbody>\n",
       "    <tr>\n",
       "      <th>0</th>\n",
       "      <td>2010-08-04</td>\n",
       "      <td>Returning</td>\n",
       "      <td>1897.60</td>\n",
       "    </tr>\n",
       "    <tr>\n",
       "      <th>1</th>\n",
       "      <td>2010-08-16</td>\n",
       "      <td>Returning</td>\n",
       "      <td>28963.00</td>\n",
       "    </tr>\n",
       "    <tr>\n",
       "      <th>2</th>\n",
       "      <td>2010-08-20</td>\n",
       "      <td>Returning</td>\n",
       "      <td>76339.00</td>\n",
       "    </tr>\n",
       "    <tr>\n",
       "      <th>3</th>\n",
       "      <td>2010-09-21</td>\n",
       "      <td>Returning</td>\n",
       "      <td>7219.00</td>\n",
       "    </tr>\n",
       "    <tr>\n",
       "      <th>4</th>\n",
       "      <td>2010-09-27</td>\n",
       "      <td>Returning</td>\n",
       "      <td>17622.61</td>\n",
       "    </tr>\n",
       "  </tbody>\n",
       "</table>\n",
       "</div>"
      ],
      "text/plain": [
       "  Date_of_Order New_or_Returning  Sales_in_CAD\n",
       "0    2010-08-04       Returning        1897.60\n",
       "1    2010-08-16       Returning       28963.00\n",
       "2    2010-08-20       Returning       76339.00\n",
       "3    2010-09-21       Returning        7219.00\n",
       "4    2010-09-27       Returning       17622.61"
      ]
     },
     "execution_count": 188,
     "metadata": {},
     "output_type": "execute_result"
    }
   ],
   "source": [
    "# Creating a dataframe of just Returning customers\n",
    "Returning_df = Type_date.groupby(['New_or_Returning']).get_group('Returning ').reset_index()\n",
    "Returning_df.head()"
   ]
  },
  {
   "cell_type": "code",
   "execution_count": 189,
   "metadata": {
    "collapsed": false
   },
   "outputs": [
    {
     "data": {
      "text/html": [
       "<div>\n",
       "<table border=\"1\" class=\"dataframe\">\n",
       "  <thead>\n",
       "    <tr style=\"text-align: right;\">\n",
       "      <th></th>\n",
       "      <th>Date_of_Order</th>\n",
       "      <th>New_or_Returning</th>\n",
       "      <th>Sales_in_CAD</th>\n",
       "    </tr>\n",
       "  </thead>\n",
       "  <tbody>\n",
       "    <tr>\n",
       "      <th>0</th>\n",
       "      <td>2010-08-27</td>\n",
       "      <td>New</td>\n",
       "      <td>24318.92</td>\n",
       "    </tr>\n",
       "    <tr>\n",
       "      <th>1</th>\n",
       "      <td>2010-09-15</td>\n",
       "      <td>New</td>\n",
       "      <td>35084.00</td>\n",
       "    </tr>\n",
       "    <tr>\n",
       "      <th>2</th>\n",
       "      <td>2010-09-16</td>\n",
       "      <td>New</td>\n",
       "      <td>1563.00</td>\n",
       "    </tr>\n",
       "    <tr>\n",
       "      <th>3</th>\n",
       "      <td>2010-09-16</td>\n",
       "      <td>New</td>\n",
       "      <td>1550.00</td>\n",
       "    </tr>\n",
       "    <tr>\n",
       "      <th>4</th>\n",
       "      <td>2010-10-06</td>\n",
       "      <td>New</td>\n",
       "      <td>14357.60</td>\n",
       "    </tr>\n",
       "  </tbody>\n",
       "</table>\n",
       "</div>"
      ],
      "text/plain": [
       "  Date_of_Order New_or_Returning  Sales_in_CAD\n",
       "0    2010-08-27              New      24318.92\n",
       "1    2010-09-15              New      35084.00\n",
       "2    2010-09-16              New       1563.00\n",
       "3    2010-09-16              New       1550.00\n",
       "4    2010-10-06              New      14357.60"
      ]
     },
     "execution_count": 189,
     "metadata": {},
     "output_type": "execute_result"
    }
   ],
   "source": [
    "# Creating a dataframe of only new customers\n",
    "New_df = Type_date.groupby(['New_or_Returning']).get_group('New').reset_index()\n",
    "New_df.head()"
   ]
  },
  {
   "cell_type": "code",
   "execution_count": 197,
   "metadata": {
    "collapsed": false
   },
   "outputs": [
    {
     "data": {
      "text/plain": [
       "<matplotlib.text.Text at 0xbdad710>"
      ]
     },
     "execution_count": 197,
     "metadata": {},
     "output_type": "execute_result"
    },
    {
     "data": {
      "image/png": "[encoded data removed]",
      "text/plain": [
       "<matplotlib.figure.Figure at 0xd42ed30>"
      ]
     },
     "metadata": {},
     "output_type": "display_data"
    }
   ],
   "source": [
    "# Making a plot to compare Sales from New and Returning customers over time\n",
    "plt.figure(figsize = (15,8))\n",
    "plt.plot(New_df.Date_of_Order, New_df.Sales_in_CAD, 'ro', Returning_df.Date_of_Order, Returning_df.Sales_in_CAD, 'go')\n",
    "plt.ylim(-500, 50000)\n",
    "\n",
    "plt.ylabel('Sales in CAD')\n",
    "plt.title ('Sales to Returning customers vs. New customers over time')"
   ]
  },
  {
   "cell_type": "markdown",
   "metadata": {
    "collapsed": true
   },
   "source": [
    "On this data, we can run an unpaired/ student's t - test to see whether sales to new customers and sales to returning customers are significantly different. "
   ]
  },
  {
   "cell_type": "code",
   "execution_count": 209,
   "metadata": {
    "collapsed": false
   },
   "outputs": [],
   "source": [
    "def variance (columnname, n):\n",
    "    var = std(columnname)**2\n",
    "    return var"
   ]
  },
  {
   "cell_type": "code",
   "execution_count": 227,
   "metadata": {
    "collapsed": true
   },
   "outputs": [],
   "source": [
    "def variance(columnname, n):\n",
    "    '''assignes function to calculate the \n",
    "    standard error of a list or numpy array'''\n",
    "    mean = sum(columnname)/n                        # creating a variable for the mean of the list/array\n",
    "    std_part_1 = sum([(num-mean)**2 for num in name]) # creating a variable for the first caclulation of the standard deviation\n",
    "    var = std_part_1/(n-1)         # Completing the standard deviation calculation \n",
    "    return(var)\n"
   ]
  },
  {
   "cell_type": "code",
   "execution_count": 228,
   "metadata": {
    "collapsed": false
   },
   "outputs": [
    {
     "data": {
      "text/plain": [
       "92576890.092929989"
      ]
     },
     "execution_count": 228,
     "metadata": {},
     "output_type": "execute_result"
    }
   ],
   "source": [
    "variance(New_df.Sales_in_CAD, len(New_df.Sales_in_CAD))"
   ]
  },
  {
   "cell_type": "code",
   "execution_count": 247,
   "metadata": {
    "collapsed": false
   },
   "outputs": [
    {
     "data": {
      "text/plain": [
       "242523522.74525771"
      ]
     },
     "execution_count": 247,
     "metadata": {},
     "output_type": "execute_result"
    }
   ],
   "source": [
    "variance(Returning_df.Sales_in_CAD, len(Returning_df.Sales_in_CAD))"
   ]
  },
  {
   "cell_type": "code",
   "execution_count": 248,
   "metadata": {
    "collapsed": false
   },
   "outputs": [
    {
     "data": {
      "text/plain": [
       "(-14524809155.641098, 0.0)"
      ]
     },
     "execution_count": 248,
     "metadata": {},
     "output_type": "execute_result"
    }
   ],
   "source": [
    "# Running the t-test on the variance calculations of the new and returning customers\n",
    "rvs1 = stats.norm.rvs(loc=92576890.092929989,scale=0.1,size=500)\n",
    "rvs2 = stats.norm.rvs(loc=242523522.74525771,scale=0.2,size=500)\n",
    "stats.ttest_ind(rvs1,rvs2)"
   ]
  },
  {
   "cell_type": "markdown",
   "metadata": {},
   "source": [
    "The obtained p-value is 0.0, which means that the two variables (New and Returning Customers) are significantly different. This means that there is aboslutely no chance of an outside variable to create the differences between these two variables. "
   ]
  },
  {
   "cell_type": "code",
   "execution_count": null,
   "metadata": {
    "collapsed": true
   },
   "outputs": [],
   "source": []
  }
 ],
 "metadata": {
  "kernelspec": {
   "display_name": "Python 3",
   "language": "python",
   "name": "python3"
  },
  "language_info": {
   "codemirror_mode": {
    "name": "ipython",
    "version": 3
   },
   "file_extension": ".py",
   "mimetype": "text/x-python",
   "name": "python",
   "nbconvert_exporter": "python",
   "pygments_lexer": "ipython3",
   "version": "3.4.3"
  }
 },
 "nbformat": 4,
 "nbformat_minor": 0
}
