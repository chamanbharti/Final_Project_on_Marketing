{
 "cells": [
  {
   "cell_type": "code",
   "execution_count": 140,
   "metadata": {
    "collapsed": false
   },
   "outputs": [],
   "source": [
    "# Import Libraries\n",
    "import pandas as pd\n",
    "import numpy as np\n",
    "import xlsxwriter\n",
    "import matplotlib.pyplot as plt\n",
    "import csv\n",
    "\n",
    "#show plot in notebook\n",
    "%matplotlib inline \n",
    "\n",
    "#limits amount of lines pandas prints out\n",
    "from pandas import set_option \n",
    "set_option('display.max_rows', 100)"
   ]
  },
  {
   "cell_type": "markdown",
   "metadata": {},
   "source": [
    "# Importing and Cleaning Data"
   ]
  },
  {
   "cell_type": "code",
   "execution_count": 141,
   "metadata": {
    "collapsed": false
   },
   "outputs": [
    {
     "data": {
      "text/html": [
       "<div>\n",
       "<table border=\"1\" class=\"dataframe\">\n",
       "  <thead>\n",
       "    <tr style=\"text-align: right;\">\n",
       "      <th></th>\n",
       "      <th>Exchange_Rate</th>\n",
       "      <th>Customer</th>\n",
       "      <th>Field</th>\n",
       "      <th>Date_of_Order</th>\n",
       "      <th>Total_Sales</th>\n",
       "      <th>Year_of_First_Order</th>\n",
       "      <th>New_or_Returning</th>\n",
       "    </tr>\n",
       "  </thead>\n",
       "  <tbody>\n",
       "    <tr>\n",
       "      <th>0</th>\n",
       "      <td>NaN</td>\n",
       "      <td>ABB Australia</td>\n",
       "      <td>engine technology</td>\n",
       "      <td>2010-08-04</td>\n",
       "      <td>1897.60</td>\n",
       "      <td>NaN</td>\n",
       "      <td>Returning</td>\n",
       "    </tr>\n",
       "    <tr>\n",
       "      <th>1</th>\n",
       "      <td>NaN</td>\n",
       "      <td>A&amp;A Metal Products</td>\n",
       "      <td>engine technology</td>\n",
       "      <td>2010-08-16</td>\n",
       "      <td>28963.00</td>\n",
       "      <td>NaN</td>\n",
       "      <td>Returning</td>\n",
       "    </tr>\n",
       "    <tr>\n",
       "      <th>2</th>\n",
       "      <td>NaN</td>\n",
       "      <td>Analytical Engineer.</td>\n",
       "      <td>engine technology</td>\n",
       "      <td>2010-08-20</td>\n",
       "      <td>76339.00</td>\n",
       "      <td>NaN</td>\n",
       "      <td>Returning</td>\n",
       "    </tr>\n",
       "    <tr>\n",
       "      <th>3</th>\n",
       "      <td>NaN</td>\n",
       "      <td>Bombardier Inc.</td>\n",
       "      <td>aerospace</td>\n",
       "      <td>2010-08-27</td>\n",
       "      <td>24318.92</td>\n",
       "      <td>NaN</td>\n",
       "      <td>New</td>\n",
       "    </tr>\n",
       "    <tr>\n",
       "      <th>4</th>\n",
       "      <td>NaN</td>\n",
       "      <td>Beef Products Inc.</td>\n",
       "      <td>food</td>\n",
       "      <td>2010-09-15</td>\n",
       "      <td>35084.00</td>\n",
       "      <td>NaN</td>\n",
       "      <td>New</td>\n",
       "    </tr>\n",
       "  </tbody>\n",
       "</table>\n",
       "</div>"
      ],
      "text/plain": [
       "   Exchange_Rate              Customer              Field Date_of_Order  \\\n",
       "0            NaN         ABB Australia  engine technology    2010-08-04   \n",
       "1            NaN    A&A Metal Products  engine technology    2010-08-16   \n",
       "2            NaN  Analytical Engineer.  engine technology    2010-08-20   \n",
       "3            NaN       Bombardier Inc.          aerospace    2010-08-27   \n",
       "4            NaN    Beef Products Inc.               food    2010-09-15   \n",
       "\n",
       "   Total_Sales Year_of_First_Order New_or_Returning  \n",
       "0      1897.60                 NaN       Returning   \n",
       "1     28963.00                 NaN       Returning   \n",
       "2     76339.00                 NaN       Returning   \n",
       "3     24318.92                 NaN              New  \n",
       "4     35084.00                 NaN              New  "
      ]
     },
     "execution_count": 141,
     "metadata": {},
     "output_type": "execute_result"
    }
   ],
   "source": [
    "#Loading the main dataset from excel into python, specified taking data from the 'Sales' sheet\n",
    "Sales_df = pd.read_excel('../data/Sales Data11.xlsm', sheetname = 'Sales')\n",
    "Sales_df.head()\n",
    "# Renaming the columns \n",
    "Sales_df.columns = [['Exchange_Rate', 'Customer', 'Field', 'Date_of_Order', 'Total_Sales', 'Year_of_First_Order', 'New_or_Returning']]\n",
    "Sales_df.head()"
   ]
  },
  {
   "cell_type": "code",
   "execution_count": 142,
   "metadata": {
    "collapsed": false
   },
   "outputs": [
    {
     "data": {
      "text/html": [
       "<div>\n",
       "<table border=\"1\" class=\"dataframe\">\n",
       "  <thead>\n",
       "    <tr style=\"text-align: right;\">\n",
       "      <th></th>\n",
       "      <th>Exchange_Rate</th>\n",
       "      <th>Customer</th>\n",
       "      <th>Field</th>\n",
       "      <th>Total_Sales</th>\n",
       "      <th>Year_of_First_Order</th>\n",
       "      <th>New_or_Returning</th>\n",
       "      <th>Sales_in_CAD</th>\n",
       "    </tr>\n",
       "    <tr>\n",
       "      <th>Date_of_Order</th>\n",
       "      <th></th>\n",
       "      <th></th>\n",
       "      <th></th>\n",
       "      <th></th>\n",
       "      <th></th>\n",
       "      <th></th>\n",
       "      <th></th>\n",
       "    </tr>\n",
       "  </thead>\n",
       "  <tbody>\n",
       "    <tr>\n",
       "      <th>2010-08-04</th>\n",
       "      <td>1</td>\n",
       "      <td>ABB Australia</td>\n",
       "      <td>engine technology</td>\n",
       "      <td>1897.60</td>\n",
       "      <td>1</td>\n",
       "      <td>Returning</td>\n",
       "      <td>1897.60</td>\n",
       "    </tr>\n",
       "    <tr>\n",
       "      <th>2010-08-16</th>\n",
       "      <td>1</td>\n",
       "      <td>A&amp;A Metal Products</td>\n",
       "      <td>engine technology</td>\n",
       "      <td>28963.00</td>\n",
       "      <td>1</td>\n",
       "      <td>Returning</td>\n",
       "      <td>28963.00</td>\n",
       "    </tr>\n",
       "    <tr>\n",
       "      <th>2010-08-20</th>\n",
       "      <td>1</td>\n",
       "      <td>Analytical Engineer.</td>\n",
       "      <td>engine technology</td>\n",
       "      <td>76339.00</td>\n",
       "      <td>1</td>\n",
       "      <td>Returning</td>\n",
       "      <td>76339.00</td>\n",
       "    </tr>\n",
       "    <tr>\n",
       "      <th>2010-08-27</th>\n",
       "      <td>1</td>\n",
       "      <td>Bombardier Inc.</td>\n",
       "      <td>aerospace</td>\n",
       "      <td>24318.92</td>\n",
       "      <td>1</td>\n",
       "      <td>New</td>\n",
       "      <td>24318.92</td>\n",
       "    </tr>\n",
       "    <tr>\n",
       "      <th>2010-09-15</th>\n",
       "      <td>1</td>\n",
       "      <td>Beef Products Inc.</td>\n",
       "      <td>food</td>\n",
       "      <td>35084.00</td>\n",
       "      <td>1</td>\n",
       "      <td>New</td>\n",
       "      <td>35084.00</td>\n",
       "    </tr>\n",
       "  </tbody>\n",
       "</table>\n",
       "</div>"
      ],
      "text/plain": [
       "               Exchange_Rate              Customer              Field  \\\n",
       "Date_of_Order                                                           \n",
       "2010-08-04                 1         ABB Australia  engine technology   \n",
       "2010-08-16                 1    A&A Metal Products  engine technology   \n",
       "2010-08-20                 1  Analytical Engineer.  engine technology   \n",
       "2010-08-27                 1       Bombardier Inc.          aerospace   \n",
       "2010-09-15                 1    Beef Products Inc.               food   \n",
       "\n",
       "               Total_Sales Year_of_First_Order New_or_Returning  Sales_in_CAD  \n",
       "Date_of_Order                                                                  \n",
       "2010-08-04         1897.60                   1       Returning        1897.60  \n",
       "2010-08-16        28963.00                   1       Returning       28963.00  \n",
       "2010-08-20        76339.00                   1       Returning       76339.00  \n",
       "2010-08-27        24318.92                   1              New      24318.92  \n",
       "2010-09-15        35084.00                   1              New      35084.00  "
      ]
     },
     "execution_count": 142,
     "metadata": {},
     "output_type": "execute_result"
    }
   ],
   "source": [
    "# Replacing the empty values in the Exchange Rate column with 1 and setting the index to Date_of_Order\n",
    "Exchange_df= Sales_df[['Exchange_Rate', 'Customer', 'Field', 'Date_of_Order', 'Total_Sales', 'Year_of_First_Order', 'New_or_Returning']].replace([None], [1]).set_index('Date_of_Order')\n",
    "# Creating a new column in the data set, which puts all sales amounts in Canadian dollars. \n",
    "Exchange_df['Sales_in_CAD'] = Exchange_df['Exchange_Rate'] * Exchange_df['Total_Sales']\n",
    "Exchange_df.head()"
   ]
  },
  {
   "cell_type": "code",
   "execution_count": 143,
   "metadata": {
    "collapsed": false
   },
   "outputs": [
    {
     "data": {
      "text/html": [
       "<div>\n",
       "<table border=\"1\" class=\"dataframe\">\n",
       "  <thead>\n",
       "    <tr style=\"text-align: right;\">\n",
       "      <th></th>\n",
       "      <th>Date_of_Order</th>\n",
       "      <th>Exchange_Rate</th>\n",
       "      <th>Customer</th>\n",
       "      <th>Field</th>\n",
       "      <th>Total_Sales</th>\n",
       "      <th>Year_of_First_Order</th>\n",
       "      <th>New_or_Returning</th>\n",
       "      <th>Sales_in_CAD</th>\n",
       "    </tr>\n",
       "  </thead>\n",
       "  <tbody>\n",
       "    <tr>\n",
       "      <th>0</th>\n",
       "      <td>2010-08-04</td>\n",
       "      <td>1</td>\n",
       "      <td>ABB Australia</td>\n",
       "      <td>engine technology</td>\n",
       "      <td>1897.60</td>\n",
       "      <td>1</td>\n",
       "      <td>Returning</td>\n",
       "      <td>1897.60</td>\n",
       "    </tr>\n",
       "    <tr>\n",
       "      <th>1</th>\n",
       "      <td>2010-08-16</td>\n",
       "      <td>1</td>\n",
       "      <td>A&amp;A Metal Products</td>\n",
       "      <td>engine technology</td>\n",
       "      <td>28963.00</td>\n",
       "      <td>1</td>\n",
       "      <td>Returning</td>\n",
       "      <td>28963.00</td>\n",
       "    </tr>\n",
       "    <tr>\n",
       "      <th>2</th>\n",
       "      <td>2010-08-20</td>\n",
       "      <td>1</td>\n",
       "      <td>Analytical Engineer.</td>\n",
       "      <td>engine technology</td>\n",
       "      <td>76339.00</td>\n",
       "      <td>1</td>\n",
       "      <td>Returning</td>\n",
       "      <td>76339.00</td>\n",
       "    </tr>\n",
       "    <tr>\n",
       "      <th>3</th>\n",
       "      <td>2010-08-27</td>\n",
       "      <td>1</td>\n",
       "      <td>Bombardier Inc.</td>\n",
       "      <td>aerospace</td>\n",
       "      <td>24318.92</td>\n",
       "      <td>1</td>\n",
       "      <td>New</td>\n",
       "      <td>24318.92</td>\n",
       "    </tr>\n",
       "    <tr>\n",
       "      <th>4</th>\n",
       "      <td>2010-09-15</td>\n",
       "      <td>1</td>\n",
       "      <td>Beef Products Inc.</td>\n",
       "      <td>food</td>\n",
       "      <td>35084.00</td>\n",
       "      <td>1</td>\n",
       "      <td>New</td>\n",
       "      <td>35084.00</td>\n",
       "    </tr>\n",
       "  </tbody>\n",
       "</table>\n",
       "</div>"
      ],
      "text/plain": [
       "  Date_of_Order  Exchange_Rate              Customer              Field  \\\n",
       "0    2010-08-04              1         ABB Australia  engine technology   \n",
       "1    2010-08-16              1    A&A Metal Products  engine technology   \n",
       "2    2010-08-20              1  Analytical Engineer.  engine technology   \n",
       "3    2010-08-27              1       Bombardier Inc.          aerospace   \n",
       "4    2010-09-15              1    Beef Products Inc.               food   \n",
       "\n",
       "   Total_Sales Year_of_First_Order New_or_Returning  Sales_in_CAD  \n",
       "0      1897.60                   1       Returning        1897.60  \n",
       "1     28963.00                   1       Returning       28963.00  \n",
       "2     76339.00                   1       Returning       76339.00  \n",
       "3     24318.92                   1              New      24318.92  \n",
       "4     35084.00                   1              New      35084.00  "
      ]
     },
     "execution_count": 143,
     "metadata": {},
     "output_type": "execute_result"
    }
   ],
   "source": [
    "# Creating a new dataframe that includes all values with the Sales in CAD added\n",
    "Change_New = Exchange_df[Exchange_df.index > '1980-01-01'].reset_index()\n",
    "Change_New.head()"
   ]
  },
  {
   "cell_type": "markdown",
   "metadata": {},
   "source": [
    "The reason why the empty exchange rate values are replaced with 1 is because for these dates the exchange rate between Canadian and US dollars was basically 1, so the person entering the data did not bother writing in a value. "
   ]
  },
  {
   "cell_type": "markdown",
   "metadata": {},
   "source": [
    "# PLOT 1: Resampling data to make a plot that compares money spent on ads per month to sales coming from new customers & number of new customers."
   ]
  },
  {
   "cell_type": "markdown",
   "metadata": {},
   "source": [
    "I will first get rid of all rows that do not have a date, because this data is useless to me for making the first plot. I will modify the original dataframe. "
   ]
  },
  {
   "cell_type": "code",
   "execution_count": 144,
   "metadata": {
    "collapsed": false
   },
   "outputs": [
    {
     "data": {
      "text/html": [
       "<div>\n",
       "<table border=\"1\" class=\"dataframe\">\n",
       "  <thead>\n",
       "    <tr style=\"text-align: right;\">\n",
       "      <th></th>\n",
       "      <th>Exchange_Rate</th>\n",
       "      <th>Customer</th>\n",
       "      <th>Field</th>\n",
       "      <th>Date_of_Order</th>\n",
       "      <th>Total_Sales</th>\n",
       "      <th>Year_of_First_Order</th>\n",
       "      <th>New_or_Returning</th>\n",
       "    </tr>\n",
       "  </thead>\n",
       "  <tbody>\n",
       "    <tr>\n",
       "      <th>0</th>\n",
       "      <td>NaN</td>\n",
       "      <td>ABB Australia</td>\n",
       "      <td>engine technology</td>\n",
       "      <td>2010-08-04</td>\n",
       "      <td>1897.60</td>\n",
       "      <td>NaN</td>\n",
       "      <td>Returning</td>\n",
       "    </tr>\n",
       "    <tr>\n",
       "      <th>1</th>\n",
       "      <td>NaN</td>\n",
       "      <td>A&amp;A Metal Products</td>\n",
       "      <td>engine technology</td>\n",
       "      <td>2010-08-16</td>\n",
       "      <td>28963.00</td>\n",
       "      <td>NaN</td>\n",
       "      <td>Returning</td>\n",
       "    </tr>\n",
       "    <tr>\n",
       "      <th>2</th>\n",
       "      <td>NaN</td>\n",
       "      <td>Analytical Engineer.</td>\n",
       "      <td>engine technology</td>\n",
       "      <td>2010-08-20</td>\n",
       "      <td>76339.00</td>\n",
       "      <td>NaN</td>\n",
       "      <td>Returning</td>\n",
       "    </tr>\n",
       "    <tr>\n",
       "      <th>3</th>\n",
       "      <td>NaN</td>\n",
       "      <td>Bombardier Inc.</td>\n",
       "      <td>aerospace</td>\n",
       "      <td>2010-08-27</td>\n",
       "      <td>24318.92</td>\n",
       "      <td>NaN</td>\n",
       "      <td>New</td>\n",
       "    </tr>\n",
       "    <tr>\n",
       "      <th>4</th>\n",
       "      <td>NaN</td>\n",
       "      <td>Beef Products Inc.</td>\n",
       "      <td>food</td>\n",
       "      <td>2010-09-15</td>\n",
       "      <td>35084.00</td>\n",
       "      <td>NaN</td>\n",
       "      <td>New</td>\n",
       "    </tr>\n",
       "  </tbody>\n",
       "</table>\n",
       "</div>"
      ],
      "text/plain": [
       "   Exchange_Rate              Customer              Field Date_of_Order  \\\n",
       "0            NaN         ABB Australia  engine technology    2010-08-04   \n",
       "1            NaN    A&A Metal Products  engine technology    2010-08-16   \n",
       "2            NaN  Analytical Engineer.  engine technology    2010-08-20   \n",
       "3            NaN       Bombardier Inc.          aerospace    2010-08-27   \n",
       "4            NaN    Beef Products Inc.               food    2010-09-15   \n",
       "\n",
       "   Total_Sales Year_of_First_Order New_or_Returning  \n",
       "0      1897.60                 NaN       Returning   \n",
       "1     28963.00                 NaN       Returning   \n",
       "2     76339.00                 NaN       Returning   \n",
       "3     24318.92                 NaN              New  \n",
       "4     35084.00                 NaN              New  "
      ]
     },
     "execution_count": 144,
     "metadata": {},
     "output_type": "execute_result"
    }
   ],
   "source": [
    "# Deleting all rows that do not have a value in the Date_of_Order column \n",
    "Dates_df = Sales_df[Sales_df.Date_of_Order.notnull()]\n",
    "Dates_df.head()"
   ]
  },
  {
   "cell_type": "code",
   "execution_count": 145,
   "metadata": {
    "collapsed": false
   },
   "outputs": [
    {
     "data": {
      "text/html": [
       "<div>\n",
       "<table border=\"1\" class=\"dataframe\">\n",
       "  <thead>\n",
       "    <tr style=\"text-align: right;\">\n",
       "      <th></th>\n",
       "      <th>Exchange_Rate</th>\n",
       "      <th>Customer</th>\n",
       "      <th>Field</th>\n",
       "      <th>Date_of_Order</th>\n",
       "      <th>Total_Sales</th>\n",
       "      <th>Year_of_First_Order</th>\n",
       "      <th>New_or_Returning</th>\n",
       "    </tr>\n",
       "  </thead>\n",
       "  <tbody>\n",
       "    <tr>\n",
       "      <th>3</th>\n",
       "      <td>NaN</td>\n",
       "      <td>Bombardier Inc.</td>\n",
       "      <td>aerospace</td>\n",
       "      <td>2010-08-27</td>\n",
       "      <td>24318.92</td>\n",
       "      <td>NaN</td>\n",
       "      <td>New</td>\n",
       "    </tr>\n",
       "    <tr>\n",
       "      <th>4</th>\n",
       "      <td>NaN</td>\n",
       "      <td>Beef Products Inc.</td>\n",
       "      <td>food</td>\n",
       "      <td>2010-09-15</td>\n",
       "      <td>35084.00</td>\n",
       "      <td>NaN</td>\n",
       "      <td>New</td>\n",
       "    </tr>\n",
       "    <tr>\n",
       "      <th>5</th>\n",
       "      <td>NaN</td>\n",
       "      <td>Zhejiang Yuhong</td>\n",
       "      <td>other</td>\n",
       "      <td>2010-09-16</td>\n",
       "      <td>1563.00</td>\n",
       "      <td>NaN</td>\n",
       "      <td>New</td>\n",
       "    </tr>\n",
       "    <tr>\n",
       "      <th>6</th>\n",
       "      <td>NaN</td>\n",
       "      <td>UES Inc.</td>\n",
       "      <td>solutions provider</td>\n",
       "      <td>2010-09-16</td>\n",
       "      <td>1550.00</td>\n",
       "      <td>NaN</td>\n",
       "      <td>New</td>\n",
       "    </tr>\n",
       "    <tr>\n",
       "      <th>11</th>\n",
       "      <td>NaN</td>\n",
       "      <td>Nuance Systems Inc</td>\n",
       "      <td>solutions provider</td>\n",
       "      <td>2010-10-06</td>\n",
       "      <td>14357.60</td>\n",
       "      <td>NaN</td>\n",
       "      <td>New</td>\n",
       "    </tr>\n",
       "  </tbody>\n",
       "</table>\n",
       "</div>"
      ],
      "text/plain": [
       "    Exchange_Rate            Customer               Field Date_of_Order  \\\n",
       "3             NaN     Bombardier Inc.           aerospace    2010-08-27   \n",
       "4             NaN  Beef Products Inc.                food    2010-09-15   \n",
       "5             NaN     Zhejiang Yuhong               other    2010-09-16   \n",
       "6             NaN            UES Inc.  solutions provider    2010-09-16   \n",
       "11            NaN  Nuance Systems Inc  solutions provider    2010-10-06   \n",
       "\n",
       "    Total_Sales Year_of_First_Order New_or_Returning  \n",
       "3      24318.92                 NaN              New  \n",
       "4      35084.00                 NaN              New  \n",
       "5       1563.00                 NaN              New  \n",
       "6       1550.00                 NaN              New  \n",
       "11     14357.60                 NaN              New  "
      ]
     },
     "execution_count": 145,
     "metadata": {},
     "output_type": "execute_result"
    }
   ],
   "source": [
    "# Deleting all rows of sales from returning customers\n",
    "New_customers = Dates_df.groupby(['New_or_Returning']).get_group('New')\n",
    "New_customers.head()"
   ]
  },
  {
   "cell_type": "code",
   "execution_count": 146,
   "metadata": {
    "collapsed": false
   },
   "outputs": [
    {
     "data": {
      "text/html": [
       "<div>\n",
       "<table border=\"1\" class=\"dataframe\">\n",
       "  <thead>\n",
       "    <tr style=\"text-align: right;\">\n",
       "      <th></th>\n",
       "      <th>Total_Sales</th>\n",
       "      <th>New_or_Returning</th>\n",
       "    </tr>\n",
       "    <tr>\n",
       "      <th>Date_of_Order</th>\n",
       "      <th></th>\n",
       "      <th></th>\n",
       "    </tr>\n",
       "  </thead>\n",
       "  <tbody>\n",
       "    <tr>\n",
       "      <th>2010-08-27</th>\n",
       "      <td>24318.92</td>\n",
       "      <td>New</td>\n",
       "    </tr>\n",
       "    <tr>\n",
       "      <th>2010-09-15</th>\n",
       "      <td>35084.00</td>\n",
       "      <td>New</td>\n",
       "    </tr>\n",
       "    <tr>\n",
       "      <th>2010-09-16</th>\n",
       "      <td>1563.00</td>\n",
       "      <td>New</td>\n",
       "    </tr>\n",
       "    <tr>\n",
       "      <th>2010-09-16</th>\n",
       "      <td>1550.00</td>\n",
       "      <td>New</td>\n",
       "    </tr>\n",
       "    <tr>\n",
       "      <th>2010-10-06</th>\n",
       "      <td>14357.60</td>\n",
       "      <td>New</td>\n",
       "    </tr>\n",
       "  </tbody>\n",
       "</table>\n",
       "</div>"
      ],
      "text/plain": [
       "               Total_Sales New_or_Returning\n",
       "Date_of_Order                              \n",
       "2010-08-27        24318.92              New\n",
       "2010-09-15        35084.00              New\n",
       "2010-09-16         1563.00              New\n",
       "2010-09-16         1550.00              New\n",
       "2010-10-06        14357.60              New"
      ]
     },
     "execution_count": 146,
     "metadata": {},
     "output_type": "execute_result"
    }
   ],
   "source": [
    "# Grabbing 3 columns from the dataset and setting the index to Date of order.\n",
    "Resampled_ind = New_customers[['Date_of_Order', 'Total_Sales', 'New_or_Returning']].set_index('Date_of_Order')\n",
    "Resampled_ind.head()"
   ]
  },
  {
   "cell_type": "code",
   "execution_count": 147,
   "metadata": {
    "collapsed": false
   },
   "outputs": [
    {
     "data": {
      "text/html": [
       "<div>\n",
       "<table border=\"1\" class=\"dataframe\">\n",
       "  <thead>\n",
       "    <tr style=\"text-align: right;\">\n",
       "      <th></th>\n",
       "      <th>New_or_Returning</th>\n",
       "      <th>Total_Sales</th>\n",
       "    </tr>\n",
       "    <tr>\n",
       "      <th>Date_of_Order</th>\n",
       "      <th></th>\n",
       "      <th></th>\n",
       "    </tr>\n",
       "  </thead>\n",
       "  <tbody>\n",
       "    <tr>\n",
       "      <th>2010-08-31</th>\n",
       "      <td>1</td>\n",
       "      <td>24318.92</td>\n",
       "    </tr>\n",
       "    <tr>\n",
       "      <th>2010-09-30</th>\n",
       "      <td>3</td>\n",
       "      <td>38197.00</td>\n",
       "    </tr>\n",
       "    <tr>\n",
       "      <th>2010-10-31</th>\n",
       "      <td>2</td>\n",
       "      <td>14967.60</td>\n",
       "    </tr>\n",
       "    <tr>\n",
       "      <th>2010-11-30</th>\n",
       "      <td>3</td>\n",
       "      <td>21461.66</td>\n",
       "    </tr>\n",
       "    <tr>\n",
       "      <th>2010-12-31</th>\n",
       "      <td>3</td>\n",
       "      <td>23468.45</td>\n",
       "    </tr>\n",
       "  </tbody>\n",
       "</table>\n",
       "</div>"
      ],
      "text/plain": [
       "               New_or_Returning  Total_Sales\n",
       "Date_of_Order                               \n",
       "2010-08-31                    1     24318.92\n",
       "2010-09-30                    3     38197.00\n",
       "2010-10-31                    2     14967.60\n",
       "2010-11-30                    3     21461.66\n",
       "2010-12-31                    3     23468.45"
      ]
     },
     "execution_count": 147,
     "metadata": {},
     "output_type": "execute_result"
    }
   ],
   "source": [
    "# Replacing the 'New' string with the number 1 so that they can be added later. \n",
    "# And data is downsampled to month, taking the sum of the Sales and the new customers in each month. \n",
    "Index_Month= Resampled_ind[['New_or_Returning', 'Total_Sales']].replace(['New'], [1]).resample('M', how=('sum')) \n",
    "Index_Month.head()"
   ]
  },
  {
   "cell_type": "code",
   "execution_count": 148,
   "metadata": {
    "collapsed": false
   },
   "outputs": [
    {
     "data": {
      "text/html": [
       "<div>\n",
       "<table border=\"1\" class=\"dataframe\">\n",
       "  <thead>\n",
       "    <tr style=\"text-align: right;\">\n",
       "      <th></th>\n",
       "      <th>New_or_Returning</th>\n",
       "      <th>Total_Sales</th>\n",
       "    </tr>\n",
       "    <tr>\n",
       "      <th>Date_of_Order</th>\n",
       "      <th></th>\n",
       "      <th></th>\n",
       "    </tr>\n",
       "  </thead>\n",
       "  <tbody>\n",
       "    <tr>\n",
       "      <th>2013-08-31</th>\n",
       "      <td>3</td>\n",
       "      <td>7410.00</td>\n",
       "    </tr>\n",
       "    <tr>\n",
       "      <th>2013-09-30</th>\n",
       "      <td>4</td>\n",
       "      <td>13538.40</td>\n",
       "    </tr>\n",
       "    <tr>\n",
       "      <th>2013-10-31</th>\n",
       "      <td>5</td>\n",
       "      <td>9627.02</td>\n",
       "    </tr>\n",
       "    <tr>\n",
       "      <th>2013-11-30</th>\n",
       "      <td>10</td>\n",
       "      <td>40999.01</td>\n",
       "    </tr>\n",
       "    <tr>\n",
       "      <th>2013-12-31</th>\n",
       "      <td>5</td>\n",
       "      <td>35721.00</td>\n",
       "    </tr>\n",
       "  </tbody>\n",
       "</table>\n",
       "</div>"
      ],
      "text/plain": [
       "               New_or_Returning  Total_Sales\n",
       "Date_of_Order                               \n",
       "2013-08-31                    3      7410.00\n",
       "2013-09-30                    4     13538.40\n",
       "2013-10-31                    5      9627.02\n",
       "2013-11-30                   10     40999.01\n",
       "2013-12-31                    5     35721.00"
      ]
     },
     "execution_count": 148,
     "metadata": {},
     "output_type": "execute_result"
    }
   ],
   "source": [
    "# Deleting all rows that have a date before 2013-08-31. Keeping only two business years 2013 - 2015. The reason why I dont \n",
    "# want data before this date, is because the Date input in the dataset was incomplete for the previous years.\n",
    "Downsampled_month = Index_Month[Index_Month.index > '2013-08-30']\n",
    "Downsampled_month.head()"
   ]
  },
  {
   "cell_type": "markdown",
   "metadata": {},
   "source": [
    "# Importing a new dataset (Cost of Ads per month)"
   ]
  },
  {
   "cell_type": "code",
   "execution_count": 149,
   "metadata": {
    "collapsed": false
   },
   "outputs": [
    {
     "data": {
      "text/html": [
       "<div>\n",
       "<table border=\"1\" class=\"dataframe\">\n",
       "  <thead>\n",
       "    <tr style=\"text-align: right;\">\n",
       "      <th></th>\n",
       "      <th>Ad Cost</th>\n",
       "    </tr>\n",
       "    <tr>\n",
       "      <th>Date</th>\n",
       "      <th></th>\n",
       "    </tr>\n",
       "  </thead>\n",
       "  <tbody>\n",
       "    <tr>\n",
       "      <th>2013-08-01</th>\n",
       "      <td>947.94</td>\n",
       "    </tr>\n",
       "    <tr>\n",
       "      <th>2013-09-01</th>\n",
       "      <td>936.06</td>\n",
       "    </tr>\n",
       "    <tr>\n",
       "      <th>2013-10-01</th>\n",
       "      <td>935.72</td>\n",
       "    </tr>\n",
       "    <tr>\n",
       "      <th>2013-11-01</th>\n",
       "      <td>930.47</td>\n",
       "    </tr>\n",
       "    <tr>\n",
       "      <th>2013-12-01</th>\n",
       "      <td>948.00</td>\n",
       "    </tr>\n",
       "  </tbody>\n",
       "</table>\n",
       "</div>"
      ],
      "text/plain": [
       "            Ad Cost \n",
       "Date                \n",
       "2013-08-01    947.94\n",
       "2013-09-01    936.06\n",
       "2013-10-01    935.72\n",
       "2013-11-01    930.47\n",
       "2013-12-01    948.00"
      ]
     },
     "execution_count": 149,
     "metadata": {},
     "output_type": "execute_result"
    }
   ],
   "source": [
    "#Loading another dataset from excel into python from a different sheet, and making the Date column the index.\n",
    "Ads_df = pd.read_excel('../data/Sales Data11.xlsm', sheetname = 'Ads', index_col='Date')\n",
    "Ads_df.head()"
   ]
  },
  {
   "cell_type": "code",
   "execution_count": 150,
   "metadata": {
    "collapsed": false
   },
   "outputs": [
    {
     "data": {
      "text/html": [
       "<div>\n",
       "<table border=\"1\" class=\"dataframe\">\n",
       "  <thead>\n",
       "    <tr style=\"text-align: right;\">\n",
       "      <th></th>\n",
       "      <th>Ad_Cost</th>\n",
       "    </tr>\n",
       "    <tr>\n",
       "      <th>Date</th>\n",
       "      <th></th>\n",
       "    </tr>\n",
       "  </thead>\n",
       "  <tbody>\n",
       "    <tr>\n",
       "      <th>2013-08-31</th>\n",
       "      <td>947.94</td>\n",
       "    </tr>\n",
       "    <tr>\n",
       "      <th>2013-09-30</th>\n",
       "      <td>936.06</td>\n",
       "    </tr>\n",
       "    <tr>\n",
       "      <th>2013-10-31</th>\n",
       "      <td>935.72</td>\n",
       "    </tr>\n",
       "    <tr>\n",
       "      <th>2013-11-30</th>\n",
       "      <td>930.47</td>\n",
       "    </tr>\n",
       "    <tr>\n",
       "      <th>2013-12-31</th>\n",
       "      <td>948.00</td>\n",
       "    </tr>\n",
       "  </tbody>\n",
       "</table>\n",
       "</div>"
      ],
      "text/plain": [
       "            Ad_Cost\n",
       "Date               \n",
       "2013-08-31   947.94\n",
       "2013-09-30   936.06\n",
       "2013-10-31   935.72\n",
       "2013-11-30   930.47\n",
       "2013-12-31   948.00"
      ]
     },
     "execution_count": 150,
     "metadata": {},
     "output_type": "execute_result"
    }
   ],
   "source": [
    "# Renaming the column\n",
    "# Resampling the date column, so that the month is synonymous with the other table \n",
    "Ads_df.columns = ['Ad_Cost']\n",
    "Ads_df = Ads_df.resample('M', how=('sum'))   \n",
    "Ads_df.head()"
   ]
  },
  {
   "cell_type": "code",
   "execution_count": 151,
   "metadata": {
    "collapsed": false
   },
   "outputs": [
    {
     "data": {
      "text/html": [
       "<div>\n",
       "<table border=\"1\" class=\"dataframe\">\n",
       "  <thead>\n",
       "    <tr style=\"text-align: right;\">\n",
       "      <th></th>\n",
       "      <th>Date_of_Order</th>\n",
       "      <th>New_or_Returning</th>\n",
       "      <th>Total_Sales</th>\n",
       "      <th>Ad_Cost</th>\n",
       "    </tr>\n",
       "  </thead>\n",
       "  <tbody>\n",
       "    <tr>\n",
       "      <th>0</th>\n",
       "      <td>2013-08-31</td>\n",
       "      <td>3</td>\n",
       "      <td>7410.00</td>\n",
       "      <td>947.94</td>\n",
       "    </tr>\n",
       "    <tr>\n",
       "      <th>1</th>\n",
       "      <td>2013-09-30</td>\n",
       "      <td>4</td>\n",
       "      <td>13538.40</td>\n",
       "      <td>936.06</td>\n",
       "    </tr>\n",
       "    <tr>\n",
       "      <th>2</th>\n",
       "      <td>2013-10-31</td>\n",
       "      <td>5</td>\n",
       "      <td>9627.02</td>\n",
       "      <td>935.72</td>\n",
       "    </tr>\n",
       "    <tr>\n",
       "      <th>3</th>\n",
       "      <td>2013-11-30</td>\n",
       "      <td>10</td>\n",
       "      <td>40999.01</td>\n",
       "      <td>930.47</td>\n",
       "    </tr>\n",
       "    <tr>\n",
       "      <th>4</th>\n",
       "      <td>2013-12-31</td>\n",
       "      <td>5</td>\n",
       "      <td>35721.00</td>\n",
       "      <td>948.00</td>\n",
       "    </tr>\n",
       "  </tbody>\n",
       "</table>\n",
       "</div>"
      ],
      "text/plain": [
       "  Date_of_Order  New_or_Returning  Total_Sales  Ad_Cost\n",
       "0    2013-08-31                 3      7410.00   947.94\n",
       "1    2013-09-30                 4     13538.40   936.06\n",
       "2    2013-10-31                 5      9627.02   935.72\n",
       "3    2013-11-30                10     40999.01   930.47\n",
       "4    2013-12-31                 5     35721.00   948.00"
      ]
     },
     "execution_count": 151,
     "metadata": {},
     "output_type": "execute_result"
    }
   ],
   "source": [
    "# Combining the two dataframes by the date of order, and resetting the index.\n",
    "Combined_df = pd.concat([Downsampled_month, Ads_df], axis=1, join_axes=[Downsampled_month.index]).reset_index()\n",
    "Combined_df.head()"
   ]
  },
  {
   "cell_type": "code",
   "execution_count": 152,
   "metadata": {
    "collapsed": false
   },
   "outputs": [
    {
     "data": {
      "image/png": "[encoded data removed]",
      "text/plain": [
       "<matplotlib.figure.Figure at 0x89f77f0>"
      ]
     },
     "metadata": {},
     "output_type": "display_data"
    }
   ],
   "source": [
    "#change figure size\n",
    "plt.figure(figsize=(12,10)) # in inches, width then height. \n",
    "\n",
    "#creating subplots and defining them\n",
    "# 3 rows, 1 columns, 1st subplot\n",
    "plt.subplot(3,1,1)      \n",
    "plt.plot(Combined_df.Date_of_Order, Combined_df.Total_Sales, marker='o', color ='m', linestyle='--')\n",
    "#Add title\n",
    "plt.title('Sales to New Customers per Month')\n",
    "#Add gridlines\n",
    "plt.grid(True)\n",
    "#Add axis labels\n",
    "plt.ylabel('Sales to New Customers ($)')\n",
    "\n",
    "# 3 rows, 1 columns, 2nd subplot\n",
    "plt.subplot(3,1,2)      \n",
    "plt.plot(Combined_df.Date_of_Order, Combined_df.Ad_Cost, marker='o', color ='m', linestyle='--')\n",
    "#Add title\n",
    "plt.title('Cost of Ads per Month')\n",
    "#Add gridlines\n",
    "plt.grid(True)\n",
    "#Add axis labels\n",
    "plt.ylabel('Cost of Ads ($)')\n",
    "\n",
    "# 3 rows, 1 columns, 3rd subplot\n",
    "plt.subplot(3,1,3)      \n",
    "plt.plot(Combined_df.Date_of_Order, Combined_df.New_or_Returning, marker='o', color ='m', linestyle='--')\n",
    "#Add title\n",
    "plt.title('Number of New Customers per Month')\n",
    "#Add gridlines\n",
    "plt.grid(True)\n",
    "#Add axis labels\n",
    "plt.ylabel('Number of New Customers')\n",
    "\n",
    "# give plots some breathing room\n",
    "plt.tight_layout()\n",
    "\n",
    "#show plot\n",
    "plt.show()\n",
    "\n"
   ]
  },
  {
   "cell_type": "markdown",
   "metadata": {},
   "source": [
    "#PLOT 2: Plotting the distribution of sales over the years 2013- 2015 by month (Instead of plotting Sales, could plot the number of customers too). "
   ]
  },
  {
   "cell_type": "code",
   "execution_count": 153,
   "metadata": {
    "collapsed": false
   },
   "outputs": [
    {
     "data": {
      "text/html": [
       "<div>\n",
       "<table border=\"1\" class=\"dataframe\">\n",
       "  <thead>\n",
       "    <tr style=\"text-align: right;\">\n",
       "      <th></th>\n",
       "      <th>Exchange_Rate</th>\n",
       "      <th>Customer</th>\n",
       "      <th>Field</th>\n",
       "      <th>Date_of_Order</th>\n",
       "      <th>Total_Sales</th>\n",
       "      <th>Year_of_First_Order</th>\n",
       "      <th>New_or_Returning</th>\n",
       "    </tr>\n",
       "  </thead>\n",
       "  <tbody>\n",
       "    <tr>\n",
       "      <th>0</th>\n",
       "      <td>NaN</td>\n",
       "      <td>ABB Australia</td>\n",
       "      <td>engine technology</td>\n",
       "      <td>2010-08-04</td>\n",
       "      <td>1897.60</td>\n",
       "      <td>NaN</td>\n",
       "      <td>Returning</td>\n",
       "    </tr>\n",
       "    <tr>\n",
       "      <th>1</th>\n",
       "      <td>NaN</td>\n",
       "      <td>A&amp;A Metal Products</td>\n",
       "      <td>engine technology</td>\n",
       "      <td>2010-08-16</td>\n",
       "      <td>28963.00</td>\n",
       "      <td>NaN</td>\n",
       "      <td>Returning</td>\n",
       "    </tr>\n",
       "    <tr>\n",
       "      <th>2</th>\n",
       "      <td>NaN</td>\n",
       "      <td>Analytical Engineer.</td>\n",
       "      <td>engine technology</td>\n",
       "      <td>2010-08-20</td>\n",
       "      <td>76339.00</td>\n",
       "      <td>NaN</td>\n",
       "      <td>Returning</td>\n",
       "    </tr>\n",
       "    <tr>\n",
       "      <th>3</th>\n",
       "      <td>NaN</td>\n",
       "      <td>Bombardier Inc.</td>\n",
       "      <td>aerospace</td>\n",
       "      <td>2010-08-27</td>\n",
       "      <td>24318.92</td>\n",
       "      <td>NaN</td>\n",
       "      <td>New</td>\n",
       "    </tr>\n",
       "    <tr>\n",
       "      <th>4</th>\n",
       "      <td>NaN</td>\n",
       "      <td>Beef Products Inc.</td>\n",
       "      <td>food</td>\n",
       "      <td>2010-09-15</td>\n",
       "      <td>35084.00</td>\n",
       "      <td>NaN</td>\n",
       "      <td>New</td>\n",
       "    </tr>\n",
       "  </tbody>\n",
       "</table>\n",
       "</div>"
      ],
      "text/plain": [
       "   Exchange_Rate              Customer              Field Date_of_Order  \\\n",
       "0            NaN         ABB Australia  engine technology    2010-08-04   \n",
       "1            NaN    A&A Metal Products  engine technology    2010-08-16   \n",
       "2            NaN  Analytical Engineer.  engine technology    2010-08-20   \n",
       "3            NaN       Bombardier Inc.          aerospace    2010-08-27   \n",
       "4            NaN    Beef Products Inc.               food    2010-09-15   \n",
       "\n",
       "   Total_Sales Year_of_First_Order New_or_Returning  \n",
       "0      1897.60                 NaN       Returning   \n",
       "1     28963.00                 NaN       Returning   \n",
       "2     76339.00                 NaN       Returning   \n",
       "3     24318.92                 NaN              New  \n",
       "4     35084.00                 NaN              New  "
      ]
     },
     "execution_count": 153,
     "metadata": {},
     "output_type": "execute_result"
    }
   ],
   "source": [
    "# Visualizing the dataframe that we will downsample to make plot 2 \n",
    "Dates_df.head()"
   ]
  },
  {
   "cell_type": "code",
   "execution_count": 154,
   "metadata": {
    "collapsed": false
   },
   "outputs": [],
   "source": [
    "# Grabbing 3 columns from a previous dataset and setting the index to Date of order\n",
    "# Resampling the index column (Dates) by month, taking the sum of the Sales in each month.\n",
    "Month_df = Change_New[['Date_of_Order', 'New_or_Returning', 'Sales_in_CAD']].set_index('Date_of_Order').resample('M', how=('sum')) "
   ]
  },
  {
   "cell_type": "code",
   "execution_count": 155,
   "metadata": {
    "collapsed": false
   },
   "outputs": [
    {
     "data": {
      "text/html": [
       "<div>\n",
       "<table border=\"1\" class=\"dataframe\">\n",
       "  <thead>\n",
       "    <tr style=\"text-align: right;\">\n",
       "      <th></th>\n",
       "      <th>Sales_in_CAD</th>\n",
       "    </tr>\n",
       "    <tr>\n",
       "      <th>Date_of_Order</th>\n",
       "      <th></th>\n",
       "    </tr>\n",
       "  </thead>\n",
       "  <tbody>\n",
       "    <tr>\n",
       "      <th>2012-08-31</th>\n",
       "      <td>266208.49</td>\n",
       "    </tr>\n",
       "    <tr>\n",
       "      <th>2012-09-30</th>\n",
       "      <td>242972.33</td>\n",
       "    </tr>\n",
       "    <tr>\n",
       "      <th>2012-10-31</th>\n",
       "      <td>78000.68</td>\n",
       "    </tr>\n",
       "    <tr>\n",
       "      <th>2012-11-30</th>\n",
       "      <td>165319.22</td>\n",
       "    </tr>\n",
       "    <tr>\n",
       "      <th>2012-12-31</th>\n",
       "      <td>8561.60</td>\n",
       "    </tr>\n",
       "  </tbody>\n",
       "</table>\n",
       "</div>"
      ],
      "text/plain": [
       "               Sales_in_CAD\n",
       "Date_of_Order              \n",
       "2012-08-31        266208.49\n",
       "2012-09-30        242972.33\n",
       "2012-10-31         78000.68\n",
       "2012-11-30        165319.22\n",
       "2012-12-31          8561.60"
      ]
     },
     "execution_count": 155,
     "metadata": {},
     "output_type": "execute_result"
    }
   ],
   "source": [
    "# Deleting all rows before 2012-08-31. Keeping only 3 business years 2012 - 2015. \n",
    "df_less = Month_df[Index_Month.index > '2012-08-30']\n",
    "df_less.head()"
   ]
  },
  {
   "cell_type": "markdown",
   "metadata": {},
   "source": [
    "Making 3 different tables to have one table per business year from 2013-2015. Make a function for this so you dont have to repeat the same thing 3 times!"
   ]
  },
  {
   "cell_type": "code",
   "execution_count": 156,
   "metadata": {
    "collapsed": false
   },
   "outputs": [
    {
     "data": {
      "text/html": [
       "<div>\n",
       "<table border=\"1\" class=\"dataframe\">\n",
       "  <thead>\n",
       "    <tr style=\"text-align: right;\">\n",
       "      <th></th>\n",
       "      <th>Date_of_Order</th>\n",
       "      <th>Sales_in_CAD</th>\n",
       "      <th>Month</th>\n",
       "    </tr>\n",
       "  </thead>\n",
       "  <tbody>\n",
       "    <tr>\n",
       "      <th>0</th>\n",
       "      <td>2014-08-31</td>\n",
       "      <td>31362.196600</td>\n",
       "      <td>8</td>\n",
       "    </tr>\n",
       "    <tr>\n",
       "      <th>1</th>\n",
       "      <td>2014-09-30</td>\n",
       "      <td>139844.239100</td>\n",
       "      <td>9</td>\n",
       "    </tr>\n",
       "    <tr>\n",
       "      <th>2</th>\n",
       "      <td>2014-10-31</td>\n",
       "      <td>166207.229360</td>\n",
       "      <td>10</td>\n",
       "    </tr>\n",
       "    <tr>\n",
       "      <th>3</th>\n",
       "      <td>2014-11-30</td>\n",
       "      <td>66069.594558</td>\n",
       "      <td>11</td>\n",
       "    </tr>\n",
       "    <tr>\n",
       "      <th>4</th>\n",
       "      <td>2014-12-31</td>\n",
       "      <td>85777.469182</td>\n",
       "      <td>12</td>\n",
       "    </tr>\n",
       "  </tbody>\n",
       "</table>\n",
       "</div>"
      ],
      "text/plain": [
       "  Date_of_Order   Sales_in_CAD  Month\n",
       "0    2014-08-31   31362.196600      8\n",
       "1    2014-09-30  139844.239100      9\n",
       "2    2014-10-31  166207.229360     10\n",
       "3    2014-11-30   66069.594558     11\n",
       "4    2014-12-31   85777.469182     12"
      ]
     },
     "execution_count": 156,
     "metadata": {},
     "output_type": "execute_result"
    }
   ],
   "source": [
    "# Making a table for the business year 2014-2015 only\n",
    "Year3_df = df_less.drop(df_less.index[:24]).reset_index()\n",
    "\n",
    "#Creating a new column of month, by taking the month out of the Date_of_Order column  \n",
    "Year3_df['Month'] = Year3_df['Date_of_Order'].dt.month\n",
    "Year3_df.head()"
   ]
  },
  {
   "cell_type": "code",
   "execution_count": 129,
   "metadata": {
    "collapsed": false
   },
   "outputs": [],
   "source": [
    "def month_name (df):\n",
    "    '''Writes out the month number as a string'''\n",
    "    with open (df, 'r') as mydf:\n",
    "        if mydf['Month'] == 8 :\n",
    "            return 'Aug'\n",
    "        if mydf['Month'] == 9 :\n",
    "            return 'Sep'\n",
    "        if mydf['Month'] == 10 :\n",
    "            return 'Oct'\n",
    "        if mydf['Month'] == 11 :\n",
    "            return 'Nov'\n",
    "        if mydf['Month'] == 12 :\n",
    "            return 'Dec' \n",
    "        if mydf['Month'] == 1 :\n",
    "            return 'Jan' \n",
    "        if mydf['Month'] == 2 :\n",
    "            return 'Feb' \n",
    "        if mydf['Month'] == 3 :\n",
    "            return 'Mar' \n",
    "        if mydf['Month'] == 4 :\n",
    "            return 'Apr' \n",
    "        if mydf['Month'] == 5 :\n",
    "            return 'May' \n",
    "        if mydf['Month'] == 6 :\n",
    "            return 'June' \n",
    "        if mydf['Month'] == 7 :\n",
    "            return 'July'"
   ]
  },
  {
   "cell_type": "code",
   "execution_count": 128,
   "metadata": {
    "collapsed": false
   },
   "outputs": [
    {
     "ename": "TypeError",
     "evalue": "'delimiter' is an invalid keyword argument for this function",
     "output_type": "error",
     "traceback": [
      "\u001b[1;31m---------------------------------------------------------------------------\u001b[0m",
      "\u001b[1;31mTypeError\u001b[0m                                 Traceback (most recent call last)",
      "\u001b[1;32m<ipython-input-128-b490e876351c>\u001b[0m in \u001b[0;36m<module>\u001b[1;34m()\u001b[0m\n\u001b[1;32m----> 1\u001b[1;33m \u001b[0mmonth_name\u001b[0m\u001b[1;33m(\u001b[0m\u001b[0mYear3_df\u001b[0m\u001b[1;33m)\u001b[0m\u001b[1;33m\u001b[0m\u001b[0m\n\u001b[0m",
      "\u001b[1;32m<ipython-input-127-d92d3a52dbca>\u001b[0m in \u001b[0;36mmonth_name\u001b[1;34m(df)\u001b[0m\n\u001b[0;32m      1\u001b[0m \u001b[1;32mdef\u001b[0m \u001b[0mmonth_name\u001b[0m \u001b[1;33m(\u001b[0m\u001b[0mdf\u001b[0m\u001b[1;33m)\u001b[0m\u001b[1;33m:\u001b[0m\u001b[1;33m\u001b[0m\u001b[0m\n\u001b[0;32m      2\u001b[0m     \u001b[1;34m'''Writes out the month number as a string'''\u001b[0m\u001b[1;33m\u001b[0m\u001b[0m\n\u001b[1;32m----> 3\u001b[1;33m     \u001b[1;32mwith\u001b[0m \u001b[0mopen\u001b[0m \u001b[1;33m(\u001b[0m\u001b[0mdf\u001b[0m\u001b[1;33m,\u001b[0m \u001b[1;34m'r'\u001b[0m\u001b[1;33m,\u001b[0m \u001b[0mdelimiter\u001b[0m \u001b[1;33m=\u001b[0m \u001b[1;34m'/s'\u001b[0m\u001b[1;33m)\u001b[0m \u001b[1;32mas\u001b[0m \u001b[0mmydf\u001b[0m\u001b[1;33m:\u001b[0m\u001b[1;33m\u001b[0m\u001b[0m\n\u001b[0m\u001b[0;32m      4\u001b[0m         \u001b[1;32mif\u001b[0m \u001b[0mmydf\u001b[0m\u001b[1;33m[\u001b[0m\u001b[1;34m'Month'\u001b[0m\u001b[1;33m]\u001b[0m \u001b[1;33m==\u001b[0m \u001b[1;36m8\u001b[0m \u001b[1;33m:\u001b[0m\u001b[1;33m\u001b[0m\u001b[0m\n\u001b[0;32m      5\u001b[0m             \u001b[1;32mreturn\u001b[0m \u001b[1;34m'Aug'\u001b[0m\u001b[1;33m\u001b[0m\u001b[0m\n",
      "\u001b[1;31mTypeError\u001b[0m: 'delimiter' is an invalid keyword argument for this function"
     ]
    }
   ],
   "source": [
    "month_name(Year3_df)"
   ]
  },
  {
   "cell_type": "code",
   "execution_count": 114,
   "metadata": {
    "collapsed": false
   },
   "outputs": [],
   "source": [
    "# Uses the function above to create a new column from the Year3_df dataframe. \n",
    "Year3 = Year3_df.apply(lambda row: month_name (row),axis=1)"
   ]
  },
  {
   "cell_type": "code",
   "execution_count": 118,
   "metadata": {
    "collapsed": false
   },
   "outputs": [
    {
     "data": {
      "text/html": [
       "<div>\n",
       "<table border=\"1\" class=\"dataframe\">\n",
       "  <thead>\n",
       "    <tr style=\"text-align: right;\">\n",
       "      <th></th>\n",
       "      <th>index</th>\n",
       "      <th>Date_of_Order</th>\n",
       "      <th>Sales_in_CAD</th>\n",
       "      <th>Month</th>\n",
       "      <th>Month_str</th>\n",
       "    </tr>\n",
       "  </thead>\n",
       "  <tbody>\n",
       "    <tr>\n",
       "      <th>0</th>\n",
       "      <td>0</td>\n",
       "      <td>2014-08-31</td>\n",
       "      <td>31362.196600</td>\n",
       "      <td>8</td>\n",
       "      <td>Aug</td>\n",
       "    </tr>\n",
       "    <tr>\n",
       "      <th>1</th>\n",
       "      <td>1</td>\n",
       "      <td>2014-09-30</td>\n",
       "      <td>139844.239100</td>\n",
       "      <td>9</td>\n",
       "      <td>Sep</td>\n",
       "    </tr>\n",
       "    <tr>\n",
       "      <th>2</th>\n",
       "      <td>2</td>\n",
       "      <td>2014-10-31</td>\n",
       "      <td>166207.229360</td>\n",
       "      <td>10</td>\n",
       "      <td>Oct</td>\n",
       "    </tr>\n",
       "    <tr>\n",
       "      <th>3</th>\n",
       "      <td>3</td>\n",
       "      <td>2014-11-30</td>\n",
       "      <td>66069.594558</td>\n",
       "      <td>11</td>\n",
       "      <td>Nov</td>\n",
       "    </tr>\n",
       "    <tr>\n",
       "      <th>4</th>\n",
       "      <td>4</td>\n",
       "      <td>2014-12-31</td>\n",
       "      <td>85777.469182</td>\n",
       "      <td>12</td>\n",
       "      <td>Dec</td>\n",
       "    </tr>\n",
       "  </tbody>\n",
       "</table>\n",
       "</div>"
      ],
      "text/plain": [
       "   index Date_of_Order   Sales_in_CAD  Month Month_str\n",
       "0      0    2014-08-31   31362.196600      8       Aug\n",
       "1      1    2014-09-30  139844.239100      9       Sep\n",
       "2      2    2014-10-31  166207.229360     10       Oct\n",
       "3      3    2014-11-30   66069.594558     11       Nov\n",
       "4      4    2014-12-31   85777.469182     12       Dec"
      ]
     },
     "execution_count": 118,
     "metadata": {},
     "output_type": "execute_result"
    }
   ],
   "source": [
    "#Combining the new column with month name with the Year3 column \n",
    "Combined_Month = pd.concat([Year3_df, Year3], axis=1, join_axes=[Year3.index]).reset_index()\n",
    "Combined_Month.columns = [['index', 'Date_of_Order', 'Sales_in_CAD', 'Month', 'Month_str']]\n",
    "Combined_Month.head()"
   ]
  },
  {
   "cell_type": "code",
   "execution_count": 107,
   "metadata": {
    "collapsed": false
   },
   "outputs": [
    {
     "data": {
      "text/html": [
       "<div>\n",
       "<table border=\"1\" class=\"dataframe\">\n",
       "  <thead>\n",
       "    <tr style=\"text-align: right;\">\n",
       "      <th></th>\n",
       "      <th>Date_of_Order</th>\n",
       "      <th>Sales_in_CAD</th>\n",
       "      <th>Month</th>\n",
       "    </tr>\n",
       "  </thead>\n",
       "  <tbody>\n",
       "    <tr>\n",
       "      <th>0</th>\n",
       "      <td>2012-08-31</td>\n",
       "      <td>266208.49</td>\n",
       "      <td>8</td>\n",
       "    </tr>\n",
       "    <tr>\n",
       "      <th>1</th>\n",
       "      <td>2012-09-30</td>\n",
       "      <td>242972.33</td>\n",
       "      <td>9</td>\n",
       "    </tr>\n",
       "    <tr>\n",
       "      <th>2</th>\n",
       "      <td>2012-10-31</td>\n",
       "      <td>78000.68</td>\n",
       "      <td>10</td>\n",
       "    </tr>\n",
       "    <tr>\n",
       "      <th>3</th>\n",
       "      <td>2012-11-30</td>\n",
       "      <td>165319.22</td>\n",
       "      <td>11</td>\n",
       "    </tr>\n",
       "    <tr>\n",
       "      <th>4</th>\n",
       "      <td>2012-12-31</td>\n",
       "      <td>8561.60</td>\n",
       "      <td>12</td>\n",
       "    </tr>\n",
       "  </tbody>\n",
       "</table>\n",
       "</div>"
      ],
      "text/plain": [
       "  Date_of_Order  Sales_in_CAD  Month\n",
       "0    2012-08-31     266208.49      8\n",
       "1    2012-09-30     242972.33      9\n",
       "2    2012-10-31      78000.68     10\n",
       "3    2012-11-30     165319.22     11\n",
       "4    2012-12-31       8561.60     12"
      ]
     },
     "execution_count": 107,
     "metadata": {},
     "output_type": "execute_result"
    }
   ],
   "source": [
    "# Making a table for the business year 2012-2013 only\n",
    "Year1_df = df_less.drop(df_less.index[12:]).reset_index()\n",
    "\n",
    "#Creating a new column of month, by taking the month out of the Date_of_Order column  \n",
    "Year1_df['Month'] = Year1_df['Date_of_Order'].dt.month\n",
    "Year1_df.head()"
   ]
  },
  {
   "cell_type": "code",
   "execution_count": 111,
   "metadata": {
    "collapsed": false
   },
   "outputs": [
    {
     "data": {
      "text/html": [
       "<div>\n",
       "<table border=\"1\" class=\"dataframe\">\n",
       "  <thead>\n",
       "    <tr style=\"text-align: right;\">\n",
       "      <th></th>\n",
       "      <th>index</th>\n",
       "      <th>Date_of_Order</th>\n",
       "      <th>Sales_in_CAD</th>\n",
       "      <th>Month</th>\n",
       "      <th>0</th>\n",
       "    </tr>\n",
       "  </thead>\n",
       "  <tbody>\n",
       "    <tr>\n",
       "      <th>0</th>\n",
       "      <td>0</td>\n",
       "      <td>2012-08-31</td>\n",
       "      <td>266208.49</td>\n",
       "      <td>8</td>\n",
       "      <td>Aug</td>\n",
       "    </tr>\n",
       "    <tr>\n",
       "      <th>1</th>\n",
       "      <td>1</td>\n",
       "      <td>2012-09-30</td>\n",
       "      <td>242972.33</td>\n",
       "      <td>9</td>\n",
       "      <td>Sep</td>\n",
       "    </tr>\n",
       "    <tr>\n",
       "      <th>2</th>\n",
       "      <td>2</td>\n",
       "      <td>2012-10-31</td>\n",
       "      <td>78000.68</td>\n",
       "      <td>10</td>\n",
       "      <td>Oct</td>\n",
       "    </tr>\n",
       "    <tr>\n",
       "      <th>3</th>\n",
       "      <td>3</td>\n",
       "      <td>2012-11-30</td>\n",
       "      <td>165319.22</td>\n",
       "      <td>11</td>\n",
       "      <td>Nov</td>\n",
       "    </tr>\n",
       "    <tr>\n",
       "      <th>4</th>\n",
       "      <td>4</td>\n",
       "      <td>2012-12-31</td>\n",
       "      <td>8561.60</td>\n",
       "      <td>12</td>\n",
       "      <td>Dec</td>\n",
       "    </tr>\n",
       "  </tbody>\n",
       "</table>\n",
       "</div>"
      ],
      "text/plain": [
       "   index Date_of_Order  Sales_in_CAD  Month    0\n",
       "0      0    2012-08-31     266208.49      8  Aug\n",
       "1      1    2012-09-30     242972.33      9  Sep\n",
       "2      2    2012-10-31      78000.68     10  Oct\n",
       "3      3    2012-11-30     165319.22     11  Nov\n",
       "4      4    2012-12-31       8561.60     12  Dec"
      ]
     },
     "execution_count": 111,
     "metadata": {},
     "output_type": "execute_result"
    }
   ],
   "source": [
    "Year1 = Year1_df.apply(lambda row: month_name (row),axis=1)\n",
    "#Combining the new column with month name with the Year3 column \n",
    "Combined_Month = pd.concat([Year1_df, Year1], axis=1, join_axes=[Year1.index]).reset_index()\n",
    "Combined_Month.head()"
   ]
  },
  {
   "cell_type": "code",
   "execution_count": 109,
   "metadata": {
    "collapsed": false
   },
   "outputs": [
    {
     "data": {
      "text/html": [
       "<div>\n",
       "<table border=\"1\" class=\"dataframe\">\n",
       "  <thead>\n",
       "    <tr style=\"text-align: right;\">\n",
       "      <th></th>\n",
       "      <th>Date_of_Order</th>\n",
       "      <th>Sales_in_CAD</th>\n",
       "      <th>Month</th>\n",
       "    </tr>\n",
       "  </thead>\n",
       "  <tbody>\n",
       "    <tr>\n",
       "      <th>0</th>\n",
       "      <td>2013-08-31</td>\n",
       "      <td>81819.96200</td>\n",
       "      <td>8</td>\n",
       "    </tr>\n",
       "    <tr>\n",
       "      <th>1</th>\n",
       "      <td>2013-09-30</td>\n",
       "      <td>58372.19460</td>\n",
       "      <td>9</td>\n",
       "    </tr>\n",
       "    <tr>\n",
       "      <th>2</th>\n",
       "      <td>2013-10-31</td>\n",
       "      <td>113018.98208</td>\n",
       "      <td>10</td>\n",
       "    </tr>\n",
       "    <tr>\n",
       "      <th>3</th>\n",
       "      <td>2013-11-30</td>\n",
       "      <td>104607.67808</td>\n",
       "      <td>11</td>\n",
       "    </tr>\n",
       "    <tr>\n",
       "      <th>4</th>\n",
       "      <td>2013-12-31</td>\n",
       "      <td>82281.35900</td>\n",
       "      <td>12</td>\n",
       "    </tr>\n",
       "  </tbody>\n",
       "</table>\n",
       "</div>"
      ],
      "text/plain": [
       "  Date_of_Order  Sales_in_CAD  Month\n",
       "0    2013-08-31   81819.96200      8\n",
       "1    2013-09-30   58372.19460      9\n",
       "2    2013-10-31  113018.98208     10\n",
       "3    2013-11-30  104607.67808     11\n",
       "4    2013-12-31   82281.35900     12"
      ]
     },
     "execution_count": 109,
     "metadata": {},
     "output_type": "execute_result"
    }
   ],
   "source": [
    "# Making a table for the business year 2013-2014 only\n",
    "Year2_df = df_less.iloc[12:24].reset_index()\n",
    "\n",
    "#Creating a new column of month, by taking the month out of the Date_of_Order column  \n",
    "Year2_df['Month'] = Year2_df['Date_of_Order'].dt.month\n",
    "Year2_df.head()"
   ]
  },
  {
   "cell_type": "code",
   "execution_count": 112,
   "metadata": {
    "collapsed": false
   },
   "outputs": [
    {
     "data": {
      "text/html": [
       "<div>\n",
       "<table border=\"1\" class=\"dataframe\">\n",
       "  <thead>\n",
       "    <tr style=\"text-align: right;\">\n",
       "      <th></th>\n",
       "      <th>index</th>\n",
       "      <th>Date_of_Order</th>\n",
       "      <th>Sales_in_CAD</th>\n",
       "      <th>Month</th>\n",
       "      <th>0</th>\n",
       "    </tr>\n",
       "  </thead>\n",
       "  <tbody>\n",
       "    <tr>\n",
       "      <th>0</th>\n",
       "      <td>0</td>\n",
       "      <td>2013-08-31</td>\n",
       "      <td>81819.96200</td>\n",
       "      <td>8</td>\n",
       "      <td>Aug</td>\n",
       "    </tr>\n",
       "    <tr>\n",
       "      <th>1</th>\n",
       "      <td>1</td>\n",
       "      <td>2013-09-30</td>\n",
       "      <td>58372.19460</td>\n",
       "      <td>9</td>\n",
       "      <td>Sep</td>\n",
       "    </tr>\n",
       "    <tr>\n",
       "      <th>2</th>\n",
       "      <td>2</td>\n",
       "      <td>2013-10-31</td>\n",
       "      <td>113018.98208</td>\n",
       "      <td>10</td>\n",
       "      <td>Oct</td>\n",
       "    </tr>\n",
       "    <tr>\n",
       "      <th>3</th>\n",
       "      <td>3</td>\n",
       "      <td>2013-11-30</td>\n",
       "      <td>104607.67808</td>\n",
       "      <td>11</td>\n",
       "      <td>Nov</td>\n",
       "    </tr>\n",
       "    <tr>\n",
       "      <th>4</th>\n",
       "      <td>4</td>\n",
       "      <td>2013-12-31</td>\n",
       "      <td>82281.35900</td>\n",
       "      <td>12</td>\n",
       "      <td>Dec</td>\n",
       "    </tr>\n",
       "  </tbody>\n",
       "</table>\n",
       "</div>"
      ],
      "text/plain": [
       "   index Date_of_Order  Sales_in_CAD  Month    0\n",
       "0      0    2013-08-31   81819.96200      8  Aug\n",
       "1      1    2013-09-30   58372.19460      9  Sep\n",
       "2      2    2013-10-31  113018.98208     10  Oct\n",
       "3      3    2013-11-30  104607.67808     11  Nov\n",
       "4      4    2013-12-31   82281.35900     12  Dec"
      ]
     },
     "execution_count": 112,
     "metadata": {},
     "output_type": "execute_result"
    }
   ],
   "source": [
    "Year2 = Year2_df.apply(lambda row: month_name (row),axis=1)\n",
    "#Combining the new column with month name with the Year3 column \n",
    "Combined_Month = pd.concat([Year2_df, Year2], axis=1, join_axes=[Year2.index]).reset_index()\n",
    "\n",
    "Combined_Month.head()"
   ]
  },
  {
   "cell_type": "code",
   "execution_count": 67,
   "metadata": {
    "collapsed": false
   },
   "outputs": [
    {
     "data": {
      "image/png": "[encoded data removed]",
      "text/plain": [
       "<matplotlib.figure.Figure at 0x89fb8d0>"
      ]
     },
     "metadata": {},
     "output_type": "display_data"
    }
   ],
   "source": [
    "#change figure size\n",
    "plt.figure(figsize=(12,10)) # in inches, width then height. \n",
    "\n",
    "#creating subplots and defining them\n",
    "# 3 rows, 1 columns, 1st subplot\n",
    "plt.subplot(3,1,1)      \n",
    "plt.plot(Year1_df.Date_of_Order, Year1_df.Sales_in_CAD, marker='o', color ='m', linestyle='--')\n",
    "#Add title\n",
    "plt.title('Sales per Month in the 2012-13 Business Year')\n",
    "#Add gridlines\n",
    "plt.grid(True)\n",
    "#Add axis labels\n",
    "plt.ylabel('Sales in CAD')\n",
    "\n",
    "# 3 rows, 1 columns, 2nd subplot\n",
    "plt.subplot(3,1,2)      \n",
    "plt.plot(Year2_df.Date_of_Order, Year2_df.Sales_in_CAD, marker='o', color ='m', linestyle='--')\n",
    "#Add title\n",
    "plt.title('Sales per Month in the 2013-14 Business Year')\n",
    "#Add gridlines\n",
    "plt.grid(True)\n",
    "#Add axis labels\n",
    "plt.ylabel('Sales in CAD')\n",
    "\n",
    "# 3 rows, 1 columns, 3rd subplot\n",
    "plt.subplot(3,1,3)      \n",
    "plt.plot(Year3_df.Date_of_Order, Year3_df.Sales_in_CAD, marker='o', color ='m', linestyle='--')\n",
    "#Add title\n",
    "plt.title('Sales per Month in the 2014-15 Business Year')\n",
    "#Add gridlines\n",
    "plt.grid(True)\n",
    "#Add axis labels\n",
    "plt.ylabel('Sales in CAD')\n",
    "\n",
    "# give plots some breathing room\n",
    "plt.tight_layout()\n",
    "\n",
    "#show plot\n",
    "plt.show()"
   ]
  },
  {
   "cell_type": "code",
   "execution_count": 167,
   "metadata": {
    "collapsed": false
   },
   "outputs": [
    {
     "data": {
      "text/plain": [
       "[<matplotlib.lines.Line2D at 0x8a54550>,\n",
       " <matplotlib.lines.Line2D at 0x8a546a0>,\n",
       " <matplotlib.lines.Line2D at 0x8a258d0>]"
      ]
     },
     "execution_count": 167,
     "metadata": {},
     "output_type": "execute_result"
    },
    {
     "data": {
      "image/png": "[encoded data removed]",
      "text/plain": [
       "<matplotlib.figure.Figure at 0x9b8fac8>"
      ]
     },
     "metadata": {},
     "output_type": "display_data"
    }
   ],
   "source": [
    "#Plotting all 3 subplots in the same plot as a scatter plot\n",
    "plt.figure(figsize=(10,4))\n",
    "plt.plot(Year2_df.Month, Year2_df.Sales_in_CAD, 'ro', Year2_df.Month, Year1_df.Sales_in_CAD, 'go', Year1_df.Month, Year3_df.Sales_in_CAD, 'mo')"
   ]
  },
  {
   "cell_type": "markdown",
   "metadata": {},
   "source": [
    "#PLOT3: Creating a boxplot that shows the distribution of sales across all fields, also showing how large individual Sales were. This will be done for all years combined first. "
   ]
  },
  {
   "cell_type": "code",
   "execution_count": 170,
   "metadata": {
    "collapsed": false
   },
   "outputs": [
    {
     "data": {
      "text/html": [
       "<div>\n",
       "<table border=\"1\" class=\"dataframe\">\n",
       "  <thead>\n",
       "    <tr style=\"text-align: right;\">\n",
       "      <th></th>\n",
       "      <th></th>\n",
       "      <th>Exchange_Rate</th>\n",
       "      <th>Total_Sales</th>\n",
       "    </tr>\n",
       "    <tr>\n",
       "      <th>Field</th>\n",
       "      <th>Sales_in_CAD</th>\n",
       "      <th></th>\n",
       "      <th></th>\n",
       "    </tr>\n",
       "  </thead>\n",
       "  <tbody>\n",
       "    <tr>\n",
       "      <th rowspan=\"5\" valign=\"top\">aerospace</th>\n",
       "      <th>124.5840</th>\n",
       "      <td>1.0740</td>\n",
       "      <td>116</td>\n",
       "    </tr>\n",
       "    <tr>\n",
       "      <th>235.5885</th>\n",
       "      <td>1.2465</td>\n",
       "      <td>189</td>\n",
       "    </tr>\n",
       "    <tr>\n",
       "      <th>505.0000</th>\n",
       "      <td>1.0000</td>\n",
       "      <td>505</td>\n",
       "    </tr>\n",
       "    <tr>\n",
       "      <th>559.7100</th>\n",
       "      <td>1.2438</td>\n",
       "      <td>450</td>\n",
       "    </tr>\n",
       "    <tr>\n",
       "      <th>1410.1620</th>\n",
       "      <td>1.0740</td>\n",
       "      <td>1313</td>\n",
       "    </tr>\n",
       "  </tbody>\n",
       "</table>\n",
       "</div>"
      ],
      "text/plain": [
       "                        Exchange_Rate  Total_Sales\n",
       "Field     Sales_in_CAD                            \n",
       "aerospace 124.5840             1.0740          116\n",
       "          235.5885             1.2465          189\n",
       "          505.0000             1.0000          505\n",
       "          559.7100             1.2438          450\n",
       "          1410.1620            1.0740         1313"
      ]
     },
     "execution_count": 170,
     "metadata": {},
     "output_type": "execute_result"
    }
   ],
   "source": [
    "#Make groupby object which represents groups in the column Fields\n",
    "#Group by some sort of category. In this case grouping by Field. \n",
    "resampled_groups = Exchange_df.groupby(['Field', 'Sales_in_CAD']).sum()\n",
    "resampled_groups.head()"
   ]
  },
  {
   "cell_type": "code",
   "execution_count": 171,
   "metadata": {
    "collapsed": false
   },
   "outputs": [
    {
     "data": {
      "text/html": [
       "<div>\n",
       "<table border=\"1\" class=\"dataframe\">\n",
       "  <thead>\n",
       "    <tr style=\"text-align: right;\">\n",
       "      <th></th>\n",
       "      <th>Field</th>\n",
       "      <th>Sales_in_CAD</th>\n",
       "      <th>Exchange_Rate</th>\n",
       "      <th>Total_Sales</th>\n",
       "    </tr>\n",
       "  </thead>\n",
       "  <tbody>\n",
       "    <tr>\n",
       "      <th>0</th>\n",
       "      <td>aerospace</td>\n",
       "      <td>124.5840</td>\n",
       "      <td>1.0740</td>\n",
       "      <td>116</td>\n",
       "    </tr>\n",
       "    <tr>\n",
       "      <th>1</th>\n",
       "      <td>aerospace</td>\n",
       "      <td>235.5885</td>\n",
       "      <td>1.2465</td>\n",
       "      <td>189</td>\n",
       "    </tr>\n",
       "    <tr>\n",
       "      <th>2</th>\n",
       "      <td>aerospace</td>\n",
       "      <td>505.0000</td>\n",
       "      <td>1.0000</td>\n",
       "      <td>505</td>\n",
       "    </tr>\n",
       "    <tr>\n",
       "      <th>3</th>\n",
       "      <td>aerospace</td>\n",
       "      <td>559.7100</td>\n",
       "      <td>1.2438</td>\n",
       "      <td>450</td>\n",
       "    </tr>\n",
       "    <tr>\n",
       "      <th>4</th>\n",
       "      <td>aerospace</td>\n",
       "      <td>1410.1620</td>\n",
       "      <td>1.0740</td>\n",
       "      <td>1313</td>\n",
       "    </tr>\n",
       "  </tbody>\n",
       "</table>\n",
       "</div>"
      ],
      "text/plain": [
       "       Field  Sales_in_CAD  Exchange_Rate  Total_Sales\n",
       "0  aerospace      124.5840         1.0740          116\n",
       "1  aerospace      235.5885         1.2465          189\n",
       "2  aerospace      505.0000         1.0000          505\n",
       "3  aerospace      559.7100         1.2438          450\n",
       "4  aerospace     1410.1620         1.0740         1313"
      ]
     },
     "execution_count": 171,
     "metadata": {},
     "output_type": "execute_result"
    }
   ],
   "source": [
    "#Resetting the index to get ready to plot the data\n",
    "resampled1_groups = resampled_groups.reset_index()\n",
    "resampled1_groups.head()"
   ]
  },
  {
   "cell_type": "code",
   "execution_count": 172,
   "metadata": {
    "collapsed": false
   },
   "outputs": [
    {
     "data": {
      "text/plain": [
       "<matplotlib.text.Text at 0x8b0ff98>"
      ]
     },
     "execution_count": 172,
     "metadata": {},
     "output_type": "execute_result"
    },
    {
     "data": {
      "image/png": "[encoded data removed]",
      "text/plain": [
       "<matplotlib.figure.Figure at 0x8b29668>"
      ]
     },
     "metadata": {},
     "output_type": "display_data"
    }
   ],
   "source": [
    "#Creating a boxplot of Sales according to the field a customer works in. This plot is for all years (2010 - 2015) combined\n",
    "resampled1_groups.boxplot(by = 'Field', column='Sales_in_CAD', figsize=(25,10))\n",
    "\n",
    "#Changing the y limit\n",
    "plt.ylim(0, 40000)\n",
    "\n",
    "plt.title('Sales to Customers according to Field (Years: 2010 - 2015)')\n",
    "plt.xlabel('Field of Customer')\n",
    "plt.ylabel('Sales in CAD')\n"
   ]
  },
  {
   "cell_type": "markdown",
   "metadata": {
    "collapsed": true
   },
   "source": [
    "For every year seperately\n"
   ]
  },
  {
   "cell_type": "code",
   "execution_count": null,
   "metadata": {
    "collapsed": true
   },
   "outputs": [],
   "source": []
  },
  {
   "cell_type": "markdown",
   "metadata": {},
   "source": [
    "#PLOT4: Creating a plot that shows sales to returning customers vs. Sales to new customers, to help determine whether it is more important to invest money in ads to target new customers, or to maintain old customers. "
   ]
  },
  {
   "cell_type": "code",
   "execution_count": 168,
   "metadata": {
    "collapsed": false
   },
   "outputs": [
    {
     "data": {
      "text/html": [
       "<div>\n",
       "<table border=\"1\" class=\"dataframe\">\n",
       "  <thead>\n",
       "    <tr style=\"text-align: right;\">\n",
       "      <th></th>\n",
       "      <th>Sales_in_CAD</th>\n",
       "      <th>New_or_Returning</th>\n",
       "    </tr>\n",
       "  </thead>\n",
       "  <tbody>\n",
       "    <tr>\n",
       "      <th>0</th>\n",
       "      <td>1897.60</td>\n",
       "      <td>Returning</td>\n",
       "    </tr>\n",
       "    <tr>\n",
       "      <th>1</th>\n",
       "      <td>28963.00</td>\n",
       "      <td>Returning</td>\n",
       "    </tr>\n",
       "    <tr>\n",
       "      <th>2</th>\n",
       "      <td>76339.00</td>\n",
       "      <td>Returning</td>\n",
       "    </tr>\n",
       "    <tr>\n",
       "      <th>3</th>\n",
       "      <td>24318.92</td>\n",
       "      <td>New</td>\n",
       "    </tr>\n",
       "    <tr>\n",
       "      <th>4</th>\n",
       "      <td>35084.00</td>\n",
       "      <td>New</td>\n",
       "    </tr>\n",
       "  </tbody>\n",
       "</table>\n",
       "</div>"
      ],
      "text/plain": [
       "   Sales_in_CAD New_or_Returning\n",
       "0       1897.60       Returning \n",
       "1      28963.00       Returning \n",
       "2      76339.00       Returning \n",
       "3      24318.92              New\n",
       "4      35084.00              New"
      ]
     },
     "execution_count": 168,
     "metadata": {},
     "output_type": "execute_result"
    }
   ],
   "source": [
    "# Grabbing 2 columns from a previously cleaned data set (Change_New) \n",
    "Customers_df = Change_New[['Sales_in_CAD', 'New_or_Returning']]\n",
    "Customers_df.head()"
   ]
  },
  {
   "cell_type": "code",
   "execution_count": 169,
   "metadata": {
    "collapsed": false
   },
   "outputs": [
    {
     "data": {
      "text/plain": [
       "<matplotlib.text.Text at 0x947d780>"
      ]
     },
     "execution_count": 169,
     "metadata": {},
     "output_type": "execute_result"
    },
    {
     "data": {
      "image/png": "[encoded data removed]",
      "text/plain": [
       "<matplotlib.figure.Figure at 0x9f3cf60>"
      ]
     },
     "metadata": {},
     "output_type": "display_data"
    }
   ],
   "source": [
    "# Creating a boxplot of New versus Returning customer Sales.\n",
    "Customers_df.boxplot(by = 'New_or_Returning', column='Sales_in_CAD', figsize=(10,10))\n",
    "plt.ylim(0, 45000)\n",
    "plt.title('Sales to New vs. Returning customers from 2010 - 2015')\n",
    "plt.xlabel('Type of Customer')\n",
    "plt.ylabel('Sales in CAD')\n"
   ]
  },
  {
   "cell_type": "code",
   "execution_count": null,
   "metadata": {
    "collapsed": true
   },
   "outputs": [],
   "source": []
  },
  {
   "cell_type": "code",
   "execution_count": null,
   "metadata": {
    "collapsed": true
   },
   "outputs": [],
   "source": []
  },
  {
   "cell_type": "code",
   "execution_count": null,
   "metadata": {
    "collapsed": true
   },
   "outputs": [],
   "source": []
  }
 ],
 "metadata": {
  "kernelspec": {
   "display_name": "Python 3",
   "language": "python",
   "name": "python3"
  },
  "language_info": {
   "codemirror_mode": {
    "name": "ipython",
    "version": 3
   },
   "file_extension": ".py",
   "mimetype": "text/x-python",
   "name": "python",
   "nbconvert_exporter": "python",
   "pygments_lexer": "ipython3",
   "version": "3.4.3"
  }
 },
 "nbformat": 4,
 "nbformat_minor": 0
}
