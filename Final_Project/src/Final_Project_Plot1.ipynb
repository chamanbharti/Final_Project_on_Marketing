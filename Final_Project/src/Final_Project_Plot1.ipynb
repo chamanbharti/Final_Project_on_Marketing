{
 "cells": [
  {
   "cell_type": "code",
   "execution_count": 141,
   "metadata": {
    "collapsed": true
   },
   "outputs": [],
   "source": [
    "# Import Libraries\n",
    "import pandas as pd\n",
    "import xlsxwriter\n",
    "import matplotlib.pyplot as plt\n",
    "import numpy as np\n",
    "\n",
    "# Importing statistics libraries\n",
    "import statsmodels.api as sm\n",
    "\n",
    "#show plot in notebook\n",
    "%matplotlib inline "
   ]
  },
  {
   "cell_type": "markdown",
   "metadata": {},
   "source": [
    "# Loading and Cleaning the Data"
   ]
  },
  {
   "cell_type": "code",
   "execution_count": 142,
   "metadata": {
    "collapsed": false
   },
   "outputs": [],
   "source": [
    "def load_SalesData(dataframe, sheetname):\n",
    "    '''This function loads an excel dataframe in a specified sheet containing information on \n",
    "    Sales Amounts and Dates of Order. It also renames the columns, replaces empty values in the \n",
    "    exchange rate column with 1, and creates a new column of Sales_in_CAD'''\n",
    "    #Loading the main dataset from excel into python, specified taking data from the 'Sales' sheet\n",
    "    data = pd.read_excel(dataframe, sheetname)\n",
    "    # Renaming the columns \n",
    "    data.columns = [['Exchange_Rate', 'Customer', 'Field', 'Date_of_Order', 'Total_Sales', \n",
    "                        'Year_of_First_Order', 'New_or_Returning']]\n",
    "    # Replacing the empty values in the Exchange Rate column with 1 and setting the index to Date_of_Order\n",
    "    Sales_df= data[['Exchange_Rate', 'Customer', 'Field', 'Date_of_Order', 'Total_Sales', \n",
    "                        'Year_of_First_Order', 'New_or_Returning']].replace([None], [1]).set_index('Date_of_Order')\n",
    "    # Creating a new column in the data set, which puts all sales amounts in Canadian dollars. \n",
    "    Sales_df['Sales_in_CAD'] = Sales_df['Exchange_Rate'] * Sales_df['Total_Sales']\n",
    "    \n",
    "    #Returning the cleaned table\n",
    "    return Sales_df\n",
    "    \n",
    "def load_AdsData (dataframe, sheetname):\n",
    "    '''This fucntion loads an excel dataframe in a specified sheet containing information on \n",
    "    Cost of Ads per month. It also renames the two columns.'''\n",
    "    #Loading another dataset from excel into python from a different sheet, and making the Date column the index.\n",
    "    Ads_df = pd.read_excel(dataframe, sheetname).set_index('Date')\n",
    "    # Renaming the columns\n",
    "    Ads_df.columns = [['Ad_Cost']]\n",
    "    \n",
    "    return Ads_df"
   ]
  },
  {
   "cell_type": "code",
   "execution_count": 143,
   "metadata": {
    "collapsed": false
   },
   "outputs": [
    {
     "data": {
      "text/html": [
       "<div>\n",
       "<table border=\"1\" class=\"dataframe\">\n",
       "  <thead>\n",
       "    <tr style=\"text-align: right;\">\n",
       "      <th></th>\n",
       "      <th>Ad_Cost</th>\n",
       "    </tr>\n",
       "    <tr>\n",
       "      <th>Date</th>\n",
       "      <th></th>\n",
       "    </tr>\n",
       "  </thead>\n",
       "  <tbody>\n",
       "    <tr>\n",
       "      <th>2013-08-01</th>\n",
       "      <td>947.94</td>\n",
       "    </tr>\n",
       "    <tr>\n",
       "      <th>2013-09-01</th>\n",
       "      <td>936.06</td>\n",
       "    </tr>\n",
       "    <tr>\n",
       "      <th>2013-10-01</th>\n",
       "      <td>935.72</td>\n",
       "    </tr>\n",
       "    <tr>\n",
       "      <th>2013-11-01</th>\n",
       "      <td>930.47</td>\n",
       "    </tr>\n",
       "    <tr>\n",
       "      <th>2013-12-01</th>\n",
       "      <td>948.00</td>\n",
       "    </tr>\n",
       "  </tbody>\n",
       "</table>\n",
       "</div>"
      ],
      "text/plain": [
       "            Ad_Cost\n",
       "Date               \n",
       "2013-08-01   947.94\n",
       "2013-09-01   936.06\n",
       "2013-10-01   935.72\n",
       "2013-11-01   930.47\n",
       "2013-12-01   948.00"
      ]
     },
     "execution_count": 143,
     "metadata": {},
     "output_type": "execute_result"
    }
   ],
   "source": [
    "# Testing the load data functions to see what the output table looks like\n",
    "Salesdata = load_SalesData ('../data/SalesDataA.xlsm', sheetname = 'Sales')\n",
    "Adsdata = load_AdsData ('../data/SalesDataA.xlsm', sheetname = 'Ads')\n",
    "Adsdata.head()"
   ]
  },
  {
   "cell_type": "markdown",
   "metadata": {},
   "source": [
    "# Merging the two Dataframes, and downsampling to Month. "
   ]
  },
  {
   "cell_type": "code",
   "execution_count": 144,
   "metadata": {
    "collapsed": true
   },
   "outputs": [],
   "source": [
    "def merging_data(dataframe1, dataframe2):\n",
    "    '''This function merges the two dataframes that were previously \n",
    "    created with the two loading data functions. It resamples the Date column to Month and then \n",
    "    merges the two dataframes by the Date column. The function returns the merged dataframe.'''\n",
    "    \n",
    "    # The Exchange_df has to be downsampled first:\n",
    "    # All rows with dates equal to and under 2013-07-31 will be deleted.\n",
    "    Change_New = dataframe1[dataframe1.index > '2013-07-31'].reset_index()\n",
    "    # Deleting all rows of sales from returning customers, to obtain Sales only from new customers. \n",
    "    Change1_New = Change_New.groupby(['New_or_Returning']).get_group('New')\n",
    "    # Grabbing 3 columns from the dataset and setting the index to Date of order.\n",
    "    Resampled_ind = Change1_New[['Date_of_Order', 'Sales_in_CAD', 'New_or_Returning']].set_index('Date_of_Order')\n",
    "    # Replacing the 'New' string with the number 1 so that they can be added later.\n",
    "    # And data is downsampled to month, taking the sum of the Sales and the new customers in each month. \n",
    "    Index_Month= Resampled_ind[['New_or_Returning', 'Sales_in_CAD']].replace(['New'], [1]).resample('M', how=('sum')) \n",
    " \n",
    "    # Resampling the date column, so that the month is synonymous with the other table \n",
    "    Ads1_df = dataframe2.resample('M', how=('sum'))\n",
    "    \n",
    "    # Now the two dataframes will be combined:\n",
    "    # Combining the two dataframes by the date of order, and resetting the index.\n",
    "    Combined_df = pd.concat([Index_Month, Ads1_df], axis=1, join_axes=[Index_Month.index]).reset_index()\n",
    "    \n",
    "    return Combined_df"
   ]
  },
  {
   "cell_type": "code",
   "execution_count": 145,
   "metadata": {
    "collapsed": false
   },
   "outputs": [
    {
     "data": {
      "text/html": [
       "<div>\n",
       "<table border=\"1\" class=\"dataframe\">\n",
       "  <thead>\n",
       "    <tr style=\"text-align: right;\">\n",
       "      <th></th>\n",
       "      <th>Date_of_Order</th>\n",
       "      <th>New_or_Returning</th>\n",
       "      <th>Sales_in_CAD</th>\n",
       "      <th>Ad_Cost</th>\n",
       "    </tr>\n",
       "  </thead>\n",
       "  <tbody>\n",
       "    <tr>\n",
       "      <th>0</th>\n",
       "      <td>2013-08-31</td>\n",
       "      <td>3</td>\n",
       "      <td>7824.91800</td>\n",
       "      <td>947.94</td>\n",
       "    </tr>\n",
       "    <tr>\n",
       "      <th>1</th>\n",
       "      <td>2013-09-30</td>\n",
       "      <td>4</td>\n",
       "      <td>14447.37160</td>\n",
       "      <td>936.06</td>\n",
       "    </tr>\n",
       "    <tr>\n",
       "      <th>2</th>\n",
       "      <td>2013-10-31</td>\n",
       "      <td>5</td>\n",
       "      <td>10098.77148</td>\n",
       "      <td>935.72</td>\n",
       "    </tr>\n",
       "    <tr>\n",
       "      <th>3</th>\n",
       "      <td>2013-11-30</td>\n",
       "      <td>10</td>\n",
       "      <td>42933.68158</td>\n",
       "      <td>930.47</td>\n",
       "    </tr>\n",
       "    <tr>\n",
       "      <th>4</th>\n",
       "      <td>2013-12-31</td>\n",
       "      <td>5</td>\n",
       "      <td>38029.40040</td>\n",
       "      <td>948.00</td>\n",
       "    </tr>\n",
       "  </tbody>\n",
       "</table>\n",
       "</div>"
      ],
      "text/plain": [
       "  Date_of_Order  New_or_Returning  Sales_in_CAD  Ad_Cost\n",
       "0    2013-08-31                 3    7824.91800   947.94\n",
       "1    2013-09-30                 4   14447.37160   936.06\n",
       "2    2013-10-31                 5   10098.77148   935.72\n",
       "3    2013-11-30                10   42933.68158   930.47\n",
       "4    2013-12-31                 5   38029.40040   948.00"
      ]
     },
     "execution_count": 145,
     "metadata": {},
     "output_type": "execute_result"
    }
   ],
   "source": [
    "# Testing the merging data function with dataframes\n",
    "Combineddata = merging_data(Salesdata, Adsdata)\n",
    "Combineddata.head()"
   ]
  },
  {
   "cell_type": "markdown",
   "metadata": {},
   "source": [
    "# Running Linear Regression test on the data"
   ]
  },
  {
   "cell_type": "code",
   "execution_count": 146,
   "metadata": {
    "collapsed": true
   },
   "outputs": [],
   "source": [
    "def lm (x, y, data):\n",
    "    '''This function calculates the linear regression of a scatter plot, where the \n",
    "    independent input variable is x and the dependant input variable is y.\n",
    "    This function will print a summary of the results in a table.'''\n",
    "    # Running linear regression on the plot \n",
    "    lm = sm.formula.ols(formula = 'y ~ x', data = data).fit()\n",
    "    # generating a new data frame of the x variable, to produce a list of numbers from 1 to the same length as the x variable\n",
    "    x_new = pd.DataFrame({'newdata' : range(1,len(x)+1)})\n",
    "    # using the predict function to predict the y values based on x\n",
    "    y_preds = lm.predict(x_new)\n",
    "    \n",
    "    # printing the summary of the linear model\n",
    "    print(lm.summary())"
   ]
  },
  {
   "cell_type": "code",
   "execution_count": 147,
   "metadata": {
    "collapsed": false
   },
   "outputs": [
    {
     "name": "stdout",
     "output_type": "stream",
     "text": [
      "                            OLS Regression Results                            \n",
      "==============================================================================\n",
      "Dep. Variable:                      y   R-squared:                       0.014\n",
      "Model:                            OLS   Adj. R-squared:                 -0.031\n",
      "Method:                 Least Squares   F-statistic:                    0.3157\n",
      "Date:                Tue, 17 Nov 2015   Prob (F-statistic):              0.580\n",
      "Time:                        14:33:25   Log-Likelihood:                -260.07\n",
      "No. Observations:                  24   AIC:                             524.1\n",
      "Df Residuals:                      22   BIC:                             526.5\n",
      "Df Model:                           1                                         \n",
      "Covariance Type:            nonrobust                                         \n",
      "==============================================================================\n",
      "                 coef    std err          t      P>|t|      [95.0% Conf. Int.]\n",
      "------------------------------------------------------------------------------\n",
      "Intercept   2.621e+04   8874.566      2.954      0.007      7808.531  4.46e+04\n",
      "x             -4.9544      8.818     -0.562      0.580       -23.242    13.333\n",
      "==============================================================================\n",
      "Omnibus:                        3.774   Durbin-Watson:                   1.815\n",
      "Prob(Omnibus):                  0.152   Jarque-Bera (JB):                3.155\n",
      "Skew:                           0.870   Prob(JB):                        0.206\n",
      "Kurtosis:                       2.644   Cond. No.                     3.41e+03\n",
      "==============================================================================\n",
      "\n",
      "Warnings:\n",
      "[1] Standard Errors assume that the covariance matrix of the errors is correctly specified.\n",
      "[2] The condition number is large, 3.41e+03. This might indicate that there are\n",
      "strong multicollinearity or other numerical problems.\n"
     ]
    }
   ],
   "source": [
    "# Testing the linear model function to print a table of the summary of the analysis\n",
    "lm(Combineddata.Ad_Cost, Combineddata.Sales_in_CAD, Combineddata)"
   ]
  },
  {
   "cell_type": "markdown",
   "metadata": {
    "collapsed": true
   },
   "source": [
    "# Creating a function that will plot the regression line"
   ]
  },
  {
   "cell_type": "code",
   "execution_count": 148,
   "metadata": {
    "collapsed": true
   },
   "outputs": [],
   "source": [
    "def plot_lm (x, y):\n",
    "    '''This function plots the linear regression line of a given scatter plot,\n",
    "    where x is the depedant variable and y is the independant vairable.'''\n",
    "    # Adds a column of ones as long as the x column, which will allow the calculation of the intercept\n",
    "    X = sm.add_constant(x)\n",
    "    # Creates a linear model of the scatter plot \n",
    "    lm = sm.formula.OLS(y, X).fit()\n",
    "    # Predicts the x values from x min to x max, using 24 different values \n",
    "    x_pred= np.linspace(x.min(),x.max(), 24)\n",
    "    # Adds the column of ones previously created to the x value predictions\n",
    "    x_pred2 = sm.add_constant(x_pred)\n",
    "    # Predicts the y values, based on the x value predictions\n",
    "    y_preds = lm.predict(x_pred2)\n",
    "    \n",
    "    # Plots the linear regression line using the predicted x values and the predicted y values\n",
    "    plt.plot(x_pred, y_preds, color='k', linewidth = 2)\n",
    "    \n",
    "    return plt.plot()"
   ]
  },
  {
   "cell_type": "markdown",
   "metadata": {},
   "source": [
    "# Creating a scatter plot with the linear regression line"
   ]
  },
  {
   "cell_type": "code",
   "execution_count": 149,
   "metadata": {
    "collapsed": false
   },
   "outputs": [],
   "source": [
    "def plot(x, y, plotname):\n",
    "    '''This function will make a scatter plot, taking in data from two columns of a dataframe.\n",
    "    These two columns will be plotted on the x and y axis respectively. The produced figure will be \n",
    "    saved to a filename specified by the user in the input'''\n",
    "    #Defining the size of the figure\n",
    "    plt.figure(figsize=(8,5))\n",
    "    # Creating a scatter plot from the dataframe\n",
    "    plt.scatter(x, y)\n",
    "    # Defining the y axis label\n",
    "    plt.ylabel(y.name)\n",
    "    # Defining the x-axis label \n",
    "    plt.xlabel(x.name)\n",
    "    \n",
    "    # Adding the linear model function, to plot the regression line on the plot\n",
    "    plot_lm(x, y)\n",
    "    #Saving the plot to a new file \n",
    "    plt.savefig(plotname)"
   ]
  },
  {
   "cell_type": "code",
   "execution_count": 150,
   "metadata": {
    "collapsed": false
   },
   "outputs": [
    {
     "name": "stderr",
     "output_type": "stream",
     "text": [
      "C:\\Users\\mim\\Anaconda3\\lib\\site-packages\\matplotlib\\collections.py:590: FutureWarning: elementwise comparison failed; returning scalar instead, but in the future will perform elementwise comparison\n",
      "  if self._edgecolors == str('face'):\n"
     ]
    },
    {
     "data": {
      "image/png": "[encoded data removed]",
      "text/plain": [
       "<matplotlib.figure.Figure at 0x1802600cf8>"
      ]
     },
     "metadata": {},
     "output_type": "display_data"
    }
   ],
   "source": [
    "# Testing the plot function \n",
    "plot(Combineddata.Ad_Cost, Combineddata.Sales_in_CAD,'plot.pdf')"
   ]
  },
  {
   "cell_type": "code",
   "execution_count": null,
   "metadata": {
    "collapsed": true
   },
   "outputs": [],
   "source": []
  }
 ],
 "metadata": {
  "kernelspec": {
   "display_name": "Python 3",
   "language": "python",
   "name": "python3"
  },
  "language_info": {
   "codemirror_mode": {
    "name": "ipython",
    "version": 3
   },
   "file_extension": ".py",
   "mimetype": "text/x-python",
   "name": "python",
   "nbconvert_exporter": "python",
   "pygments_lexer": "ipython3",
   "version": "3.5.0"
  }
 },
 "nbformat": 4,
 "nbformat_minor": 0
}
